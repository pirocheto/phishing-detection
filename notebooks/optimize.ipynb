{
 "cells": [
  {
   "cell_type": "markdown",
   "metadata": {},
   "source": [
    "# Hyperparameter Optimization\n",
    "\n",
    "This notebook uses Optuna, a hyperparameter optimization framework, to optimize the hyperparameters."
   ]
  },
  {
   "cell_type": "code",
   "execution_count": 1,
   "metadata": {},
   "outputs": [
    {
     "name": "stderr",
     "output_type": "stream",
     "text": [
      "/home/prochet/miniconda3/envs/phishing/lib/python3.10/site-packages/tqdm/auto.py:21: TqdmWarning: IProgress not found. Please update jupyter and ipywidgets. See https://ipywidgets.readthedocs.io/en/stable/user_install.html\n",
      "  from .autonotebook import tqdm as notebook_tqdm\n"
     ]
    }
   ],
   "source": [
    "# Load the autoreload extension to automatically reload modules when they are modified.\n",
    "%load_ext autoreload\n",
    "\n",
    "# Configure the autoreload extension to automatically reload imported modules.\n",
    "%autoreload 2\n",
    "\n",
    "# Add the path '../src' to the module search path.\n",
    "import sys\n",
    "sys.path.append('../src')\n",
    "\n",
    "# Import the optuna library for hyperparameter optimization.\n",
    "import optuna\n",
    "import logging\n",
    "from rich.logging import RichHandler\n",
    "\n",
    "# Get the logger named \"optuna\" and add a RichHandler to it for colored logging.\n",
    "optuna.logging.disable_default_handler()\n",
    "logger = logging.getLogger(\"optuna\")\n",
    "if not logger.hasHandlers():\n",
    "    logger.addHandler(RichHandler())\n"
   ]
  },
  {
   "cell_type": "markdown",
   "metadata": {},
   "source": [
    "###  Hyperparameter Optimization using Optuna\n",
    "\n",
    "1. **`get_hyperparams` Function:** This function defines a search space for hyperparameters, including TF-IDF and SVM-related parameters. It returns a dictionary containing the hyperparameters to be optimized.\n",
    "\n",
    "2. **`objective` Function:** This function defines the objective to be minimized during optimization. It creates a model pipeline with hyperparameters, scores the model on training data, and sets the mean scores as user attributes in the Optuna trial. The optimization objective is the minimum of the mean ROC AUC score.\n",
    "\n",
    "3. **`optimize` Function:** This function creates an Optuna study, loads training data, and runs the optimization study using the defined objective function. The study is configured for parallel execution (`n_jobs`) and a specified number of trials (`n_trials`).\n",
    "\n",
    "`Note`:  \n",
    "A SQLite database is created to store the trial results, allowing the cell to be executed multiple times, resuming from the last trial. To start a new study, simply delete the existing database (./optuna.db)."
   ]
  },
  {
   "cell_type": "code",
   "execution_count": 3,
   "metadata": {
    "tags": []
   },
   "outputs": [
    {
     "data": {
      "text/html": [
       "<pre style=\"white-space:pre;overflow-x:auto;line-height:normal;font-family:Menlo,'DejaVu Sans Mono',consolas,'Courier New',monospace\"><span style=\"color: #7fbfbf; text-decoration-color: #7fbfbf\">[11/29/23 17:05:23] </span><span style=\"color: #000080; text-decoration-color: #000080\">INFO    </span> Using an existing study with name <span style=\"color: #008000; text-decoration-color: #008000\">'optimize-model'</span> instead of creating a <a href=\"file:///home/prochet/miniconda3/envs/phishing/lib/python3.10/site-packages/optuna/study/study.py\" target=\"_blank\"><span style=\"color: #7f7f7f; text-decoration-color: #7f7f7f\">study.py</span></a><span style=\"color: #7f7f7f; text-decoration-color: #7f7f7f\">:</span><a href=\"file:///home/prochet/miniconda3/envs/phishing/lib/python3.10/site-packages/optuna/study/study.py#1253\" target=\"_blank\"><span style=\"color: #7f7f7f; text-decoration-color: #7f7f7f\">1253</span></a>\n",
       "<span style=\"color: #7fbfbf; text-decoration-color: #7fbfbf\">                    </span>         new one.                                                                 <span style=\"color: #7f7f7f; text-decoration-color: #7f7f7f\">             </span>\n",
       "</pre>\n"
      ],
      "text/plain": [
       "\u001b[2;36m[11/29/23 17:05:23]\u001b[0m\u001b[2;36m \u001b[0m\u001b[34mINFO    \u001b[0m Using an existing study with name \u001b[32m'optimize-model'\u001b[0m instead of creating a \u001b]8;id=922332;file:///home/prochet/miniconda3/envs/phishing/lib/python3.10/site-packages/optuna/study/study.py\u001b\\\u001b[2mstudy.py\u001b[0m\u001b]8;;\u001b\\\u001b[2m:\u001b[0m\u001b]8;id=988491;file:///home/prochet/miniconda3/envs/phishing/lib/python3.10/site-packages/optuna/study/study.py#1253\u001b\\\u001b[2m1253\u001b[0m\u001b]8;;\u001b\\\n",
       "\u001b[2;36m                    \u001b[0m         new one.                                                                 \u001b[2m             \u001b[0m\n"
      ]
     },
     "metadata": {},
     "output_type": "display_data"
    },
    {
     "data": {
      "text/html": [
       "<pre style=\"white-space:pre;overflow-x:auto;line-height:normal;font-family:Menlo,'DejaVu Sans Mono',consolas,'Courier New',monospace\"><span style=\"color: #7fbfbf; text-decoration-color: #7fbfbf\">[11/29/23 17:06:12] </span><span style=\"color: #000080; text-decoration-color: #000080\">INFO    </span> Trial <span style=\"color: #008080; text-decoration-color: #008080; font-weight: bold\">14</span> finished with value: <span style=\"color: #008080; text-decoration-color: #008080; font-weight: bold\">0.980288397706998</span> and parameters:          <a href=\"file:///home/prochet/miniconda3/envs/phishing/lib/python3.10/site-packages/optuna/study/study.py\" target=\"_blank\"><span style=\"color: #7f7f7f; text-decoration-color: #7f7f7f\">study.py</span></a><span style=\"color: #7f7f7f; text-decoration-color: #7f7f7f\">:</span><a href=\"file:///home/prochet/miniconda3/envs/phishing/lib/python3.10/site-packages/optuna/study/study.py#1110\" target=\"_blank\"><span style=\"color: #7f7f7f; text-decoration-color: #7f7f7f\">1110</span></a>\n",
       "<span style=\"color: #7fbfbf; text-decoration-color: #7fbfbf\">                    </span>         <span style=\"font-weight: bold\">{</span><span style=\"color: #008000; text-decoration-color: #008000\">'max_ngram_word'</span>: <span style=\"color: #008080; text-decoration-color: #008080; font-weight: bold\">3</span>, <span style=\"color: #008000; text-decoration-color: #008000\">'max_ngram_char'</span>: <span style=\"color: #008080; text-decoration-color: #008080; font-weight: bold\">5</span>, <span style=\"color: #008000; text-decoration-color: #008000\">'use_idf'</span>: <span style=\"color: #ff0000; text-decoration-color: #ff0000; font-style: italic\">False</span>,             <span style=\"color: #7f7f7f; text-decoration-color: #7f7f7f\">             </span>\n",
       "<span style=\"color: #7fbfbf; text-decoration-color: #7fbfbf\">                    </span>         <span style=\"color: #008000; text-decoration-color: #008000\">'lowercase'</span>: <span style=\"color: #ff0000; text-decoration-color: #ff0000; font-style: italic\">False</span>, <span style=\"color: #008000; text-decoration-color: #008000\">'C'</span>: <span style=\"color: #008080; text-decoration-color: #008080; font-weight: bold\">8.83612089817478</span>, <span style=\"color: #008000; text-decoration-color: #008000\">'loss'</span>: <span style=\"color: #008000; text-decoration-color: #008000\">'hinge'</span>, <span style=\"color: #008000; text-decoration-color: #008000\">'tol'</span>:       <span style=\"color: #7f7f7f; text-decoration-color: #7f7f7f\">             </span>\n",
       "<span style=\"color: #7fbfbf; text-decoration-color: #7fbfbf\">                    </span>         <span style=\"color: #008080; text-decoration-color: #008080; font-weight: bold\">0.09959670485999282</span>, <span style=\"color: #008000; text-decoration-color: #008000\">'calibration'</span>: <span style=\"color: #008000; text-decoration-color: #008000\">'sigmoid'</span><span style=\"font-weight: bold\">}</span>. Best is trial <span style=\"color: #008080; text-decoration-color: #008080; font-weight: bold\">14</span> with    <span style=\"color: #7f7f7f; text-decoration-color: #7f7f7f\">             </span>\n",
       "<span style=\"color: #7fbfbf; text-decoration-color: #7fbfbf\">                    </span>         value: <span style=\"color: #008080; text-decoration-color: #008080; font-weight: bold\">0.980288397706998</span>.                                                <span style=\"color: #7f7f7f; text-decoration-color: #7f7f7f\">             </span>\n",
       "</pre>\n"
      ],
      "text/plain": [
       "\u001b[2;36m[11/29/23 17:06:12]\u001b[0m\u001b[2;36m \u001b[0m\u001b[34mINFO    \u001b[0m Trial \u001b[1;36m14\u001b[0m finished with value: \u001b[1;36m0.980288397706998\u001b[0m and parameters:          \u001b]8;id=429972;file:///home/prochet/miniconda3/envs/phishing/lib/python3.10/site-packages/optuna/study/study.py\u001b\\\u001b[2mstudy.py\u001b[0m\u001b]8;;\u001b\\\u001b[2m:\u001b[0m\u001b]8;id=561247;file:///home/prochet/miniconda3/envs/phishing/lib/python3.10/site-packages/optuna/study/study.py#1110\u001b\\\u001b[2m1110\u001b[0m\u001b]8;;\u001b\\\n",
       "\u001b[2;36m                    \u001b[0m         \u001b[1m{\u001b[0m\u001b[32m'max_ngram_word'\u001b[0m: \u001b[1;36m3\u001b[0m, \u001b[32m'max_ngram_char'\u001b[0m: \u001b[1;36m5\u001b[0m, \u001b[32m'use_idf'\u001b[0m: \u001b[3;91mFalse\u001b[0m,             \u001b[2m             \u001b[0m\n",
       "\u001b[2;36m                    \u001b[0m         \u001b[32m'lowercase'\u001b[0m: \u001b[3;91mFalse\u001b[0m, \u001b[32m'C'\u001b[0m: \u001b[1;36m8.83612089817478\u001b[0m, \u001b[32m'loss'\u001b[0m: \u001b[32m'hinge'\u001b[0m, \u001b[32m'tol'\u001b[0m:       \u001b[2m             \u001b[0m\n",
       "\u001b[2;36m                    \u001b[0m         \u001b[1;36m0.09959670485999282\u001b[0m, \u001b[32m'calibration'\u001b[0m: \u001b[32m'sigmoid'\u001b[0m\u001b[1m}\u001b[0m. Best is trial \u001b[1;36m14\u001b[0m with    \u001b[2m             \u001b[0m\n",
       "\u001b[2;36m                    \u001b[0m         value: \u001b[1;36m0.980288397706998\u001b[0m.                                                \u001b[2m             \u001b[0m\n"
      ]
     },
     "metadata": {},
     "output_type": "display_data"
    },
    {
     "data": {
      "text/html": [
       "<pre style=\"white-space:pre;overflow-x:auto;line-height:normal;font-family:Menlo,'DejaVu Sans Mono',consolas,'Courier New',monospace\"><span style=\"color: #7fbfbf; text-decoration-color: #7fbfbf\">[11/29/23 17:06:46] </span><span style=\"color: #000080; text-decoration-color: #000080\">INFO    </span> Trial <span style=\"color: #008080; text-decoration-color: #008080; font-weight: bold\">11</span> finished with value: <span style=\"color: #008080; text-decoration-color: #008080; font-weight: bold\">0.98028805863207</span> and parameters:           <a href=\"file:///home/prochet/miniconda3/envs/phishing/lib/python3.10/site-packages/optuna/study/study.py\" target=\"_blank\"><span style=\"color: #7f7f7f; text-decoration-color: #7f7f7f\">study.py</span></a><span style=\"color: #7f7f7f; text-decoration-color: #7f7f7f\">:</span><a href=\"file:///home/prochet/miniconda3/envs/phishing/lib/python3.10/site-packages/optuna/study/study.py#1110\" target=\"_blank\"><span style=\"color: #7f7f7f; text-decoration-color: #7f7f7f\">1110</span></a>\n",
       "<span style=\"color: #7fbfbf; text-decoration-color: #7fbfbf\">                    </span>         <span style=\"font-weight: bold\">{</span><span style=\"color: #008000; text-decoration-color: #008000\">'max_ngram_word'</span>: <span style=\"color: #008080; text-decoration-color: #008080; font-weight: bold\">3</span>, <span style=\"color: #008000; text-decoration-color: #008000\">'max_ngram_char'</span>: <span style=\"color: #008080; text-decoration-color: #008080; font-weight: bold\">5</span>, <span style=\"color: #008000; text-decoration-color: #008000\">'use_idf'</span>: <span style=\"color: #ff0000; text-decoration-color: #ff0000; font-style: italic\">False</span>,             <span style=\"color: #7f7f7f; text-decoration-color: #7f7f7f\">             </span>\n",
       "<span style=\"color: #7fbfbf; text-decoration-color: #7fbfbf\">                    </span>         <span style=\"color: #008000; text-decoration-color: #008000\">'lowercase'</span>: <span style=\"color: #ff0000; text-decoration-color: #ff0000; font-style: italic\">False</span>, <span style=\"color: #008000; text-decoration-color: #008000\">'C'</span>: <span style=\"color: #008080; text-decoration-color: #008080; font-weight: bold\">8.076568174726324</span>, <span style=\"color: #008000; text-decoration-color: #008000\">'loss'</span>: <span style=\"color: #008000; text-decoration-color: #008000\">'hinge'</span>, <span style=\"color: #008000; text-decoration-color: #008000\">'tol'</span>:      <span style=\"color: #7f7f7f; text-decoration-color: #7f7f7f\">             </span>\n",
       "<span style=\"color: #7fbfbf; text-decoration-color: #7fbfbf\">                    </span>         <span style=\"color: #008080; text-decoration-color: #008080; font-weight: bold\">2.4329864714958346e-05</span>, <span style=\"color: #008000; text-decoration-color: #008000\">'calibration'</span>: <span style=\"color: #008000; text-decoration-color: #008000\">'sigmoid'</span><span style=\"font-weight: bold\">}</span>. Best is trial <span style=\"color: #008080; text-decoration-color: #008080; font-weight: bold\">14</span> with <span style=\"color: #7f7f7f; text-decoration-color: #7f7f7f\">             </span>\n",
       "<span style=\"color: #7fbfbf; text-decoration-color: #7fbfbf\">                    </span>         value: <span style=\"color: #008080; text-decoration-color: #008080; font-weight: bold\">0.980288397706998</span>.                                                <span style=\"color: #7f7f7f; text-decoration-color: #7f7f7f\">             </span>\n",
       "</pre>\n"
      ],
      "text/plain": [
       "\u001b[2;36m[11/29/23 17:06:46]\u001b[0m\u001b[2;36m \u001b[0m\u001b[34mINFO    \u001b[0m Trial \u001b[1;36m11\u001b[0m finished with value: \u001b[1;36m0.98028805863207\u001b[0m and parameters:           \u001b]8;id=151983;file:///home/prochet/miniconda3/envs/phishing/lib/python3.10/site-packages/optuna/study/study.py\u001b\\\u001b[2mstudy.py\u001b[0m\u001b]8;;\u001b\\\u001b[2m:\u001b[0m\u001b]8;id=829500;file:///home/prochet/miniconda3/envs/phishing/lib/python3.10/site-packages/optuna/study/study.py#1110\u001b\\\u001b[2m1110\u001b[0m\u001b]8;;\u001b\\\n",
       "\u001b[2;36m                    \u001b[0m         \u001b[1m{\u001b[0m\u001b[32m'max_ngram_word'\u001b[0m: \u001b[1;36m3\u001b[0m, \u001b[32m'max_ngram_char'\u001b[0m: \u001b[1;36m5\u001b[0m, \u001b[32m'use_idf'\u001b[0m: \u001b[3;91mFalse\u001b[0m,             \u001b[2m             \u001b[0m\n",
       "\u001b[2;36m                    \u001b[0m         \u001b[32m'lowercase'\u001b[0m: \u001b[3;91mFalse\u001b[0m, \u001b[32m'C'\u001b[0m: \u001b[1;36m8.076568174726324\u001b[0m, \u001b[32m'loss'\u001b[0m: \u001b[32m'hinge'\u001b[0m, \u001b[32m'tol'\u001b[0m:      \u001b[2m             \u001b[0m\n",
       "\u001b[2;36m                    \u001b[0m         \u001b[1;36m2.4329864714958346e-05\u001b[0m, \u001b[32m'calibration'\u001b[0m: \u001b[32m'sigmoid'\u001b[0m\u001b[1m}\u001b[0m. Best is trial \u001b[1;36m14\u001b[0m with \u001b[2m             \u001b[0m\n",
       "\u001b[2;36m                    \u001b[0m         value: \u001b[1;36m0.980288397706998\u001b[0m.                                                \u001b[2m             \u001b[0m\n"
      ]
     },
     "metadata": {},
     "output_type": "display_data"
    },
    {
     "data": {
      "text/html": [
       "<pre style=\"white-space:pre;overflow-x:auto;line-height:normal;font-family:Menlo,'DejaVu Sans Mono',consolas,'Courier New',monospace\"><span style=\"color: #7fbfbf; text-decoration-color: #7fbfbf\">                    </span><span style=\"color: #000080; text-decoration-color: #000080\">INFO    </span> Trial <span style=\"color: #008080; text-decoration-color: #008080; font-weight: bold\">12</span> finished with value: <span style=\"color: #008080; text-decoration-color: #008080; font-weight: bold\">0.9802900850614682</span> and parameters:         <a href=\"file:///home/prochet/miniconda3/envs/phishing/lib/python3.10/site-packages/optuna/study/study.py\" target=\"_blank\"><span style=\"color: #7f7f7f; text-decoration-color: #7f7f7f\">study.py</span></a><span style=\"color: #7f7f7f; text-decoration-color: #7f7f7f\">:</span><a href=\"file:///home/prochet/miniconda3/envs/phishing/lib/python3.10/site-packages/optuna/study/study.py#1110\" target=\"_blank\"><span style=\"color: #7f7f7f; text-decoration-color: #7f7f7f\">1110</span></a>\n",
       "<span style=\"color: #7fbfbf; text-decoration-color: #7fbfbf\">                    </span>         <span style=\"font-weight: bold\">{</span><span style=\"color: #008000; text-decoration-color: #008000\">'max_ngram_word'</span>: <span style=\"color: #008080; text-decoration-color: #008080; font-weight: bold\">3</span>, <span style=\"color: #008000; text-decoration-color: #008000\">'max_ngram_char'</span>: <span style=\"color: #008080; text-decoration-color: #008080; font-weight: bold\">5</span>, <span style=\"color: #008000; text-decoration-color: #008000\">'use_idf'</span>: <span style=\"color: #ff0000; text-decoration-color: #ff0000; font-style: italic\">False</span>,             <span style=\"color: #7f7f7f; text-decoration-color: #7f7f7f\">             </span>\n",
       "<span style=\"color: #7fbfbf; text-decoration-color: #7fbfbf\">                    </span>         <span style=\"color: #008000; text-decoration-color: #008000\">'lowercase'</span>: <span style=\"color: #ff0000; text-decoration-color: #ff0000; font-style: italic\">False</span>, <span style=\"color: #008000; text-decoration-color: #008000\">'C'</span>: <span style=\"color: #008080; text-decoration-color: #008080; font-weight: bold\">2.430285791922417</span>, <span style=\"color: #008000; text-decoration-color: #008000\">'loss'</span>: <span style=\"color: #008000; text-decoration-color: #008000\">'hinge'</span>, <span style=\"color: #008000; text-decoration-color: #008000\">'tol'</span>:      <span style=\"color: #7f7f7f; text-decoration-color: #7f7f7f\">             </span>\n",
       "<span style=\"color: #7fbfbf; text-decoration-color: #7fbfbf\">                    </span>         <span style=\"color: #008080; text-decoration-color: #008080; font-weight: bold\">1.4168687826075331e-05</span>, <span style=\"color: #008000; text-decoration-color: #008000\">'calibration'</span>: <span style=\"color: #008000; text-decoration-color: #008000\">'sigmoid'</span><span style=\"font-weight: bold\">}</span>. Best is trial <span style=\"color: #008080; text-decoration-color: #008080; font-weight: bold\">12</span> with <span style=\"color: #7f7f7f; text-decoration-color: #7f7f7f\">             </span>\n",
       "<span style=\"color: #7fbfbf; text-decoration-color: #7fbfbf\">                    </span>         value: <span style=\"color: #008080; text-decoration-color: #008080; font-weight: bold\">0.9802900850614682</span>.                                               <span style=\"color: #7f7f7f; text-decoration-color: #7f7f7f\">             </span>\n",
       "</pre>\n"
      ],
      "text/plain": [
       "\u001b[2;36m                   \u001b[0m\u001b[2;36m \u001b[0m\u001b[34mINFO    \u001b[0m Trial \u001b[1;36m12\u001b[0m finished with value: \u001b[1;36m0.9802900850614682\u001b[0m and parameters:         \u001b]8;id=89360;file:///home/prochet/miniconda3/envs/phishing/lib/python3.10/site-packages/optuna/study/study.py\u001b\\\u001b[2mstudy.py\u001b[0m\u001b]8;;\u001b\\\u001b[2m:\u001b[0m\u001b]8;id=461207;file:///home/prochet/miniconda3/envs/phishing/lib/python3.10/site-packages/optuna/study/study.py#1110\u001b\\\u001b[2m1110\u001b[0m\u001b]8;;\u001b\\\n",
       "\u001b[2;36m                    \u001b[0m         \u001b[1m{\u001b[0m\u001b[32m'max_ngram_word'\u001b[0m: \u001b[1;36m3\u001b[0m, \u001b[32m'max_ngram_char'\u001b[0m: \u001b[1;36m5\u001b[0m, \u001b[32m'use_idf'\u001b[0m: \u001b[3;91mFalse\u001b[0m,             \u001b[2m             \u001b[0m\n",
       "\u001b[2;36m                    \u001b[0m         \u001b[32m'lowercase'\u001b[0m: \u001b[3;91mFalse\u001b[0m, \u001b[32m'C'\u001b[0m: \u001b[1;36m2.430285791922417\u001b[0m, \u001b[32m'loss'\u001b[0m: \u001b[32m'hinge'\u001b[0m, \u001b[32m'tol'\u001b[0m:      \u001b[2m             \u001b[0m\n",
       "\u001b[2;36m                    \u001b[0m         \u001b[1;36m1.4168687826075331e-05\u001b[0m, \u001b[32m'calibration'\u001b[0m: \u001b[32m'sigmoid'\u001b[0m\u001b[1m}\u001b[0m. Best is trial \u001b[1;36m12\u001b[0m with \u001b[2m             \u001b[0m\n",
       "\u001b[2;36m                    \u001b[0m         value: \u001b[1;36m0.9802900850614682\u001b[0m.                                               \u001b[2m             \u001b[0m\n"
      ]
     },
     "metadata": {},
     "output_type": "display_data"
    },
    {
     "data": {
      "text/html": [
       "<pre style=\"white-space:pre;overflow-x:auto;line-height:normal;font-family:Menlo,'DejaVu Sans Mono',consolas,'Courier New',monospace\"><span style=\"color: #7fbfbf; text-decoration-color: #7fbfbf\">[11/29/23 17:06:47] </span><span style=\"color: #000080; text-decoration-color: #000080\">INFO    </span> Trial <span style=\"color: #008080; text-decoration-color: #008080; font-weight: bold\">10</span> finished with value: <span style=\"color: #008080; text-decoration-color: #008080; font-weight: bold\">0.98028805863207</span> and parameters:           <a href=\"file:///home/prochet/miniconda3/envs/phishing/lib/python3.10/site-packages/optuna/study/study.py\" target=\"_blank\"><span style=\"color: #7f7f7f; text-decoration-color: #7f7f7f\">study.py</span></a><span style=\"color: #7f7f7f; text-decoration-color: #7f7f7f\">:</span><a href=\"file:///home/prochet/miniconda3/envs/phishing/lib/python3.10/site-packages/optuna/study/study.py#1110\" target=\"_blank\"><span style=\"color: #7f7f7f; text-decoration-color: #7f7f7f\">1110</span></a>\n",
       "<span style=\"color: #7fbfbf; text-decoration-color: #7fbfbf\">                    </span>         <span style=\"font-weight: bold\">{</span><span style=\"color: #008000; text-decoration-color: #008000\">'max_ngram_word'</span>: <span style=\"color: #008080; text-decoration-color: #008080; font-weight: bold\">3</span>, <span style=\"color: #008000; text-decoration-color: #008000\">'max_ngram_char'</span>: <span style=\"color: #008080; text-decoration-color: #008080; font-weight: bold\">5</span>, <span style=\"color: #008000; text-decoration-color: #008000\">'use_idf'</span>: <span style=\"color: #ff0000; text-decoration-color: #ff0000; font-style: italic\">False</span>,             <span style=\"color: #7f7f7f; text-decoration-color: #7f7f7f\">             </span>\n",
       "<span style=\"color: #7fbfbf; text-decoration-color: #7fbfbf\">                    </span>         <span style=\"color: #008000; text-decoration-color: #008000\">'lowercase'</span>: <span style=\"color: #ff0000; text-decoration-color: #ff0000; font-style: italic\">False</span>, <span style=\"color: #008000; text-decoration-color: #008000\">'C'</span>: <span style=\"color: #008080; text-decoration-color: #008080; font-weight: bold\">7.477433755450722</span>, <span style=\"color: #008000; text-decoration-color: #008000\">'loss'</span>: <span style=\"color: #008000; text-decoration-color: #008000\">'hinge'</span>, <span style=\"color: #008000; text-decoration-color: #008000\">'tol'</span>:      <span style=\"color: #7f7f7f; text-decoration-color: #7f7f7f\">             </span>\n",
       "<span style=\"color: #7fbfbf; text-decoration-color: #7fbfbf\">                    </span>         <span style=\"color: #008080; text-decoration-color: #008080; font-weight: bold\">1.0455906660475285e-05</span>, <span style=\"color: #008000; text-decoration-color: #008000\">'calibration'</span>: <span style=\"color: #008000; text-decoration-color: #008000\">'sigmoid'</span><span style=\"font-weight: bold\">}</span>. Best is trial <span style=\"color: #008080; text-decoration-color: #008080; font-weight: bold\">12</span> with <span style=\"color: #7f7f7f; text-decoration-color: #7f7f7f\">             </span>\n",
       "<span style=\"color: #7fbfbf; text-decoration-color: #7fbfbf\">                    </span>         value: <span style=\"color: #008080; text-decoration-color: #008080; font-weight: bold\">0.9802900850614682</span>.                                               <span style=\"color: #7f7f7f; text-decoration-color: #7f7f7f\">             </span>\n",
       "</pre>\n"
      ],
      "text/plain": [
       "\u001b[2;36m[11/29/23 17:06:47]\u001b[0m\u001b[2;36m \u001b[0m\u001b[34mINFO    \u001b[0m Trial \u001b[1;36m10\u001b[0m finished with value: \u001b[1;36m0.98028805863207\u001b[0m and parameters:           \u001b]8;id=44545;file:///home/prochet/miniconda3/envs/phishing/lib/python3.10/site-packages/optuna/study/study.py\u001b\\\u001b[2mstudy.py\u001b[0m\u001b]8;;\u001b\\\u001b[2m:\u001b[0m\u001b]8;id=767218;file:///home/prochet/miniconda3/envs/phishing/lib/python3.10/site-packages/optuna/study/study.py#1110\u001b\\\u001b[2m1110\u001b[0m\u001b]8;;\u001b\\\n",
       "\u001b[2;36m                    \u001b[0m         \u001b[1m{\u001b[0m\u001b[32m'max_ngram_word'\u001b[0m: \u001b[1;36m3\u001b[0m, \u001b[32m'max_ngram_char'\u001b[0m: \u001b[1;36m5\u001b[0m, \u001b[32m'use_idf'\u001b[0m: \u001b[3;91mFalse\u001b[0m,             \u001b[2m             \u001b[0m\n",
       "\u001b[2;36m                    \u001b[0m         \u001b[32m'lowercase'\u001b[0m: \u001b[3;91mFalse\u001b[0m, \u001b[32m'C'\u001b[0m: \u001b[1;36m7.477433755450722\u001b[0m, \u001b[32m'loss'\u001b[0m: \u001b[32m'hinge'\u001b[0m, \u001b[32m'tol'\u001b[0m:      \u001b[2m             \u001b[0m\n",
       "\u001b[2;36m                    \u001b[0m         \u001b[1;36m1.0455906660475285e-05\u001b[0m, \u001b[32m'calibration'\u001b[0m: \u001b[32m'sigmoid'\u001b[0m\u001b[1m}\u001b[0m. Best is trial \u001b[1;36m12\u001b[0m with \u001b[2m             \u001b[0m\n",
       "\u001b[2;36m                    \u001b[0m         value: \u001b[1;36m0.9802900850614682\u001b[0m.                                               \u001b[2m             \u001b[0m\n"
      ]
     },
     "metadata": {},
     "output_type": "display_data"
    },
    {
     "data": {
      "text/html": [
       "<pre style=\"white-space:pre;overflow-x:auto;line-height:normal;font-family:Menlo,'DejaVu Sans Mono',consolas,'Courier New',monospace\"><span style=\"color: #7fbfbf; text-decoration-color: #7fbfbf\">[11/29/23 17:06:57] </span><span style=\"color: #000080; text-decoration-color: #000080\">INFO    </span> Trial <span style=\"color: #008080; text-decoration-color: #008080; font-weight: bold\">13</span> finished with value: <span style=\"color: #008080; text-decoration-color: #008080; font-weight: bold\">0.98028805863207</span> and parameters:           <a href=\"file:///home/prochet/miniconda3/envs/phishing/lib/python3.10/site-packages/optuna/study/study.py\" target=\"_blank\"><span style=\"color: #7f7f7f; text-decoration-color: #7f7f7f\">study.py</span></a><span style=\"color: #7f7f7f; text-decoration-color: #7f7f7f\">:</span><a href=\"file:///home/prochet/miniconda3/envs/phishing/lib/python3.10/site-packages/optuna/study/study.py#1110\" target=\"_blank\"><span style=\"color: #7f7f7f; text-decoration-color: #7f7f7f\">1110</span></a>\n",
       "<span style=\"color: #7fbfbf; text-decoration-color: #7fbfbf\">                    </span>         <span style=\"font-weight: bold\">{</span><span style=\"color: #008000; text-decoration-color: #008000\">'max_ngram_word'</span>: <span style=\"color: #008080; text-decoration-color: #008080; font-weight: bold\">3</span>, <span style=\"color: #008000; text-decoration-color: #008000\">'max_ngram_char'</span>: <span style=\"color: #008080; text-decoration-color: #008080; font-weight: bold\">5</span>, <span style=\"color: #008000; text-decoration-color: #008000\">'use_idf'</span>: <span style=\"color: #ff0000; text-decoration-color: #ff0000; font-style: italic\">False</span>,             <span style=\"color: #7f7f7f; text-decoration-color: #7f7f7f\">             </span>\n",
       "<span style=\"color: #7fbfbf; text-decoration-color: #7fbfbf\">                    </span>         <span style=\"color: #008000; text-decoration-color: #008000\">'lowercase'</span>: <span style=\"color: #ff0000; text-decoration-color: #ff0000; font-style: italic\">False</span>, <span style=\"color: #008000; text-decoration-color: #008000\">'C'</span>: <span style=\"color: #008080; text-decoration-color: #008080; font-weight: bold\">5.252542181386935</span>, <span style=\"color: #008000; text-decoration-color: #008000\">'loss'</span>: <span style=\"color: #008000; text-decoration-color: #008000\">'hinge'</span>, <span style=\"color: #008000; text-decoration-color: #008000\">'tol'</span>:      <span style=\"color: #7f7f7f; text-decoration-color: #7f7f7f\">             </span>\n",
       "<span style=\"color: #7fbfbf; text-decoration-color: #7fbfbf\">                    </span>         <span style=\"color: #008080; text-decoration-color: #008080; font-weight: bold\">1.1306268775365542e-05</span>, <span style=\"color: #008000; text-decoration-color: #008000\">'calibration'</span>: <span style=\"color: #008000; text-decoration-color: #008000\">'sigmoid'</span><span style=\"font-weight: bold\">}</span>. Best is trial <span style=\"color: #008080; text-decoration-color: #008080; font-weight: bold\">12</span> with <span style=\"color: #7f7f7f; text-decoration-color: #7f7f7f\">             </span>\n",
       "<span style=\"color: #7fbfbf; text-decoration-color: #7fbfbf\">                    </span>         value: <span style=\"color: #008080; text-decoration-color: #008080; font-weight: bold\">0.9802900850614682</span>.                                               <span style=\"color: #7f7f7f; text-decoration-color: #7f7f7f\">             </span>\n",
       "</pre>\n"
      ],
      "text/plain": [
       "\u001b[2;36m[11/29/23 17:06:57]\u001b[0m\u001b[2;36m \u001b[0m\u001b[34mINFO    \u001b[0m Trial \u001b[1;36m13\u001b[0m finished with value: \u001b[1;36m0.98028805863207\u001b[0m and parameters:           \u001b]8;id=278291;file:///home/prochet/miniconda3/envs/phishing/lib/python3.10/site-packages/optuna/study/study.py\u001b\\\u001b[2mstudy.py\u001b[0m\u001b]8;;\u001b\\\u001b[2m:\u001b[0m\u001b]8;id=623335;file:///home/prochet/miniconda3/envs/phishing/lib/python3.10/site-packages/optuna/study/study.py#1110\u001b\\\u001b[2m1110\u001b[0m\u001b]8;;\u001b\\\n",
       "\u001b[2;36m                    \u001b[0m         \u001b[1m{\u001b[0m\u001b[32m'max_ngram_word'\u001b[0m: \u001b[1;36m3\u001b[0m, \u001b[32m'max_ngram_char'\u001b[0m: \u001b[1;36m5\u001b[0m, \u001b[32m'use_idf'\u001b[0m: \u001b[3;91mFalse\u001b[0m,             \u001b[2m             \u001b[0m\n",
       "\u001b[2;36m                    \u001b[0m         \u001b[32m'lowercase'\u001b[0m: \u001b[3;91mFalse\u001b[0m, \u001b[32m'C'\u001b[0m: \u001b[1;36m5.252542181386935\u001b[0m, \u001b[32m'loss'\u001b[0m: \u001b[32m'hinge'\u001b[0m, \u001b[32m'tol'\u001b[0m:      \u001b[2m             \u001b[0m\n",
       "\u001b[2;36m                    \u001b[0m         \u001b[1;36m1.1306268775365542e-05\u001b[0m, \u001b[32m'calibration'\u001b[0m: \u001b[32m'sigmoid'\u001b[0m\u001b[1m}\u001b[0m. Best is trial \u001b[1;36m12\u001b[0m with \u001b[2m             \u001b[0m\n",
       "\u001b[2;36m                    \u001b[0m         value: \u001b[1;36m0.9802900850614682\u001b[0m.                                               \u001b[2m             \u001b[0m\n"
      ]
     },
     "metadata": {},
     "output_type": "display_data"
    },
    {
     "data": {
      "text/html": [
       "<pre style=\"white-space:pre;overflow-x:auto;line-height:normal;font-family:Menlo,'DejaVu Sans Mono',consolas,'Courier New',monospace\"><span style=\"color: #7fbfbf; text-decoration-color: #7fbfbf\">[11/29/23 17:07:02] </span><span style=\"color: #000080; text-decoration-color: #000080\">INFO    </span> Trial <span style=\"color: #008080; text-decoration-color: #008080; font-weight: bold\">15</span> finished with value: <span style=\"color: #008080; text-decoration-color: #008080; font-weight: bold\">0.9802866920843648</span> and parameters:         <a href=\"file:///home/prochet/miniconda3/envs/phishing/lib/python3.10/site-packages/optuna/study/study.py\" target=\"_blank\"><span style=\"color: #7f7f7f; text-decoration-color: #7f7f7f\">study.py</span></a><span style=\"color: #7f7f7f; text-decoration-color: #7f7f7f\">:</span><a href=\"file:///home/prochet/miniconda3/envs/phishing/lib/python3.10/site-packages/optuna/study/study.py#1110\" target=\"_blank\"><span style=\"color: #7f7f7f; text-decoration-color: #7f7f7f\">1110</span></a>\n",
       "<span style=\"color: #7fbfbf; text-decoration-color: #7fbfbf\">                    </span>         <span style=\"font-weight: bold\">{</span><span style=\"color: #008000; text-decoration-color: #008000\">'max_ngram_word'</span>: <span style=\"color: #008080; text-decoration-color: #008080; font-weight: bold\">3</span>, <span style=\"color: #008000; text-decoration-color: #008000\">'max_ngram_char'</span>: <span style=\"color: #008080; text-decoration-color: #008080; font-weight: bold\">5</span>, <span style=\"color: #008000; text-decoration-color: #008000\">'use_idf'</span>: <span style=\"color: #ff0000; text-decoration-color: #ff0000; font-style: italic\">False</span>,             <span style=\"color: #7f7f7f; text-decoration-color: #7f7f7f\">             </span>\n",
       "<span style=\"color: #7fbfbf; text-decoration-color: #7fbfbf\">                    </span>         <span style=\"color: #008000; text-decoration-color: #008000\">'lowercase'</span>: <span style=\"color: #ff0000; text-decoration-color: #ff0000; font-style: italic\">False</span>, <span style=\"color: #008000; text-decoration-color: #008000\">'C'</span>: <span style=\"color: #008080; text-decoration-color: #008080; font-weight: bold\">4.094959217658316</span>, <span style=\"color: #008000; text-decoration-color: #008000\">'loss'</span>: <span style=\"color: #008000; text-decoration-color: #008000\">'hinge'</span>, <span style=\"color: #008000; text-decoration-color: #008000\">'tol'</span>:      <span style=\"color: #7f7f7f; text-decoration-color: #7f7f7f\">             </span>\n",
       "<span style=\"color: #7fbfbf; text-decoration-color: #7fbfbf\">                    </span>         <span style=\"color: #008080; text-decoration-color: #008080; font-weight: bold\">0.08192083135879989</span>, <span style=\"color: #008000; text-decoration-color: #008000\">'calibration'</span>: <span style=\"color: #008000; text-decoration-color: #008000\">'sigmoid'</span><span style=\"font-weight: bold\">}</span>. Best is trial <span style=\"color: #008080; text-decoration-color: #008080; font-weight: bold\">12</span> with    <span style=\"color: #7f7f7f; text-decoration-color: #7f7f7f\">             </span>\n",
       "<span style=\"color: #7fbfbf; text-decoration-color: #7fbfbf\">                    </span>         value: <span style=\"color: #008080; text-decoration-color: #008080; font-weight: bold\">0.9802900850614682</span>.                                               <span style=\"color: #7f7f7f; text-decoration-color: #7f7f7f\">             </span>\n",
       "</pre>\n"
      ],
      "text/plain": [
       "\u001b[2;36m[11/29/23 17:07:02]\u001b[0m\u001b[2;36m \u001b[0m\u001b[34mINFO    \u001b[0m Trial \u001b[1;36m15\u001b[0m finished with value: \u001b[1;36m0.9802866920843648\u001b[0m and parameters:         \u001b]8;id=258262;file:///home/prochet/miniconda3/envs/phishing/lib/python3.10/site-packages/optuna/study/study.py\u001b\\\u001b[2mstudy.py\u001b[0m\u001b]8;;\u001b\\\u001b[2m:\u001b[0m\u001b]8;id=832834;file:///home/prochet/miniconda3/envs/phishing/lib/python3.10/site-packages/optuna/study/study.py#1110\u001b\\\u001b[2m1110\u001b[0m\u001b]8;;\u001b\\\n",
       "\u001b[2;36m                    \u001b[0m         \u001b[1m{\u001b[0m\u001b[32m'max_ngram_word'\u001b[0m: \u001b[1;36m3\u001b[0m, \u001b[32m'max_ngram_char'\u001b[0m: \u001b[1;36m5\u001b[0m, \u001b[32m'use_idf'\u001b[0m: \u001b[3;91mFalse\u001b[0m,             \u001b[2m             \u001b[0m\n",
       "\u001b[2;36m                    \u001b[0m         \u001b[32m'lowercase'\u001b[0m: \u001b[3;91mFalse\u001b[0m, \u001b[32m'C'\u001b[0m: \u001b[1;36m4.094959217658316\u001b[0m, \u001b[32m'loss'\u001b[0m: \u001b[32m'hinge'\u001b[0m, \u001b[32m'tol'\u001b[0m:      \u001b[2m             \u001b[0m\n",
       "\u001b[2;36m                    \u001b[0m         \u001b[1;36m0.08192083135879989\u001b[0m, \u001b[32m'calibration'\u001b[0m: \u001b[32m'sigmoid'\u001b[0m\u001b[1m}\u001b[0m. Best is trial \u001b[1;36m12\u001b[0m with    \u001b[2m             \u001b[0m\n",
       "\u001b[2;36m                    \u001b[0m         value: \u001b[1;36m0.9802900850614682\u001b[0m.                                               \u001b[2m             \u001b[0m\n"
      ]
     },
     "metadata": {},
     "output_type": "display_data"
    },
    {
     "data": {
      "text/html": [
       "<pre style=\"white-space:pre;overflow-x:auto;line-height:normal;font-family:Menlo,'DejaVu Sans Mono',consolas,'Courier New',monospace\"><span style=\"color: #7fbfbf; text-decoration-color: #7fbfbf\">[11/29/23 17:07:44] </span><span style=\"color: #000080; text-decoration-color: #000080\">INFO    </span> Trial <span style=\"color: #008080; text-decoration-color: #008080; font-weight: bold\">18</span> finished with value: <span style=\"color: #008080; text-decoration-color: #008080; font-weight: bold\">0.9186776109003366</span> and parameters:         <a href=\"file:///home/prochet/miniconda3/envs/phishing/lib/python3.10/site-packages/optuna/study/study.py\" target=\"_blank\"><span style=\"color: #7f7f7f; text-decoration-color: #7f7f7f\">study.py</span></a><span style=\"color: #7f7f7f; text-decoration-color: #7f7f7f\">:</span><a href=\"file:///home/prochet/miniconda3/envs/phishing/lib/python3.10/site-packages/optuna/study/study.py#1110\" target=\"_blank\"><span style=\"color: #7f7f7f; text-decoration-color: #7f7f7f\">1110</span></a>\n",
       "<span style=\"color: #7fbfbf; text-decoration-color: #7fbfbf\">                    </span>         <span style=\"font-weight: bold\">{</span><span style=\"color: #008000; text-decoration-color: #008000\">'max_ngram_word'</span>: <span style=\"color: #008080; text-decoration-color: #008080; font-weight: bold\">3</span>, <span style=\"color: #008000; text-decoration-color: #008000\">'max_ngram_char'</span>: <span style=\"color: #008080; text-decoration-color: #008080; font-weight: bold\">4</span>, <span style=\"color: #008000; text-decoration-color: #008000\">'use_idf'</span>: <span style=\"color: #ff0000; text-decoration-color: #ff0000; font-style: italic\">False</span>,             <span style=\"color: #7f7f7f; text-decoration-color: #7f7f7f\">             </span>\n",
       "<span style=\"color: #7fbfbf; text-decoration-color: #7fbfbf\">                    </span>         <span style=\"color: #008000; text-decoration-color: #008000\">'lowercase'</span>: <span style=\"color: #ff0000; text-decoration-color: #ff0000; font-style: italic\">False</span>, <span style=\"color: #008000; text-decoration-color: #008000\">'C'</span>: <span style=\"color: #008080; text-decoration-color: #008080; font-weight: bold\">0.04446877122611943</span>, <span style=\"color: #008000; text-decoration-color: #008000\">'loss'</span>: <span style=\"color: #008000; text-decoration-color: #008000\">'hinge'</span>, <span style=\"color: #008000; text-decoration-color: #008000\">'tol'</span>:    <span style=\"color: #7f7f7f; text-decoration-color: #7f7f7f\">             </span>\n",
       "<span style=\"color: #7fbfbf; text-decoration-color: #7fbfbf\">                    </span>         <span style=\"color: #008080; text-decoration-color: #008080; font-weight: bold\">0.026187450548834493</span>, <span style=\"color: #008000; text-decoration-color: #008000\">'calibration'</span>: <span style=\"color: #008000; text-decoration-color: #008000\">'sigmoid'</span><span style=\"font-weight: bold\">}</span>. Best is trial <span style=\"color: #008080; text-decoration-color: #008080; font-weight: bold\">12</span> with   <span style=\"color: #7f7f7f; text-decoration-color: #7f7f7f\">             </span>\n",
       "<span style=\"color: #7fbfbf; text-decoration-color: #7fbfbf\">                    </span>         value: <span style=\"color: #008080; text-decoration-color: #008080; font-weight: bold\">0.9802900850614682</span>.                                               <span style=\"color: #7f7f7f; text-decoration-color: #7f7f7f\">             </span>\n",
       "</pre>\n"
      ],
      "text/plain": [
       "\u001b[2;36m[11/29/23 17:07:44]\u001b[0m\u001b[2;36m \u001b[0m\u001b[34mINFO    \u001b[0m Trial \u001b[1;36m18\u001b[0m finished with value: \u001b[1;36m0.9186776109003366\u001b[0m and parameters:         \u001b]8;id=524789;file:///home/prochet/miniconda3/envs/phishing/lib/python3.10/site-packages/optuna/study/study.py\u001b\\\u001b[2mstudy.py\u001b[0m\u001b]8;;\u001b\\\u001b[2m:\u001b[0m\u001b]8;id=156982;file:///home/prochet/miniconda3/envs/phishing/lib/python3.10/site-packages/optuna/study/study.py#1110\u001b\\\u001b[2m1110\u001b[0m\u001b]8;;\u001b\\\n",
       "\u001b[2;36m                    \u001b[0m         \u001b[1m{\u001b[0m\u001b[32m'max_ngram_word'\u001b[0m: \u001b[1;36m3\u001b[0m, \u001b[32m'max_ngram_char'\u001b[0m: \u001b[1;36m4\u001b[0m, \u001b[32m'use_idf'\u001b[0m: \u001b[3;91mFalse\u001b[0m,             \u001b[2m             \u001b[0m\n",
       "\u001b[2;36m                    \u001b[0m         \u001b[32m'lowercase'\u001b[0m: \u001b[3;91mFalse\u001b[0m, \u001b[32m'C'\u001b[0m: \u001b[1;36m0.04446877122611943\u001b[0m, \u001b[32m'loss'\u001b[0m: \u001b[32m'hinge'\u001b[0m, \u001b[32m'tol'\u001b[0m:    \u001b[2m             \u001b[0m\n",
       "\u001b[2;36m                    \u001b[0m         \u001b[1;36m0.026187450548834493\u001b[0m, \u001b[32m'calibration'\u001b[0m: \u001b[32m'sigmoid'\u001b[0m\u001b[1m}\u001b[0m. Best is trial \u001b[1;36m12\u001b[0m with   \u001b[2m             \u001b[0m\n",
       "\u001b[2;36m                    \u001b[0m         value: \u001b[1;36m0.9802900850614682\u001b[0m.                                               \u001b[2m             \u001b[0m\n"
      ]
     },
     "metadata": {},
     "output_type": "display_data"
    },
    {
     "data": {
      "text/html": [
       "<pre style=\"white-space:pre;overflow-x:auto;line-height:normal;font-family:Menlo,'DejaVu Sans Mono',consolas,'Courier New',monospace\"><span style=\"color: #7fbfbf; text-decoration-color: #7fbfbf\">[11/29/23 17:07:53] </span><span style=\"color: #000080; text-decoration-color: #000080\">INFO    </span> Trial <span style=\"color: #008080; text-decoration-color: #008080; font-weight: bold\">19</span> finished with value: <span style=\"color: #008080; text-decoration-color: #008080; font-weight: bold\">0.8982280051206105</span> and parameters:         <a href=\"file:///home/prochet/miniconda3/envs/phishing/lib/python3.10/site-packages/optuna/study/study.py\" target=\"_blank\"><span style=\"color: #7f7f7f; text-decoration-color: #7f7f7f\">study.py</span></a><span style=\"color: #7f7f7f; text-decoration-color: #7f7f7f\">:</span><a href=\"file:///home/prochet/miniconda3/envs/phishing/lib/python3.10/site-packages/optuna/study/study.py#1110\" target=\"_blank\"><span style=\"color: #7f7f7f; text-decoration-color: #7f7f7f\">1110</span></a>\n",
       "<span style=\"color: #7fbfbf; text-decoration-color: #7fbfbf\">                    </span>         <span style=\"font-weight: bold\">{</span><span style=\"color: #008000; text-decoration-color: #008000\">'max_ngram_word'</span>: <span style=\"color: #008080; text-decoration-color: #008080; font-weight: bold\">3</span>, <span style=\"color: #008000; text-decoration-color: #008000\">'max_ngram_char'</span>: <span style=\"color: #008080; text-decoration-color: #008080; font-weight: bold\">4</span>, <span style=\"color: #008000; text-decoration-color: #008000\">'use_idf'</span>: <span style=\"color: #ff0000; text-decoration-color: #ff0000; font-style: italic\">False</span>,             <span style=\"color: #7f7f7f; text-decoration-color: #7f7f7f\">             </span>\n",
       "<span style=\"color: #7fbfbf; text-decoration-color: #7fbfbf\">                    </span>         <span style=\"color: #008000; text-decoration-color: #008000\">'lowercase'</span>: <span style=\"color: #ff0000; text-decoration-color: #ff0000; font-style: italic\">False</span>, <span style=\"color: #008000; text-decoration-color: #008000\">'C'</span>: <span style=\"color: #008080; text-decoration-color: #008080; font-weight: bold\">0.021529074307872965</span>, <span style=\"color: #008000; text-decoration-color: #008000\">'loss'</span>: <span style=\"color: #008000; text-decoration-color: #008000\">'hinge'</span>, <span style=\"color: #008000; text-decoration-color: #008000\">'tol'</span>:   <span style=\"color: #7f7f7f; text-decoration-color: #7f7f7f\">             </span>\n",
       "<span style=\"color: #7fbfbf; text-decoration-color: #7fbfbf\">                    </span>         <span style=\"color: #008080; text-decoration-color: #008080; font-weight: bold\">0.06379503748250394</span>, <span style=\"color: #008000; text-decoration-color: #008000\">'calibration'</span>: <span style=\"color: #008000; text-decoration-color: #008000\">'sigmoid'</span><span style=\"font-weight: bold\">}</span>. Best is trial <span style=\"color: #008080; text-decoration-color: #008080; font-weight: bold\">12</span> with    <span style=\"color: #7f7f7f; text-decoration-color: #7f7f7f\">             </span>\n",
       "<span style=\"color: #7fbfbf; text-decoration-color: #7fbfbf\">                    </span>         value: <span style=\"color: #008080; text-decoration-color: #008080; font-weight: bold\">0.9802900850614682</span>.                                               <span style=\"color: #7f7f7f; text-decoration-color: #7f7f7f\">             </span>\n",
       "</pre>\n"
      ],
      "text/plain": [
       "\u001b[2;36m[11/29/23 17:07:53]\u001b[0m\u001b[2;36m \u001b[0m\u001b[34mINFO    \u001b[0m Trial \u001b[1;36m19\u001b[0m finished with value: \u001b[1;36m0.8982280051206105\u001b[0m and parameters:         \u001b]8;id=20278;file:///home/prochet/miniconda3/envs/phishing/lib/python3.10/site-packages/optuna/study/study.py\u001b\\\u001b[2mstudy.py\u001b[0m\u001b]8;;\u001b\\\u001b[2m:\u001b[0m\u001b]8;id=718224;file:///home/prochet/miniconda3/envs/phishing/lib/python3.10/site-packages/optuna/study/study.py#1110\u001b\\\u001b[2m1110\u001b[0m\u001b]8;;\u001b\\\n",
       "\u001b[2;36m                    \u001b[0m         \u001b[1m{\u001b[0m\u001b[32m'max_ngram_word'\u001b[0m: \u001b[1;36m3\u001b[0m, \u001b[32m'max_ngram_char'\u001b[0m: \u001b[1;36m4\u001b[0m, \u001b[32m'use_idf'\u001b[0m: \u001b[3;91mFalse\u001b[0m,             \u001b[2m             \u001b[0m\n",
       "\u001b[2;36m                    \u001b[0m         \u001b[32m'lowercase'\u001b[0m: \u001b[3;91mFalse\u001b[0m, \u001b[32m'C'\u001b[0m: \u001b[1;36m0.021529074307872965\u001b[0m, \u001b[32m'loss'\u001b[0m: \u001b[32m'hinge'\u001b[0m, \u001b[32m'tol'\u001b[0m:   \u001b[2m             \u001b[0m\n",
       "\u001b[2;36m                    \u001b[0m         \u001b[1;36m0.06379503748250394\u001b[0m, \u001b[32m'calibration'\u001b[0m: \u001b[32m'sigmoid'\u001b[0m\u001b[1m}\u001b[0m. Best is trial \u001b[1;36m12\u001b[0m with    \u001b[2m             \u001b[0m\n",
       "\u001b[2;36m                    \u001b[0m         value: \u001b[1;36m0.9802900850614682\u001b[0m.                                               \u001b[2m             \u001b[0m\n"
      ]
     },
     "metadata": {},
     "output_type": "display_data"
    },
    {
     "data": {
      "text/html": [
       "<pre style=\"white-space:pre;overflow-x:auto;line-height:normal;font-family:Menlo,'DejaVu Sans Mono',consolas,'Courier New',monospace\"><span style=\"color: #7fbfbf; text-decoration-color: #7fbfbf\">[11/29/23 17:07:56] </span><span style=\"color: #000080; text-decoration-color: #000080\">INFO    </span> Trial <span style=\"color: #008080; text-decoration-color: #008080; font-weight: bold\">17</span> finished with value: <span style=\"color: #008080; text-decoration-color: #008080; font-weight: bold\">0.9801076591857647</span> and parameters:         <a href=\"file:///home/prochet/miniconda3/envs/phishing/lib/python3.10/site-packages/optuna/study/study.py\" target=\"_blank\"><span style=\"color: #7f7f7f; text-decoration-color: #7f7f7f\">study.py</span></a><span style=\"color: #7f7f7f; text-decoration-color: #7f7f7f\">:</span><a href=\"file:///home/prochet/miniconda3/envs/phishing/lib/python3.10/site-packages/optuna/study/study.py#1110\" target=\"_blank\"><span style=\"color: #7f7f7f; text-decoration-color: #7f7f7f\">1110</span></a>\n",
       "<span style=\"color: #7fbfbf; text-decoration-color: #7fbfbf\">                    </span>         <span style=\"font-weight: bold\">{</span><span style=\"color: #008000; text-decoration-color: #008000\">'max_ngram_word'</span>: <span style=\"color: #008080; text-decoration-color: #008080; font-weight: bold\">3</span>, <span style=\"color: #008000; text-decoration-color: #008000\">'max_ngram_char'</span>: <span style=\"color: #008080; text-decoration-color: #008080; font-weight: bold\">4</span>, <span style=\"color: #008000; text-decoration-color: #008000\">'use_idf'</span>: <span style=\"color: #ff0000; text-decoration-color: #ff0000; font-style: italic\">False</span>,             <span style=\"color: #7f7f7f; text-decoration-color: #7f7f7f\">             </span>\n",
       "<span style=\"color: #7fbfbf; text-decoration-color: #7fbfbf\">                    </span>         <span style=\"color: #008000; text-decoration-color: #008000\">'lowercase'</span>: <span style=\"color: #ff0000; text-decoration-color: #ff0000; font-style: italic\">False</span>, <span style=\"color: #008000; text-decoration-color: #008000\">'C'</span>: <span style=\"color: #008080; text-decoration-color: #008080; font-weight: bold\">5.481264965625876</span>, <span style=\"color: #008000; text-decoration-color: #008000\">'loss'</span>: <span style=\"color: #008000; text-decoration-color: #008000\">'hinge'</span>, <span style=\"color: #008000; text-decoration-color: #008000\">'tol'</span>:      <span style=\"color: #7f7f7f; text-decoration-color: #7f7f7f\">             </span>\n",
       "<span style=\"color: #7fbfbf; text-decoration-color: #7fbfbf\">                    </span>         <span style=\"color: #008080; text-decoration-color: #008080; font-weight: bold\">0.07525973127701034</span>, <span style=\"color: #008000; text-decoration-color: #008000\">'calibration'</span>: <span style=\"color: #008000; text-decoration-color: #008000\">'sigmoid'</span><span style=\"font-weight: bold\">}</span>. Best is trial <span style=\"color: #008080; text-decoration-color: #008080; font-weight: bold\">12</span> with    <span style=\"color: #7f7f7f; text-decoration-color: #7f7f7f\">             </span>\n",
       "<span style=\"color: #7fbfbf; text-decoration-color: #7fbfbf\">                    </span>         value: <span style=\"color: #008080; text-decoration-color: #008080; font-weight: bold\">0.9802900850614682</span>.                                               <span style=\"color: #7f7f7f; text-decoration-color: #7f7f7f\">             </span>\n",
       "</pre>\n"
      ],
      "text/plain": [
       "\u001b[2;36m[11/29/23 17:07:56]\u001b[0m\u001b[2;36m \u001b[0m\u001b[34mINFO    \u001b[0m Trial \u001b[1;36m17\u001b[0m finished with value: \u001b[1;36m0.9801076591857647\u001b[0m and parameters:         \u001b]8;id=71479;file:///home/prochet/miniconda3/envs/phishing/lib/python3.10/site-packages/optuna/study/study.py\u001b\\\u001b[2mstudy.py\u001b[0m\u001b]8;;\u001b\\\u001b[2m:\u001b[0m\u001b]8;id=628691;file:///home/prochet/miniconda3/envs/phishing/lib/python3.10/site-packages/optuna/study/study.py#1110\u001b\\\u001b[2m1110\u001b[0m\u001b]8;;\u001b\\\n",
       "\u001b[2;36m                    \u001b[0m         \u001b[1m{\u001b[0m\u001b[32m'max_ngram_word'\u001b[0m: \u001b[1;36m3\u001b[0m, \u001b[32m'max_ngram_char'\u001b[0m: \u001b[1;36m4\u001b[0m, \u001b[32m'use_idf'\u001b[0m: \u001b[3;91mFalse\u001b[0m,             \u001b[2m             \u001b[0m\n",
       "\u001b[2;36m                    \u001b[0m         \u001b[32m'lowercase'\u001b[0m: \u001b[3;91mFalse\u001b[0m, \u001b[32m'C'\u001b[0m: \u001b[1;36m5.481264965625876\u001b[0m, \u001b[32m'loss'\u001b[0m: \u001b[32m'hinge'\u001b[0m, \u001b[32m'tol'\u001b[0m:      \u001b[2m             \u001b[0m\n",
       "\u001b[2;36m                    \u001b[0m         \u001b[1;36m0.07525973127701034\u001b[0m, \u001b[32m'calibration'\u001b[0m: \u001b[32m'sigmoid'\u001b[0m\u001b[1m}\u001b[0m. Best is trial \u001b[1;36m12\u001b[0m with    \u001b[2m             \u001b[0m\n",
       "\u001b[2;36m                    \u001b[0m         value: \u001b[1;36m0.9802900850614682\u001b[0m.                                               \u001b[2m             \u001b[0m\n"
      ]
     },
     "metadata": {},
     "output_type": "display_data"
    },
    {
     "data": {
      "text/html": [
       "<pre style=\"white-space:pre;overflow-x:auto;line-height:normal;font-family:Menlo,'DejaVu Sans Mono',consolas,'Courier New',monospace\"><span style=\"color: #7fbfbf; text-decoration-color: #7fbfbf\">                    </span><span style=\"color: #000080; text-decoration-color: #000080\">INFO    </span> Trial <span style=\"color: #008080; text-decoration-color: #008080; font-weight: bold\">16</span> finished with value: <span style=\"color: #008080; text-decoration-color: #008080; font-weight: bold\">0.9801042483860636</span> and parameters:         <a href=\"file:///home/prochet/miniconda3/envs/phishing/lib/python3.10/site-packages/optuna/study/study.py\" target=\"_blank\"><span style=\"color: #7f7f7f; text-decoration-color: #7f7f7f\">study.py</span></a><span style=\"color: #7f7f7f; text-decoration-color: #7f7f7f\">:</span><a href=\"file:///home/prochet/miniconda3/envs/phishing/lib/python3.10/site-packages/optuna/study/study.py#1110\" target=\"_blank\"><span style=\"color: #7f7f7f; text-decoration-color: #7f7f7f\">1110</span></a>\n",
       "<span style=\"color: #7fbfbf; text-decoration-color: #7fbfbf\">                    </span>         <span style=\"font-weight: bold\">{</span><span style=\"color: #008000; text-decoration-color: #008000\">'max_ngram_word'</span>: <span style=\"color: #008080; text-decoration-color: #008080; font-weight: bold\">3</span>, <span style=\"color: #008000; text-decoration-color: #008000\">'max_ngram_char'</span>: <span style=\"color: #008080; text-decoration-color: #008080; font-weight: bold\">4</span>, <span style=\"color: #008000; text-decoration-color: #008000\">'use_idf'</span>: <span style=\"color: #ff0000; text-decoration-color: #ff0000; font-style: italic\">False</span>,             <span style=\"color: #7f7f7f; text-decoration-color: #7f7f7f\">             </span>\n",
       "<span style=\"color: #7fbfbf; text-decoration-color: #7fbfbf\">                    </span>         <span style=\"color: #008000; text-decoration-color: #008000\">'lowercase'</span>: <span style=\"color: #ff0000; text-decoration-color: #ff0000; font-style: italic\">False</span>, <span style=\"color: #008000; text-decoration-color: #008000\">'C'</span>: <span style=\"color: #008080; text-decoration-color: #008080; font-weight: bold\">4.519272200215411</span>, <span style=\"color: #008000; text-decoration-color: #008000\">'loss'</span>: <span style=\"color: #008000; text-decoration-color: #008000\">'hinge'</span>, <span style=\"color: #008000; text-decoration-color: #008000\">'tol'</span>:      <span style=\"color: #7f7f7f; text-decoration-color: #7f7f7f\">             </span>\n",
       "<span style=\"color: #7fbfbf; text-decoration-color: #7fbfbf\">                    </span>         <span style=\"color: #008080; text-decoration-color: #008080; font-weight: bold\">0.04380632266744056</span>, <span style=\"color: #008000; text-decoration-color: #008000\">'calibration'</span>: <span style=\"color: #008000; text-decoration-color: #008000\">'sigmoid'</span><span style=\"font-weight: bold\">}</span>. Best is trial <span style=\"color: #008080; text-decoration-color: #008080; font-weight: bold\">12</span> with    <span style=\"color: #7f7f7f; text-decoration-color: #7f7f7f\">             </span>\n",
       "<span style=\"color: #7fbfbf; text-decoration-color: #7fbfbf\">                    </span>         value: <span style=\"color: #008080; text-decoration-color: #008080; font-weight: bold\">0.9802900850614682</span>.                                               <span style=\"color: #7f7f7f; text-decoration-color: #7f7f7f\">             </span>\n",
       "</pre>\n"
      ],
      "text/plain": [
       "\u001b[2;36m                   \u001b[0m\u001b[2;36m \u001b[0m\u001b[34mINFO    \u001b[0m Trial \u001b[1;36m16\u001b[0m finished with value: \u001b[1;36m0.9801042483860636\u001b[0m and parameters:         \u001b]8;id=225574;file:///home/prochet/miniconda3/envs/phishing/lib/python3.10/site-packages/optuna/study/study.py\u001b\\\u001b[2mstudy.py\u001b[0m\u001b]8;;\u001b\\\u001b[2m:\u001b[0m\u001b]8;id=60264;file:///home/prochet/miniconda3/envs/phishing/lib/python3.10/site-packages/optuna/study/study.py#1110\u001b\\\u001b[2m1110\u001b[0m\u001b]8;;\u001b\\\n",
       "\u001b[2;36m                    \u001b[0m         \u001b[1m{\u001b[0m\u001b[32m'max_ngram_word'\u001b[0m: \u001b[1;36m3\u001b[0m, \u001b[32m'max_ngram_char'\u001b[0m: \u001b[1;36m4\u001b[0m, \u001b[32m'use_idf'\u001b[0m: \u001b[3;91mFalse\u001b[0m,             \u001b[2m             \u001b[0m\n",
       "\u001b[2;36m                    \u001b[0m         \u001b[32m'lowercase'\u001b[0m: \u001b[3;91mFalse\u001b[0m, \u001b[32m'C'\u001b[0m: \u001b[1;36m4.519272200215411\u001b[0m, \u001b[32m'loss'\u001b[0m: \u001b[32m'hinge'\u001b[0m, \u001b[32m'tol'\u001b[0m:      \u001b[2m             \u001b[0m\n",
       "\u001b[2;36m                    \u001b[0m         \u001b[1;36m0.04380632266744056\u001b[0m, \u001b[32m'calibration'\u001b[0m: \u001b[32m'sigmoid'\u001b[0m\u001b[1m}\u001b[0m. Best is trial \u001b[1;36m12\u001b[0m with    \u001b[2m             \u001b[0m\n",
       "\u001b[2;36m                    \u001b[0m         value: \u001b[1;36m0.9802900850614682\u001b[0m.                                               \u001b[2m             \u001b[0m\n"
      ]
     },
     "metadata": {},
     "output_type": "display_data"
    },
    {
     "data": {
      "text/html": [
       "<pre style=\"white-space:pre;overflow-x:auto;line-height:normal;font-family:Menlo,'DejaVu Sans Mono',consolas,'Courier New',monospace\"><span style=\"color: #7fbfbf; text-decoration-color: #7fbfbf\">[11/29/23 17:07:58] </span><span style=\"color: #000080; text-decoration-color: #000080\">INFO    </span> Trial <span style=\"color: #008080; text-decoration-color: #008080; font-weight: bold\">20</span> finished with value: <span style=\"color: #008080; text-decoration-color: #008080; font-weight: bold\">0.9241780518536906</span> and parameters:         <a href=\"file:///home/prochet/miniconda3/envs/phishing/lib/python3.10/site-packages/optuna/study/study.py\" target=\"_blank\"><span style=\"color: #7f7f7f; text-decoration-color: #7f7f7f\">study.py</span></a><span style=\"color: #7f7f7f; text-decoration-color: #7f7f7f\">:</span><a href=\"file:///home/prochet/miniconda3/envs/phishing/lib/python3.10/site-packages/optuna/study/study.py#1110\" target=\"_blank\"><span style=\"color: #7f7f7f; text-decoration-color: #7f7f7f\">1110</span></a>\n",
       "<span style=\"color: #7fbfbf; text-decoration-color: #7fbfbf\">                    </span>         <span style=\"font-weight: bold\">{</span><span style=\"color: #008000; text-decoration-color: #008000\">'max_ngram_word'</span>: <span style=\"color: #008080; text-decoration-color: #008080; font-weight: bold\">3</span>, <span style=\"color: #008000; text-decoration-color: #008000\">'max_ngram_char'</span>: <span style=\"color: #008080; text-decoration-color: #008080; font-weight: bold\">4</span>, <span style=\"color: #008000; text-decoration-color: #008000\">'use_idf'</span>: <span style=\"color: #ff0000; text-decoration-color: #ff0000; font-style: italic\">False</span>,             <span style=\"color: #7f7f7f; text-decoration-color: #7f7f7f\">             </span>\n",
       "<span style=\"color: #7fbfbf; text-decoration-color: #7fbfbf\">                    </span>         <span style=\"color: #008000; text-decoration-color: #008000\">'lowercase'</span>: <span style=\"color: #ff0000; text-decoration-color: #ff0000; font-style: italic\">False</span>, <span style=\"color: #008000; text-decoration-color: #008000\">'C'</span>: <span style=\"color: #008080; text-decoration-color: #008080; font-weight: bold\">0.05379807851656496</span>, <span style=\"color: #008000; text-decoration-color: #008000\">'loss'</span>: <span style=\"color: #008000; text-decoration-color: #008000\">'hinge'</span>, <span style=\"color: #008000; text-decoration-color: #008000\">'tol'</span>:    <span style=\"color: #7f7f7f; text-decoration-color: #7f7f7f\">             </span>\n",
       "<span style=\"color: #7fbfbf; text-decoration-color: #7fbfbf\">                    </span>         <span style=\"color: #008080; text-decoration-color: #008080; font-weight: bold\">0.0029044832098898935</span>, <span style=\"color: #008000; text-decoration-color: #008000\">'calibration'</span>: <span style=\"color: #008000; text-decoration-color: #008000\">'sigmoid'</span><span style=\"font-weight: bold\">}</span>. Best is trial <span style=\"color: #008080; text-decoration-color: #008080; font-weight: bold\">12</span> with  <span style=\"color: #7f7f7f; text-decoration-color: #7f7f7f\">             </span>\n",
       "<span style=\"color: #7fbfbf; text-decoration-color: #7fbfbf\">                    </span>         value: <span style=\"color: #008080; text-decoration-color: #008080; font-weight: bold\">0.9802900850614682</span>.                                               <span style=\"color: #7f7f7f; text-decoration-color: #7f7f7f\">             </span>\n",
       "</pre>\n"
      ],
      "text/plain": [
       "\u001b[2;36m[11/29/23 17:07:58]\u001b[0m\u001b[2;36m \u001b[0m\u001b[34mINFO    \u001b[0m Trial \u001b[1;36m20\u001b[0m finished with value: \u001b[1;36m0.9241780518536906\u001b[0m and parameters:         \u001b]8;id=929358;file:///home/prochet/miniconda3/envs/phishing/lib/python3.10/site-packages/optuna/study/study.py\u001b\\\u001b[2mstudy.py\u001b[0m\u001b]8;;\u001b\\\u001b[2m:\u001b[0m\u001b]8;id=272553;file:///home/prochet/miniconda3/envs/phishing/lib/python3.10/site-packages/optuna/study/study.py#1110\u001b\\\u001b[2m1110\u001b[0m\u001b]8;;\u001b\\\n",
       "\u001b[2;36m                    \u001b[0m         \u001b[1m{\u001b[0m\u001b[32m'max_ngram_word'\u001b[0m: \u001b[1;36m3\u001b[0m, \u001b[32m'max_ngram_char'\u001b[0m: \u001b[1;36m4\u001b[0m, \u001b[32m'use_idf'\u001b[0m: \u001b[3;91mFalse\u001b[0m,             \u001b[2m             \u001b[0m\n",
       "\u001b[2;36m                    \u001b[0m         \u001b[32m'lowercase'\u001b[0m: \u001b[3;91mFalse\u001b[0m, \u001b[32m'C'\u001b[0m: \u001b[1;36m0.05379807851656496\u001b[0m, \u001b[32m'loss'\u001b[0m: \u001b[32m'hinge'\u001b[0m, \u001b[32m'tol'\u001b[0m:    \u001b[2m             \u001b[0m\n",
       "\u001b[2;36m                    \u001b[0m         \u001b[1;36m0.0029044832098898935\u001b[0m, \u001b[32m'calibration'\u001b[0m: \u001b[32m'sigmoid'\u001b[0m\u001b[1m}\u001b[0m. Best is trial \u001b[1;36m12\u001b[0m with  \u001b[2m             \u001b[0m\n",
       "\u001b[2;36m                    \u001b[0m         value: \u001b[1;36m0.9802900850614682\u001b[0m.                                               \u001b[2m             \u001b[0m\n"
      ]
     },
     "metadata": {},
     "output_type": "display_data"
    },
    {
     "data": {
      "text/html": [
       "<pre style=\"white-space:pre;overflow-x:auto;line-height:normal;font-family:Menlo,'DejaVu Sans Mono',consolas,'Courier New',monospace\"><span style=\"color: #7fbfbf; text-decoration-color: #7fbfbf\">[11/29/23 17:08:26] </span><span style=\"color: #000080; text-decoration-color: #000080\">INFO    </span> Trial <span style=\"color: #008080; text-decoration-color: #008080; font-weight: bold\">21</span> finished with value: <span style=\"color: #008080; text-decoration-color: #008080; font-weight: bold\">0.8899295258828012</span> and parameters:         <a href=\"file:///home/prochet/miniconda3/envs/phishing/lib/python3.10/site-packages/optuna/study/study.py\" target=\"_blank\"><span style=\"color: #7f7f7f; text-decoration-color: #7f7f7f\">study.py</span></a><span style=\"color: #7f7f7f; text-decoration-color: #7f7f7f\">:</span><a href=\"file:///home/prochet/miniconda3/envs/phishing/lib/python3.10/site-packages/optuna/study/study.py#1110\" target=\"_blank\"><span style=\"color: #7f7f7f; text-decoration-color: #7f7f7f\">1110</span></a>\n",
       "<span style=\"color: #7fbfbf; text-decoration-color: #7fbfbf\">                    </span>         <span style=\"font-weight: bold\">{</span><span style=\"color: #008000; text-decoration-color: #008000\">'max_ngram_word'</span>: <span style=\"color: #008080; text-decoration-color: #008080; font-weight: bold\">3</span>, <span style=\"color: #008000; text-decoration-color: #008000\">'max_ngram_char'</span>: <span style=\"color: #008080; text-decoration-color: #008080; font-weight: bold\">4</span>, <span style=\"color: #008000; text-decoration-color: #008000\">'use_idf'</span>: <span style=\"color: #ff0000; text-decoration-color: #ff0000; font-style: italic\">False</span>,             <span style=\"color: #7f7f7f; text-decoration-color: #7f7f7f\">             </span>\n",
       "<span style=\"color: #7fbfbf; text-decoration-color: #7fbfbf\">                    </span>         <span style=\"color: #008000; text-decoration-color: #008000\">'lowercase'</span>: <span style=\"color: #ff0000; text-decoration-color: #ff0000; font-style: italic\">False</span>, <span style=\"color: #008000; text-decoration-color: #008000\">'C'</span>: <span style=\"color: #008080; text-decoration-color: #008080; font-weight: bold\">0.015371802758792059</span>, <span style=\"color: #008000; text-decoration-color: #008000\">'loss'</span>: <span style=\"color: #008000; text-decoration-color: #008000\">'hinge'</span>, <span style=\"color: #008000; text-decoration-color: #008000\">'tol'</span>:   <span style=\"color: #7f7f7f; text-decoration-color: #7f7f7f\">             </span>\n",
       "<span style=\"color: #7fbfbf; text-decoration-color: #7fbfbf\">                    </span>         <span style=\"color: #008080; text-decoration-color: #008080; font-weight: bold\">0.002868409237771382</span>, <span style=\"color: #008000; text-decoration-color: #008000\">'calibration'</span>: <span style=\"color: #008000; text-decoration-color: #008000\">'sigmoid'</span><span style=\"font-weight: bold\">}</span>. Best is trial <span style=\"color: #008080; text-decoration-color: #008080; font-weight: bold\">12</span> with   <span style=\"color: #7f7f7f; text-decoration-color: #7f7f7f\">             </span>\n",
       "<span style=\"color: #7fbfbf; text-decoration-color: #7fbfbf\">                    </span>         value: <span style=\"color: #008080; text-decoration-color: #008080; font-weight: bold\">0.9802900850614682</span>.                                               <span style=\"color: #7f7f7f; text-decoration-color: #7f7f7f\">             </span>\n",
       "</pre>\n"
      ],
      "text/plain": [
       "\u001b[2;36m[11/29/23 17:08:26]\u001b[0m\u001b[2;36m \u001b[0m\u001b[34mINFO    \u001b[0m Trial \u001b[1;36m21\u001b[0m finished with value: \u001b[1;36m0.8899295258828012\u001b[0m and parameters:         \u001b]8;id=354632;file:///home/prochet/miniconda3/envs/phishing/lib/python3.10/site-packages/optuna/study/study.py\u001b\\\u001b[2mstudy.py\u001b[0m\u001b]8;;\u001b\\\u001b[2m:\u001b[0m\u001b]8;id=826361;file:///home/prochet/miniconda3/envs/phishing/lib/python3.10/site-packages/optuna/study/study.py#1110\u001b\\\u001b[2m1110\u001b[0m\u001b]8;;\u001b\\\n",
       "\u001b[2;36m                    \u001b[0m         \u001b[1m{\u001b[0m\u001b[32m'max_ngram_word'\u001b[0m: \u001b[1;36m3\u001b[0m, \u001b[32m'max_ngram_char'\u001b[0m: \u001b[1;36m4\u001b[0m, \u001b[32m'use_idf'\u001b[0m: \u001b[3;91mFalse\u001b[0m,             \u001b[2m             \u001b[0m\n",
       "\u001b[2;36m                    \u001b[0m         \u001b[32m'lowercase'\u001b[0m: \u001b[3;91mFalse\u001b[0m, \u001b[32m'C'\u001b[0m: \u001b[1;36m0.015371802758792059\u001b[0m, \u001b[32m'loss'\u001b[0m: \u001b[32m'hinge'\u001b[0m, \u001b[32m'tol'\u001b[0m:   \u001b[2m             \u001b[0m\n",
       "\u001b[2;36m                    \u001b[0m         \u001b[1;36m0.002868409237771382\u001b[0m, \u001b[32m'calibration'\u001b[0m: \u001b[32m'sigmoid'\u001b[0m\u001b[1m}\u001b[0m. Best is trial \u001b[1;36m12\u001b[0m with   \u001b[2m             \u001b[0m\n",
       "\u001b[2;36m                    \u001b[0m         value: \u001b[1;36m0.9802900850614682\u001b[0m.                                               \u001b[2m             \u001b[0m\n"
      ]
     },
     "metadata": {},
     "output_type": "display_data"
    },
    {
     "data": {
      "text/html": [
       "<pre style=\"white-space:pre;overflow-x:auto;line-height:normal;font-family:Menlo,'DejaVu Sans Mono',consolas,'Courier New',monospace\"><span style=\"color: #7fbfbf; text-decoration-color: #7fbfbf\">[11/29/23 17:08:36] </span><span style=\"color: #000080; text-decoration-color: #000080\">INFO    </span> Trial <span style=\"color: #008080; text-decoration-color: #008080; font-weight: bold\">24</span> finished with value: <span style=\"color: #008080; text-decoration-color: #008080; font-weight: bold\">0.9678725035497046</span> and parameters:         <a href=\"file:///home/prochet/miniconda3/envs/phishing/lib/python3.10/site-packages/optuna/study/study.py\" target=\"_blank\"><span style=\"color: #7f7f7f; text-decoration-color: #7f7f7f\">study.py</span></a><span style=\"color: #7f7f7f; text-decoration-color: #7f7f7f\">:</span><a href=\"file:///home/prochet/miniconda3/envs/phishing/lib/python3.10/site-packages/optuna/study/study.py#1110\" target=\"_blank\"><span style=\"color: #7f7f7f; text-decoration-color: #7f7f7f\">1110</span></a>\n",
       "<span style=\"color: #7fbfbf; text-decoration-color: #7fbfbf\">                    </span>         <span style=\"font-weight: bold\">{</span><span style=\"color: #008000; text-decoration-color: #008000\">'max_ngram_word'</span>: <span style=\"color: #008080; text-decoration-color: #008080; font-weight: bold\">3</span>, <span style=\"color: #008000; text-decoration-color: #008000\">'max_ngram_char'</span>: <span style=\"color: #008080; text-decoration-color: #008080; font-weight: bold\">2</span>, <span style=\"color: #008000; text-decoration-color: #008000\">'use_idf'</span>: <span style=\"color: #ff0000; text-decoration-color: #ff0000; font-style: italic\">False</span>,             <span style=\"color: #7f7f7f; text-decoration-color: #7f7f7f\">             </span>\n",
       "<span style=\"color: #7fbfbf; text-decoration-color: #7fbfbf\">                    </span>         <span style=\"color: #008000; text-decoration-color: #008000\">'lowercase'</span>: <span style=\"color: #ff0000; text-decoration-color: #ff0000; font-style: italic\">False</span>, <span style=\"color: #008000; text-decoration-color: #008000\">'C'</span>: <span style=\"color: #008080; text-decoration-color: #008080; font-weight: bold\">0.6191511777461423</span>, <span style=\"color: #008000; text-decoration-color: #008000\">'loss'</span>: <span style=\"color: #008000; text-decoration-color: #008000\">'hinge'</span>, <span style=\"color: #008000; text-decoration-color: #008000\">'tol'</span>:     <span style=\"color: #7f7f7f; text-decoration-color: #7f7f7f\">             </span>\n",
       "<span style=\"color: #7fbfbf; text-decoration-color: #7fbfbf\">                    </span>         <span style=\"color: #008080; text-decoration-color: #008080; font-weight: bold\">0.002143506310411135</span>, <span style=\"color: #008000; text-decoration-color: #008000\">'calibration'</span>: <span style=\"color: #008000; text-decoration-color: #008000\">'sigmoid'</span><span style=\"font-weight: bold\">}</span>. Best is trial <span style=\"color: #008080; text-decoration-color: #008080; font-weight: bold\">12</span> with   <span style=\"color: #7f7f7f; text-decoration-color: #7f7f7f\">             </span>\n",
       "<span style=\"color: #7fbfbf; text-decoration-color: #7fbfbf\">                    </span>         value: <span style=\"color: #008080; text-decoration-color: #008080; font-weight: bold\">0.9802900850614682</span>.                                               <span style=\"color: #7f7f7f; text-decoration-color: #7f7f7f\">             </span>\n",
       "</pre>\n"
      ],
      "text/plain": [
       "\u001b[2;36m[11/29/23 17:08:36]\u001b[0m\u001b[2;36m \u001b[0m\u001b[34mINFO    \u001b[0m Trial \u001b[1;36m24\u001b[0m finished with value: \u001b[1;36m0.9678725035497046\u001b[0m and parameters:         \u001b]8;id=107115;file:///home/prochet/miniconda3/envs/phishing/lib/python3.10/site-packages/optuna/study/study.py\u001b\\\u001b[2mstudy.py\u001b[0m\u001b]8;;\u001b\\\u001b[2m:\u001b[0m\u001b]8;id=419807;file:///home/prochet/miniconda3/envs/phishing/lib/python3.10/site-packages/optuna/study/study.py#1110\u001b\\\u001b[2m1110\u001b[0m\u001b]8;;\u001b\\\n",
       "\u001b[2;36m                    \u001b[0m         \u001b[1m{\u001b[0m\u001b[32m'max_ngram_word'\u001b[0m: \u001b[1;36m3\u001b[0m, \u001b[32m'max_ngram_char'\u001b[0m: \u001b[1;36m2\u001b[0m, \u001b[32m'use_idf'\u001b[0m: \u001b[3;91mFalse\u001b[0m,             \u001b[2m             \u001b[0m\n",
       "\u001b[2;36m                    \u001b[0m         \u001b[32m'lowercase'\u001b[0m: \u001b[3;91mFalse\u001b[0m, \u001b[32m'C'\u001b[0m: \u001b[1;36m0.6191511777461423\u001b[0m, \u001b[32m'loss'\u001b[0m: \u001b[32m'hinge'\u001b[0m, \u001b[32m'tol'\u001b[0m:     \u001b[2m             \u001b[0m\n",
       "\u001b[2;36m                    \u001b[0m         \u001b[1;36m0.002143506310411135\u001b[0m, \u001b[32m'calibration'\u001b[0m: \u001b[32m'sigmoid'\u001b[0m\u001b[1m}\u001b[0m. Best is trial \u001b[1;36m12\u001b[0m with   \u001b[2m             \u001b[0m\n",
       "\u001b[2;36m                    \u001b[0m         value: \u001b[1;36m0.9802900850614682\u001b[0m.                                               \u001b[2m             \u001b[0m\n"
      ]
     },
     "metadata": {},
     "output_type": "display_data"
    },
    {
     "data": {
      "text/html": [
       "<pre style=\"white-space:pre;overflow-x:auto;line-height:normal;font-family:Menlo,'DejaVu Sans Mono',consolas,'Courier New',monospace\"><span style=\"color: #7fbfbf; text-decoration-color: #7fbfbf\">[11/29/23 17:08:37] </span><span style=\"color: #000080; text-decoration-color: #000080\">INFO    </span> Trial <span style=\"color: #008080; text-decoration-color: #008080; font-weight: bold\">23</span> finished with value: <span style=\"color: #008080; text-decoration-color: #008080; font-weight: bold\">0.9700291836131726</span> and parameters:         <a href=\"file:///home/prochet/miniconda3/envs/phishing/lib/python3.10/site-packages/optuna/study/study.py\" target=\"_blank\"><span style=\"color: #7f7f7f; text-decoration-color: #7f7f7f\">study.py</span></a><span style=\"color: #7f7f7f; text-decoration-color: #7f7f7f\">:</span><a href=\"file:///home/prochet/miniconda3/envs/phishing/lib/python3.10/site-packages/optuna/study/study.py#1110\" target=\"_blank\"><span style=\"color: #7f7f7f; text-decoration-color: #7f7f7f\">1110</span></a>\n",
       "<span style=\"color: #7fbfbf; text-decoration-color: #7fbfbf\">                    </span>         <span style=\"font-weight: bold\">{</span><span style=\"color: #008000; text-decoration-color: #008000\">'max_ngram_word'</span>: <span style=\"color: #008080; text-decoration-color: #008080; font-weight: bold\">3</span>, <span style=\"color: #008000; text-decoration-color: #008000\">'max_ngram_char'</span>: <span style=\"color: #008080; text-decoration-color: #008080; font-weight: bold\">2</span>, <span style=\"color: #008000; text-decoration-color: #008000\">'use_idf'</span>: <span style=\"color: #ff0000; text-decoration-color: #ff0000; font-style: italic\">False</span>,             <span style=\"color: #7f7f7f; text-decoration-color: #7f7f7f\">             </span>\n",
       "<span style=\"color: #7fbfbf; text-decoration-color: #7fbfbf\">                    </span>         <span style=\"color: #008000; text-decoration-color: #008000\">'lowercase'</span>: <span style=\"color: #ff0000; text-decoration-color: #ff0000; font-style: italic\">False</span>, <span style=\"color: #008000; text-decoration-color: #008000\">'C'</span>: <span style=\"color: #008080; text-decoration-color: #008080; font-weight: bold\">0.731091286267774</span>, <span style=\"color: #008000; text-decoration-color: #008000\">'loss'</span>: <span style=\"color: #008000; text-decoration-color: #008000\">'hinge'</span>, <span style=\"color: #008000; text-decoration-color: #008000\">'tol'</span>:      <span style=\"color: #7f7f7f; text-decoration-color: #7f7f7f\">             </span>\n",
       "<span style=\"color: #7fbfbf; text-decoration-color: #7fbfbf\">                    </span>         <span style=\"color: #008080; text-decoration-color: #008080; font-weight: bold\">0.0025932381184336534</span>, <span style=\"color: #008000; text-decoration-color: #008000\">'calibration'</span>: <span style=\"color: #008000; text-decoration-color: #008000\">'sigmoid'</span><span style=\"font-weight: bold\">}</span>. Best is trial <span style=\"color: #008080; text-decoration-color: #008080; font-weight: bold\">12</span> with  <span style=\"color: #7f7f7f; text-decoration-color: #7f7f7f\">             </span>\n",
       "<span style=\"color: #7fbfbf; text-decoration-color: #7fbfbf\">                    </span>         value: <span style=\"color: #008080; text-decoration-color: #008080; font-weight: bold\">0.9802900850614682</span>.                                               <span style=\"color: #7f7f7f; text-decoration-color: #7f7f7f\">             </span>\n",
       "</pre>\n"
      ],
      "text/plain": [
       "\u001b[2;36m[11/29/23 17:08:37]\u001b[0m\u001b[2;36m \u001b[0m\u001b[34mINFO    \u001b[0m Trial \u001b[1;36m23\u001b[0m finished with value: \u001b[1;36m0.9700291836131726\u001b[0m and parameters:         \u001b]8;id=274564;file:///home/prochet/miniconda3/envs/phishing/lib/python3.10/site-packages/optuna/study/study.py\u001b\\\u001b[2mstudy.py\u001b[0m\u001b]8;;\u001b\\\u001b[2m:\u001b[0m\u001b]8;id=817803;file:///home/prochet/miniconda3/envs/phishing/lib/python3.10/site-packages/optuna/study/study.py#1110\u001b\\\u001b[2m1110\u001b[0m\u001b]8;;\u001b\\\n",
       "\u001b[2;36m                    \u001b[0m         \u001b[1m{\u001b[0m\u001b[32m'max_ngram_word'\u001b[0m: \u001b[1;36m3\u001b[0m, \u001b[32m'max_ngram_char'\u001b[0m: \u001b[1;36m2\u001b[0m, \u001b[32m'use_idf'\u001b[0m: \u001b[3;91mFalse\u001b[0m,             \u001b[2m             \u001b[0m\n",
       "\u001b[2;36m                    \u001b[0m         \u001b[32m'lowercase'\u001b[0m: \u001b[3;91mFalse\u001b[0m, \u001b[32m'C'\u001b[0m: \u001b[1;36m0.731091286267774\u001b[0m, \u001b[32m'loss'\u001b[0m: \u001b[32m'hinge'\u001b[0m, \u001b[32m'tol'\u001b[0m:      \u001b[2m             \u001b[0m\n",
       "\u001b[2;36m                    \u001b[0m         \u001b[1;36m0.0025932381184336534\u001b[0m, \u001b[32m'calibration'\u001b[0m: \u001b[32m'sigmoid'\u001b[0m\u001b[1m}\u001b[0m. Best is trial \u001b[1;36m12\u001b[0m with  \u001b[2m             \u001b[0m\n",
       "\u001b[2;36m                    \u001b[0m         value: \u001b[1;36m0.9802900850614682\u001b[0m.                                               \u001b[2m             \u001b[0m\n"
      ]
     },
     "metadata": {},
     "output_type": "display_data"
    },
    {
     "data": {
      "text/html": [
       "<pre style=\"white-space:pre;overflow-x:auto;line-height:normal;font-family:Menlo,'DejaVu Sans Mono',consolas,'Courier New',monospace\"><span style=\"color: #7fbfbf; text-decoration-color: #7fbfbf\">[11/29/23 17:08:41] </span><span style=\"color: #000080; text-decoration-color: #000080\">INFO    </span> Trial <span style=\"color: #008080; text-decoration-color: #008080; font-weight: bold\">22</span> finished with value: <span style=\"color: #008080; text-decoration-color: #008080; font-weight: bold\">0.97145709541466</span> and parameters:           <a href=\"file:///home/prochet/miniconda3/envs/phishing/lib/python3.10/site-packages/optuna/study/study.py\" target=\"_blank\"><span style=\"color: #7f7f7f; text-decoration-color: #7f7f7f\">study.py</span></a><span style=\"color: #7f7f7f; text-decoration-color: #7f7f7f\">:</span><a href=\"file:///home/prochet/miniconda3/envs/phishing/lib/python3.10/site-packages/optuna/study/study.py#1110\" target=\"_blank\"><span style=\"color: #7f7f7f; text-decoration-color: #7f7f7f\">1110</span></a>\n",
       "<span style=\"color: #7fbfbf; text-decoration-color: #7fbfbf\">                    </span>         <span style=\"font-weight: bold\">{</span><span style=\"color: #008000; text-decoration-color: #008000\">'max_ngram_word'</span>: <span style=\"color: #008080; text-decoration-color: #008080; font-weight: bold\">3</span>, <span style=\"color: #008000; text-decoration-color: #008000\">'max_ngram_char'</span>: <span style=\"color: #008080; text-decoration-color: #008080; font-weight: bold\">4</span>, <span style=\"color: #008000; text-decoration-color: #008000\">'use_idf'</span>: <span style=\"color: #ff0000; text-decoration-color: #ff0000; font-style: italic\">False</span>,             <span style=\"color: #7f7f7f; text-decoration-color: #7f7f7f\">             </span>\n",
       "<span style=\"color: #7fbfbf; text-decoration-color: #7fbfbf\">                    </span>         <span style=\"color: #008000; text-decoration-color: #008000\">'lowercase'</span>: <span style=\"color: #ff0000; text-decoration-color: #ff0000; font-style: italic\">False</span>, <span style=\"color: #008000; text-decoration-color: #008000\">'C'</span>: <span style=\"color: #008080; text-decoration-color: #008080; font-weight: bold\">0.5032172549836244</span>, <span style=\"color: #008000; text-decoration-color: #008000\">'loss'</span>: <span style=\"color: #008000; text-decoration-color: #008000\">'hinge'</span>, <span style=\"color: #008000; text-decoration-color: #008000\">'tol'</span>:     <span style=\"color: #7f7f7f; text-decoration-color: #7f7f7f\">             </span>\n",
       "<span style=\"color: #7fbfbf; text-decoration-color: #7fbfbf\">                    </span>         <span style=\"color: #008080; text-decoration-color: #008080; font-weight: bold\">0.0026887815274835728</span>, <span style=\"color: #008000; text-decoration-color: #008000\">'calibration'</span>: <span style=\"color: #008000; text-decoration-color: #008000\">'sigmoid'</span><span style=\"font-weight: bold\">}</span>. Best is trial <span style=\"color: #008080; text-decoration-color: #008080; font-weight: bold\">12</span> with  <span style=\"color: #7f7f7f; text-decoration-color: #7f7f7f\">             </span>\n",
       "<span style=\"color: #7fbfbf; text-decoration-color: #7fbfbf\">                    </span>         value: <span style=\"color: #008080; text-decoration-color: #008080; font-weight: bold\">0.9802900850614682</span>.                                               <span style=\"color: #7f7f7f; text-decoration-color: #7f7f7f\">             </span>\n",
       "</pre>\n"
      ],
      "text/plain": [
       "\u001b[2;36m[11/29/23 17:08:41]\u001b[0m\u001b[2;36m \u001b[0m\u001b[34mINFO    \u001b[0m Trial \u001b[1;36m22\u001b[0m finished with value: \u001b[1;36m0.97145709541466\u001b[0m and parameters:           \u001b]8;id=368621;file:///home/prochet/miniconda3/envs/phishing/lib/python3.10/site-packages/optuna/study/study.py\u001b\\\u001b[2mstudy.py\u001b[0m\u001b]8;;\u001b\\\u001b[2m:\u001b[0m\u001b]8;id=164949;file:///home/prochet/miniconda3/envs/phishing/lib/python3.10/site-packages/optuna/study/study.py#1110\u001b\\\u001b[2m1110\u001b[0m\u001b]8;;\u001b\\\n",
       "\u001b[2;36m                    \u001b[0m         \u001b[1m{\u001b[0m\u001b[32m'max_ngram_word'\u001b[0m: \u001b[1;36m3\u001b[0m, \u001b[32m'max_ngram_char'\u001b[0m: \u001b[1;36m4\u001b[0m, \u001b[32m'use_idf'\u001b[0m: \u001b[3;91mFalse\u001b[0m,             \u001b[2m             \u001b[0m\n",
       "\u001b[2;36m                    \u001b[0m         \u001b[32m'lowercase'\u001b[0m: \u001b[3;91mFalse\u001b[0m, \u001b[32m'C'\u001b[0m: \u001b[1;36m0.5032172549836244\u001b[0m, \u001b[32m'loss'\u001b[0m: \u001b[32m'hinge'\u001b[0m, \u001b[32m'tol'\u001b[0m:     \u001b[2m             \u001b[0m\n",
       "\u001b[2;36m                    \u001b[0m         \u001b[1;36m0.0026887815274835728\u001b[0m, \u001b[32m'calibration'\u001b[0m: \u001b[32m'sigmoid'\u001b[0m\u001b[1m}\u001b[0m. Best is trial \u001b[1;36m12\u001b[0m with  \u001b[2m             \u001b[0m\n",
       "\u001b[2;36m                    \u001b[0m         value: \u001b[1;36m0.9802900850614682\u001b[0m.                                               \u001b[2m             \u001b[0m\n"
      ]
     },
     "metadata": {},
     "output_type": "display_data"
    },
    {
     "data": {
      "text/html": [
       "<pre style=\"white-space:pre;overflow-x:auto;line-height:normal;font-family:Menlo,'DejaVu Sans Mono',consolas,'Courier New',monospace\"><span style=\"color: #7fbfbf; text-decoration-color: #7fbfbf\">[11/29/23 17:09:07] </span><span style=\"color: #000080; text-decoration-color: #000080\">INFO    </span> Trial <span style=\"color: #008080; text-decoration-color: #008080; font-weight: bold\">25</span> finished with value: <span style=\"color: #008080; text-decoration-color: #008080; font-weight: bold\">0.9771011958651394</span> and parameters:         <a href=\"file:///home/prochet/miniconda3/envs/phishing/lib/python3.10/site-packages/optuna/study/study.py\" target=\"_blank\"><span style=\"color: #7f7f7f; text-decoration-color: #7f7f7f\">study.py</span></a><span style=\"color: #7f7f7f; text-decoration-color: #7f7f7f\">:</span><a href=\"file:///home/prochet/miniconda3/envs/phishing/lib/python3.10/site-packages/optuna/study/study.py#1110\" target=\"_blank\"><span style=\"color: #7f7f7f; text-decoration-color: #7f7f7f\">1110</span></a>\n",
       "<span style=\"color: #7fbfbf; text-decoration-color: #7fbfbf\">                    </span>         <span style=\"font-weight: bold\">{</span><span style=\"color: #008000; text-decoration-color: #008000\">'max_ngram_word'</span>: <span style=\"color: #008080; text-decoration-color: #008080; font-weight: bold\">3</span>, <span style=\"color: #008000; text-decoration-color: #008000\">'max_ngram_char'</span>: <span style=\"color: #008080; text-decoration-color: #008080; font-weight: bold\">5</span>, <span style=\"color: #008000; text-decoration-color: #008000\">'use_idf'</span>: <span style=\"color: #ff0000; text-decoration-color: #ff0000; font-style: italic\">False</span>,             <span style=\"color: #7f7f7f; text-decoration-color: #7f7f7f\">             </span>\n",
       "<span style=\"color: #7fbfbf; text-decoration-color: #7fbfbf\">                    </span>         <span style=\"color: #008000; text-decoration-color: #008000\">'lowercase'</span>: <span style=\"color: #ff0000; text-decoration-color: #ff0000; font-style: italic\">False</span>, <span style=\"color: #008000; text-decoration-color: #008000\">'C'</span>: <span style=\"color: #008080; text-decoration-color: #008080; font-weight: bold\">0.7692121167820515</span>, <span style=\"color: #008000; text-decoration-color: #008000\">'loss'</span>: <span style=\"color: #008000; text-decoration-color: #008000\">'hinge'</span>, <span style=\"color: #008000; text-decoration-color: #008000\">'tol'</span>:     <span style=\"color: #7f7f7f; text-decoration-color: #7f7f7f\">             </span>\n",
       "<span style=\"color: #7fbfbf; text-decoration-color: #7fbfbf\">                    </span>         <span style=\"color: #008080; text-decoration-color: #008080; font-weight: bold\">1.0374256256594895e-05</span>, <span style=\"color: #008000; text-decoration-color: #008000\">'calibration'</span>: <span style=\"color: #008000; text-decoration-color: #008000\">'sigmoid'</span><span style=\"font-weight: bold\">}</span>. Best is trial <span style=\"color: #008080; text-decoration-color: #008080; font-weight: bold\">12</span> with <span style=\"color: #7f7f7f; text-decoration-color: #7f7f7f\">             </span>\n",
       "<span style=\"color: #7fbfbf; text-decoration-color: #7fbfbf\">                    </span>         value: <span style=\"color: #008080; text-decoration-color: #008080; font-weight: bold\">0.9802900850614682</span>.                                               <span style=\"color: #7f7f7f; text-decoration-color: #7f7f7f\">             </span>\n",
       "</pre>\n"
      ],
      "text/plain": [
       "\u001b[2;36m[11/29/23 17:09:07]\u001b[0m\u001b[2;36m \u001b[0m\u001b[34mINFO    \u001b[0m Trial \u001b[1;36m25\u001b[0m finished with value: \u001b[1;36m0.9771011958651394\u001b[0m and parameters:         \u001b]8;id=190347;file:///home/prochet/miniconda3/envs/phishing/lib/python3.10/site-packages/optuna/study/study.py\u001b\\\u001b[2mstudy.py\u001b[0m\u001b]8;;\u001b\\\u001b[2m:\u001b[0m\u001b]8;id=685608;file:///home/prochet/miniconda3/envs/phishing/lib/python3.10/site-packages/optuna/study/study.py#1110\u001b\\\u001b[2m1110\u001b[0m\u001b]8;;\u001b\\\n",
       "\u001b[2;36m                    \u001b[0m         \u001b[1m{\u001b[0m\u001b[32m'max_ngram_word'\u001b[0m: \u001b[1;36m3\u001b[0m, \u001b[32m'max_ngram_char'\u001b[0m: \u001b[1;36m5\u001b[0m, \u001b[32m'use_idf'\u001b[0m: \u001b[3;91mFalse\u001b[0m,             \u001b[2m             \u001b[0m\n",
       "\u001b[2;36m                    \u001b[0m         \u001b[32m'lowercase'\u001b[0m: \u001b[3;91mFalse\u001b[0m, \u001b[32m'C'\u001b[0m: \u001b[1;36m0.7692121167820515\u001b[0m, \u001b[32m'loss'\u001b[0m: \u001b[32m'hinge'\u001b[0m, \u001b[32m'tol'\u001b[0m:     \u001b[2m             \u001b[0m\n",
       "\u001b[2;36m                    \u001b[0m         \u001b[1;36m1.0374256256594895e-05\u001b[0m, \u001b[32m'calibration'\u001b[0m: \u001b[32m'sigmoid'\u001b[0m\u001b[1m}\u001b[0m. Best is trial \u001b[1;36m12\u001b[0m with \u001b[2m             \u001b[0m\n",
       "\u001b[2;36m                    \u001b[0m         value: \u001b[1;36m0.9802900850614682\u001b[0m.                                               \u001b[2m             \u001b[0m\n"
      ]
     },
     "metadata": {},
     "output_type": "display_data"
    },
    {
     "data": {
      "text/html": [
       "<pre style=\"white-space:pre;overflow-x:auto;line-height:normal;font-family:Menlo,'DejaVu Sans Mono',consolas,'Courier New',monospace\"><span style=\"color: #7fbfbf; text-decoration-color: #7fbfbf\">[11/29/23 17:09:16] </span><span style=\"color: #000080; text-decoration-color: #000080\">INFO    </span> Trial <span style=\"color: #008080; text-decoration-color: #008080; font-weight: bold\">26</span> finished with value: <span style=\"color: #008080; text-decoration-color: #008080; font-weight: bold\">0.9765214387809127</span> and parameters:         <a href=\"file:///home/prochet/miniconda3/envs/phishing/lib/python3.10/site-packages/optuna/study/study.py\" target=\"_blank\"><span style=\"color: #7f7f7f; text-decoration-color: #7f7f7f\">study.py</span></a><span style=\"color: #7f7f7f; text-decoration-color: #7f7f7f\">:</span><a href=\"file:///home/prochet/miniconda3/envs/phishing/lib/python3.10/site-packages/optuna/study/study.py#1110\" target=\"_blank\"><span style=\"color: #7f7f7f; text-decoration-color: #7f7f7f\">1110</span></a>\n",
       "<span style=\"color: #7fbfbf; text-decoration-color: #7fbfbf\">                    </span>         <span style=\"font-weight: bold\">{</span><span style=\"color: #008000; text-decoration-color: #008000\">'max_ngram_word'</span>: <span style=\"color: #008080; text-decoration-color: #008080; font-weight: bold\">3</span>, <span style=\"color: #008000; text-decoration-color: #008000\">'max_ngram_char'</span>: <span style=\"color: #008080; text-decoration-color: #008080; font-weight: bold\">5</span>, <span style=\"color: #008000; text-decoration-color: #008000\">'use_idf'</span>: <span style=\"color: #ff0000; text-decoration-color: #ff0000; font-style: italic\">False</span>,             <span style=\"color: #7f7f7f; text-decoration-color: #7f7f7f\">             </span>\n",
       "<span style=\"color: #7fbfbf; text-decoration-color: #7fbfbf\">                    </span>         <span style=\"color: #008000; text-decoration-color: #008000\">'lowercase'</span>: <span style=\"color: #ff0000; text-decoration-color: #ff0000; font-style: italic\">False</span>, <span style=\"color: #008000; text-decoration-color: #008000\">'C'</span>: <span style=\"color: #008080; text-decoration-color: #008080; font-weight: bold\">0.7212626511437394</span>, <span style=\"color: #008000; text-decoration-color: #008000\">'loss'</span>: <span style=\"color: #008000; text-decoration-color: #008000\">'hinge'</span>, <span style=\"color: #008000; text-decoration-color: #008000\">'tol'</span>:     <span style=\"color: #7f7f7f; text-decoration-color: #7f7f7f\">             </span>\n",
       "<span style=\"color: #7fbfbf; text-decoration-color: #7fbfbf\">                    </span>         <span style=\"color: #008080; text-decoration-color: #008080; font-weight: bold\">1.1882287426993428e-05</span>, <span style=\"color: #008000; text-decoration-color: #008000\">'calibration'</span>: <span style=\"color: #008000; text-decoration-color: #008000\">'sigmoid'</span><span style=\"font-weight: bold\">}</span>. Best is trial <span style=\"color: #008080; text-decoration-color: #008080; font-weight: bold\">12</span> with <span style=\"color: #7f7f7f; text-decoration-color: #7f7f7f\">             </span>\n",
       "<span style=\"color: #7fbfbf; text-decoration-color: #7fbfbf\">                    </span>         value: <span style=\"color: #008080; text-decoration-color: #008080; font-weight: bold\">0.9802900850614682</span>.                                               <span style=\"color: #7f7f7f; text-decoration-color: #7f7f7f\">             </span>\n",
       "</pre>\n"
      ],
      "text/plain": [
       "\u001b[2;36m[11/29/23 17:09:16]\u001b[0m\u001b[2;36m \u001b[0m\u001b[34mINFO    \u001b[0m Trial \u001b[1;36m26\u001b[0m finished with value: \u001b[1;36m0.9765214387809127\u001b[0m and parameters:         \u001b]8;id=43597;file:///home/prochet/miniconda3/envs/phishing/lib/python3.10/site-packages/optuna/study/study.py\u001b\\\u001b[2mstudy.py\u001b[0m\u001b]8;;\u001b\\\u001b[2m:\u001b[0m\u001b]8;id=606622;file:///home/prochet/miniconda3/envs/phishing/lib/python3.10/site-packages/optuna/study/study.py#1110\u001b\\\u001b[2m1110\u001b[0m\u001b]8;;\u001b\\\n",
       "\u001b[2;36m                    \u001b[0m         \u001b[1m{\u001b[0m\u001b[32m'max_ngram_word'\u001b[0m: \u001b[1;36m3\u001b[0m, \u001b[32m'max_ngram_char'\u001b[0m: \u001b[1;36m5\u001b[0m, \u001b[32m'use_idf'\u001b[0m: \u001b[3;91mFalse\u001b[0m,             \u001b[2m             \u001b[0m\n",
       "\u001b[2;36m                    \u001b[0m         \u001b[32m'lowercase'\u001b[0m: \u001b[3;91mFalse\u001b[0m, \u001b[32m'C'\u001b[0m: \u001b[1;36m0.7212626511437394\u001b[0m, \u001b[32m'loss'\u001b[0m: \u001b[32m'hinge'\u001b[0m, \u001b[32m'tol'\u001b[0m:     \u001b[2m             \u001b[0m\n",
       "\u001b[2;36m                    \u001b[0m         \u001b[1;36m1.1882287426993428e-05\u001b[0m, \u001b[32m'calibration'\u001b[0m: \u001b[32m'sigmoid'\u001b[0m\u001b[1m}\u001b[0m. Best is trial \u001b[1;36m12\u001b[0m with \u001b[2m             \u001b[0m\n",
       "\u001b[2;36m                    \u001b[0m         value: \u001b[1;36m0.9802900850614682\u001b[0m.                                               \u001b[2m             \u001b[0m\n"
      ]
     },
     "metadata": {},
     "output_type": "display_data"
    },
    {
     "data": {
      "text/html": [
       "<pre style=\"white-space:pre;overflow-x:auto;line-height:normal;font-family:Menlo,'DejaVu Sans Mono',consolas,'Courier New',monospace\"><span style=\"color: #7fbfbf; text-decoration-color: #7fbfbf\">[11/29/23 17:09:38] </span><span style=\"color: #000080; text-decoration-color: #000080\">INFO    </span> Trial <span style=\"color: #008080; text-decoration-color: #008080; font-weight: bold\">28</span> finished with value: <span style=\"color: #008080; text-decoration-color: #008080; font-weight: bold\">0.9805226236272311</span> and parameters:         <a href=\"file:///home/prochet/miniconda3/envs/phishing/lib/python3.10/site-packages/optuna/study/study.py\" target=\"_blank\"><span style=\"color: #7f7f7f; text-decoration-color: #7f7f7f\">study.py</span></a><span style=\"color: #7f7f7f; text-decoration-color: #7f7f7f\">:</span><a href=\"file:///home/prochet/miniconda3/envs/phishing/lib/python3.10/site-packages/optuna/study/study.py#1110\" target=\"_blank\"><span style=\"color: #7f7f7f; text-decoration-color: #7f7f7f\">1110</span></a>\n",
       "<span style=\"color: #7fbfbf; text-decoration-color: #7fbfbf\">                    </span>         <span style=\"font-weight: bold\">{</span><span style=\"color: #008000; text-decoration-color: #008000\">'max_ngram_word'</span>: <span style=\"color: #008080; text-decoration-color: #008080; font-weight: bold\">2</span>, <span style=\"color: #008000; text-decoration-color: #008000\">'max_ngram_char'</span>: <span style=\"color: #008080; text-decoration-color: #008080; font-weight: bold\">5</span>, <span style=\"color: #008000; text-decoration-color: #008000\">'use_idf'</span>: <span style=\"color: #ff0000; text-decoration-color: #ff0000; font-style: italic\">False</span>,             <span style=\"color: #7f7f7f; text-decoration-color: #7f7f7f\">             </span>\n",
       "<span style=\"color: #7fbfbf; text-decoration-color: #7fbfbf\">                    </span>         <span style=\"color: #008000; text-decoration-color: #008000\">'lowercase'</span>: <span style=\"color: #ff0000; text-decoration-color: #ff0000; font-style: italic\">False</span>, <span style=\"color: #008000; text-decoration-color: #008000\">'C'</span>: <span style=\"color: #008080; text-decoration-color: #008080; font-weight: bold\">1.1127647110246923</span>, <span style=\"color: #008000; text-decoration-color: #008000\">'loss'</span>: <span style=\"color: #008000; text-decoration-color: #008000\">'hinge'</span>, <span style=\"color: #008000; text-decoration-color: #008000\">'tol'</span>:     <span style=\"color: #7f7f7f; text-decoration-color: #7f7f7f\">             </span>\n",
       "<span style=\"color: #7fbfbf; text-decoration-color: #7fbfbf\">                    </span>         <span style=\"color: #008080; text-decoration-color: #008080; font-weight: bold\">1.891968656612895e-05</span>, <span style=\"color: #008000; text-decoration-color: #008000\">'calibration'</span>: <span style=\"color: #008000; text-decoration-color: #008000\">'sigmoid'</span><span style=\"font-weight: bold\">}</span>. Best is trial <span style=\"color: #008080; text-decoration-color: #008080; font-weight: bold\">28</span> with  <span style=\"color: #7f7f7f; text-decoration-color: #7f7f7f\">             </span>\n",
       "<span style=\"color: #7fbfbf; text-decoration-color: #7fbfbf\">                    </span>         value: <span style=\"color: #008080; text-decoration-color: #008080; font-weight: bold\">0.9805226236272311</span>.                                               <span style=\"color: #7f7f7f; text-decoration-color: #7f7f7f\">             </span>\n",
       "</pre>\n"
      ],
      "text/plain": [
       "\u001b[2;36m[11/29/23 17:09:38]\u001b[0m\u001b[2;36m \u001b[0m\u001b[34mINFO    \u001b[0m Trial \u001b[1;36m28\u001b[0m finished with value: \u001b[1;36m0.9805226236272311\u001b[0m and parameters:         \u001b]8;id=813121;file:///home/prochet/miniconda3/envs/phishing/lib/python3.10/site-packages/optuna/study/study.py\u001b\\\u001b[2mstudy.py\u001b[0m\u001b]8;;\u001b\\\u001b[2m:\u001b[0m\u001b]8;id=254580;file:///home/prochet/miniconda3/envs/phishing/lib/python3.10/site-packages/optuna/study/study.py#1110\u001b\\\u001b[2m1110\u001b[0m\u001b]8;;\u001b\\\n",
       "\u001b[2;36m                    \u001b[0m         \u001b[1m{\u001b[0m\u001b[32m'max_ngram_word'\u001b[0m: \u001b[1;36m2\u001b[0m, \u001b[32m'max_ngram_char'\u001b[0m: \u001b[1;36m5\u001b[0m, \u001b[32m'use_idf'\u001b[0m: \u001b[3;91mFalse\u001b[0m,             \u001b[2m             \u001b[0m\n",
       "\u001b[2;36m                    \u001b[0m         \u001b[32m'lowercase'\u001b[0m: \u001b[3;91mFalse\u001b[0m, \u001b[32m'C'\u001b[0m: \u001b[1;36m1.1127647110246923\u001b[0m, \u001b[32m'loss'\u001b[0m: \u001b[32m'hinge'\u001b[0m, \u001b[32m'tol'\u001b[0m:     \u001b[2m             \u001b[0m\n",
       "\u001b[2;36m                    \u001b[0m         \u001b[1;36m1.891968656612895e-05\u001b[0m, \u001b[32m'calibration'\u001b[0m: \u001b[32m'sigmoid'\u001b[0m\u001b[1m}\u001b[0m. Best is trial \u001b[1;36m28\u001b[0m with  \u001b[2m             \u001b[0m\n",
       "\u001b[2;36m                    \u001b[0m         value: \u001b[1;36m0.9805226236272311\u001b[0m.                                               \u001b[2m             \u001b[0m\n"
      ]
     },
     "metadata": {},
     "output_type": "display_data"
    },
    {
     "data": {
      "text/html": [
       "<pre style=\"white-space:pre;overflow-x:auto;line-height:normal;font-family:Menlo,'DejaVu Sans Mono',consolas,'Courier New',monospace\"><span style=\"color: #7fbfbf; text-decoration-color: #7fbfbf\">[11/29/23 17:09:46] </span><span style=\"color: #000080; text-decoration-color: #000080\">INFO    </span> Trial <span style=\"color: #008080; text-decoration-color: #008080; font-weight: bold\">27</span> finished with value: <span style=\"color: #008080; text-decoration-color: #008080; font-weight: bold\">0.9807562213008829</span> and parameters:         <a href=\"file:///home/prochet/miniconda3/envs/phishing/lib/python3.10/site-packages/optuna/study/study.py\" target=\"_blank\"><span style=\"color: #7f7f7f; text-decoration-color: #7f7f7f\">study.py</span></a><span style=\"color: #7f7f7f; text-decoration-color: #7f7f7f\">:</span><a href=\"file:///home/prochet/miniconda3/envs/phishing/lib/python3.10/site-packages/optuna/study/study.py#1110\" target=\"_blank\"><span style=\"color: #7f7f7f; text-decoration-color: #7f7f7f\">1110</span></a>\n",
       "<span style=\"color: #7fbfbf; text-decoration-color: #7fbfbf\">                    </span>         <span style=\"font-weight: bold\">{</span><span style=\"color: #008000; text-decoration-color: #008000\">'max_ngram_word'</span>: <span style=\"color: #008080; text-decoration-color: #008080; font-weight: bold\">2</span>, <span style=\"color: #008000; text-decoration-color: #008000\">'max_ngram_char'</span>: <span style=\"color: #008080; text-decoration-color: #008080; font-weight: bold\">5</span>, <span style=\"color: #008000; text-decoration-color: #008000\">'use_idf'</span>: <span style=\"color: #ff0000; text-decoration-color: #ff0000; font-style: italic\">False</span>,             <span style=\"color: #7f7f7f; text-decoration-color: #7f7f7f\">             </span>\n",
       "<span style=\"color: #7fbfbf; text-decoration-color: #7fbfbf\">                    </span>         <span style=\"color: #008000; text-decoration-color: #008000\">'lowercase'</span>: <span style=\"color: #ff0000; text-decoration-color: #ff0000; font-style: italic\">False</span>, <span style=\"color: #008000; text-decoration-color: #008000\">'C'</span>: <span style=\"color: #008080; text-decoration-color: #008080; font-weight: bold\">1.1918977536601556</span>, <span style=\"color: #008000; text-decoration-color: #008000\">'loss'</span>: <span style=\"color: #008000; text-decoration-color: #008000\">'hinge'</span>, <span style=\"color: #008000; text-decoration-color: #008000\">'tol'</span>:     <span style=\"color: #7f7f7f; text-decoration-color: #7f7f7f\">             </span>\n",
       "<span style=\"color: #7fbfbf; text-decoration-color: #7fbfbf\">                    </span>         <span style=\"color: #008080; text-decoration-color: #008080; font-weight: bold\">1.0544571512530126e-05</span>, <span style=\"color: #008000; text-decoration-color: #008000\">'calibration'</span>: <span style=\"color: #008000; text-decoration-color: #008000\">'sigmoid'</span><span style=\"font-weight: bold\">}</span>. Best is trial <span style=\"color: #008080; text-decoration-color: #008080; font-weight: bold\">27</span> with <span style=\"color: #7f7f7f; text-decoration-color: #7f7f7f\">             </span>\n",
       "<span style=\"color: #7fbfbf; text-decoration-color: #7fbfbf\">                    </span>         value: <span style=\"color: #008080; text-decoration-color: #008080; font-weight: bold\">0.9807562213008829</span>.                                               <span style=\"color: #7f7f7f; text-decoration-color: #7f7f7f\">             </span>\n",
       "</pre>\n"
      ],
      "text/plain": [
       "\u001b[2;36m[11/29/23 17:09:46]\u001b[0m\u001b[2;36m \u001b[0m\u001b[34mINFO    \u001b[0m Trial \u001b[1;36m27\u001b[0m finished with value: \u001b[1;36m0.9807562213008829\u001b[0m and parameters:         \u001b]8;id=52846;file:///home/prochet/miniconda3/envs/phishing/lib/python3.10/site-packages/optuna/study/study.py\u001b\\\u001b[2mstudy.py\u001b[0m\u001b]8;;\u001b\\\u001b[2m:\u001b[0m\u001b]8;id=617653;file:///home/prochet/miniconda3/envs/phishing/lib/python3.10/site-packages/optuna/study/study.py#1110\u001b\\\u001b[2m1110\u001b[0m\u001b]8;;\u001b\\\n",
       "\u001b[2;36m                    \u001b[0m         \u001b[1m{\u001b[0m\u001b[32m'max_ngram_word'\u001b[0m: \u001b[1;36m2\u001b[0m, \u001b[32m'max_ngram_char'\u001b[0m: \u001b[1;36m5\u001b[0m, \u001b[32m'use_idf'\u001b[0m: \u001b[3;91mFalse\u001b[0m,             \u001b[2m             \u001b[0m\n",
       "\u001b[2;36m                    \u001b[0m         \u001b[32m'lowercase'\u001b[0m: \u001b[3;91mFalse\u001b[0m, \u001b[32m'C'\u001b[0m: \u001b[1;36m1.1918977536601556\u001b[0m, \u001b[32m'loss'\u001b[0m: \u001b[32m'hinge'\u001b[0m, \u001b[32m'tol'\u001b[0m:     \u001b[2m             \u001b[0m\n",
       "\u001b[2;36m                    \u001b[0m         \u001b[1;36m1.0544571512530126e-05\u001b[0m, \u001b[32m'calibration'\u001b[0m: \u001b[32m'sigmoid'\u001b[0m\u001b[1m}\u001b[0m. Best is trial \u001b[1;36m27\u001b[0m with \u001b[2m             \u001b[0m\n",
       "\u001b[2;36m                    \u001b[0m         value: \u001b[1;36m0.9807562213008829\u001b[0m.                                               \u001b[2m             \u001b[0m\n"
      ]
     },
     "metadata": {},
     "output_type": "display_data"
    },
    {
     "data": {
      "text/html": [
       "<pre style=\"white-space:pre;overflow-x:auto;line-height:normal;font-family:Menlo,'DejaVu Sans Mono',consolas,'Courier New',monospace\"><span style=\"color: #7fbfbf; text-decoration-color: #7fbfbf\">[11/29/23 17:09:50] </span><span style=\"color: #000080; text-decoration-color: #000080\">INFO    </span> Trial <span style=\"color: #008080; text-decoration-color: #008080; font-weight: bold\">29</span> finished with value: <span style=\"color: #008080; text-decoration-color: #008080; font-weight: bold\">0.9815491237363723</span> and parameters:         <a href=\"file:///home/prochet/miniconda3/envs/phishing/lib/python3.10/site-packages/optuna/study/study.py\" target=\"_blank\"><span style=\"color: #7f7f7f; text-decoration-color: #7f7f7f\">study.py</span></a><span style=\"color: #7f7f7f; text-decoration-color: #7f7f7f\">:</span><a href=\"file:///home/prochet/miniconda3/envs/phishing/lib/python3.10/site-packages/optuna/study/study.py#1110\" target=\"_blank\"><span style=\"color: #7f7f7f; text-decoration-color: #7f7f7f\">1110</span></a>\n",
       "<span style=\"color: #7fbfbf; text-decoration-color: #7fbfbf\">                    </span>         <span style=\"font-weight: bold\">{</span><span style=\"color: #008000; text-decoration-color: #008000\">'max_ngram_word'</span>: <span style=\"color: #008080; text-decoration-color: #008080; font-weight: bold\">2</span>, <span style=\"color: #008000; text-decoration-color: #008000\">'max_ngram_char'</span>: <span style=\"color: #008080; text-decoration-color: #008080; font-weight: bold\">5</span>, <span style=\"color: #008000; text-decoration-color: #008000\">'use_idf'</span>: <span style=\"color: #ff0000; text-decoration-color: #ff0000; font-style: italic\">False</span>,             <span style=\"color: #7f7f7f; text-decoration-color: #7f7f7f\">             </span>\n",
       "<span style=\"color: #7fbfbf; text-decoration-color: #7fbfbf\">                    </span>         <span style=\"color: #008000; text-decoration-color: #008000\">'lowercase'</span>: <span style=\"color: #ff0000; text-decoration-color: #ff0000; font-style: italic\">False</span>, <span style=\"color: #008000; text-decoration-color: #008000\">'C'</span>: <span style=\"color: #008080; text-decoration-color: #008080; font-weight: bold\">1.7777051634423884</span>, <span style=\"color: #008000; text-decoration-color: #008000\">'loss'</span>: <span style=\"color: #008000; text-decoration-color: #008000\">'hinge'</span>, <span style=\"color: #008000; text-decoration-color: #008000\">'tol'</span>:     <span style=\"color: #7f7f7f; text-decoration-color: #7f7f7f\">             </span>\n",
       "<span style=\"color: #7fbfbf; text-decoration-color: #7fbfbf\">                    </span>         <span style=\"color: #008080; text-decoration-color: #008080; font-weight: bold\">1.2639434632336007e-05</span>, <span style=\"color: #008000; text-decoration-color: #008000\">'calibration'</span>: <span style=\"color: #008000; text-decoration-color: #008000\">'sigmoid'</span><span style=\"font-weight: bold\">}</span>. Best is trial <span style=\"color: #008080; text-decoration-color: #008080; font-weight: bold\">29</span> with <span style=\"color: #7f7f7f; text-decoration-color: #7f7f7f\">             </span>\n",
       "<span style=\"color: #7fbfbf; text-decoration-color: #7fbfbf\">                    </span>         value: <span style=\"color: #008080; text-decoration-color: #008080; font-weight: bold\">0.9815491237363723</span>.                                               <span style=\"color: #7f7f7f; text-decoration-color: #7f7f7f\">             </span>\n",
       "</pre>\n"
      ],
      "text/plain": [
       "\u001b[2;36m[11/29/23 17:09:50]\u001b[0m\u001b[2;36m \u001b[0m\u001b[34mINFO    \u001b[0m Trial \u001b[1;36m29\u001b[0m finished with value: \u001b[1;36m0.9815491237363723\u001b[0m and parameters:         \u001b]8;id=844097;file:///home/prochet/miniconda3/envs/phishing/lib/python3.10/site-packages/optuna/study/study.py\u001b\\\u001b[2mstudy.py\u001b[0m\u001b]8;;\u001b\\\u001b[2m:\u001b[0m\u001b]8;id=373272;file:///home/prochet/miniconda3/envs/phishing/lib/python3.10/site-packages/optuna/study/study.py#1110\u001b\\\u001b[2m1110\u001b[0m\u001b]8;;\u001b\\\n",
       "\u001b[2;36m                    \u001b[0m         \u001b[1m{\u001b[0m\u001b[32m'max_ngram_word'\u001b[0m: \u001b[1;36m2\u001b[0m, \u001b[32m'max_ngram_char'\u001b[0m: \u001b[1;36m5\u001b[0m, \u001b[32m'use_idf'\u001b[0m: \u001b[3;91mFalse\u001b[0m,             \u001b[2m             \u001b[0m\n",
       "\u001b[2;36m                    \u001b[0m         \u001b[32m'lowercase'\u001b[0m: \u001b[3;91mFalse\u001b[0m, \u001b[32m'C'\u001b[0m: \u001b[1;36m1.7777051634423884\u001b[0m, \u001b[32m'loss'\u001b[0m: \u001b[32m'hinge'\u001b[0m, \u001b[32m'tol'\u001b[0m:     \u001b[2m             \u001b[0m\n",
       "\u001b[2;36m                    \u001b[0m         \u001b[1;36m1.2639434632336007e-05\u001b[0m, \u001b[32m'calibration'\u001b[0m: \u001b[32m'sigmoid'\u001b[0m\u001b[1m}\u001b[0m. Best is trial \u001b[1;36m29\u001b[0m with \u001b[2m             \u001b[0m\n",
       "\u001b[2;36m                    \u001b[0m         value: \u001b[1;36m0.9815491237363723\u001b[0m.                                               \u001b[2m             \u001b[0m\n"
      ]
     },
     "metadata": {},
     "output_type": "display_data"
    },
    {
     "data": {
      "text/html": [
       "<pre style=\"white-space:pre;overflow-x:auto;line-height:normal;font-family:Menlo,'DejaVu Sans Mono',consolas,'Courier New',monospace\"><span style=\"color: #7fbfbf; text-decoration-color: #7fbfbf\">[11/29/23 17:10:07] </span><span style=\"color: #000080; text-decoration-color: #000080\">INFO    </span> Trial <span style=\"color: #008080; text-decoration-color: #008080; font-weight: bold\">30</span> finished with value: <span style=\"color: #008080; text-decoration-color: #008080; font-weight: bold\">0.9808091000581596</span> and parameters:         <a href=\"file:///home/prochet/miniconda3/envs/phishing/lib/python3.10/site-packages/optuna/study/study.py\" target=\"_blank\"><span style=\"color: #7f7f7f; text-decoration-color: #7f7f7f\">study.py</span></a><span style=\"color: #7f7f7f; text-decoration-color: #7f7f7f\">:</span><a href=\"file:///home/prochet/miniconda3/envs/phishing/lib/python3.10/site-packages/optuna/study/study.py#1110\" target=\"_blank\"><span style=\"color: #7f7f7f; text-decoration-color: #7f7f7f\">1110</span></a>\n",
       "<span style=\"color: #7fbfbf; text-decoration-color: #7fbfbf\">                    </span>         <span style=\"font-weight: bold\">{</span><span style=\"color: #008000; text-decoration-color: #008000\">'max_ngram_word'</span>: <span style=\"color: #008080; text-decoration-color: #008080; font-weight: bold\">2</span>, <span style=\"color: #008000; text-decoration-color: #008000\">'max_ngram_char'</span>: <span style=\"color: #008080; text-decoration-color: #008080; font-weight: bold\">5</span>, <span style=\"color: #008000; text-decoration-color: #008000\">'use_idf'</span>: <span style=\"color: #ff0000; text-decoration-color: #ff0000; font-style: italic\">False</span>,             <span style=\"color: #7f7f7f; text-decoration-color: #7f7f7f\">             </span>\n",
       "<span style=\"color: #7fbfbf; text-decoration-color: #7fbfbf\">                    </span>         <span style=\"color: #008000; text-decoration-color: #008000\">'lowercase'</span>: <span style=\"color: #ff0000; text-decoration-color: #ff0000; font-style: italic\">False</span>, <span style=\"color: #008000; text-decoration-color: #008000\">'C'</span>: <span style=\"color: #008080; text-decoration-color: #008080; font-weight: bold\">1.8709284560951982</span>, <span style=\"color: #008000; text-decoration-color: #008000\">'loss'</span>: <span style=\"color: #008000; text-decoration-color: #008000\">'squared_hinge'</span>,    <span style=\"color: #7f7f7f; text-decoration-color: #7f7f7f\">             </span>\n",
       "<span style=\"color: #7fbfbf; text-decoration-color: #7fbfbf\">                    </span>         <span style=\"color: #008000; text-decoration-color: #008000\">'tol'</span>: <span style=\"color: #008080; text-decoration-color: #008080; font-weight: bold\">2.6672741011513456e-05</span>, <span style=\"color: #008000; text-decoration-color: #008000\">'calibration'</span>: <span style=\"color: #008000; text-decoration-color: #008000\">'sigmoid'</span><span style=\"font-weight: bold\">}</span>. Best is trial  <span style=\"color: #7f7f7f; text-decoration-color: #7f7f7f\">             </span>\n",
       "<span style=\"color: #7fbfbf; text-decoration-color: #7fbfbf\">                    </span>         <span style=\"color: #008080; text-decoration-color: #008080; font-weight: bold\">29</span> with value: <span style=\"color: #008080; text-decoration-color: #008080; font-weight: bold\">0.9815491237363723</span>.                                       <span style=\"color: #7f7f7f; text-decoration-color: #7f7f7f\">             </span>\n",
       "</pre>\n"
      ],
      "text/plain": [
       "\u001b[2;36m[11/29/23 17:10:07]\u001b[0m\u001b[2;36m \u001b[0m\u001b[34mINFO    \u001b[0m Trial \u001b[1;36m30\u001b[0m finished with value: \u001b[1;36m0.9808091000581596\u001b[0m and parameters:         \u001b]8;id=77049;file:///home/prochet/miniconda3/envs/phishing/lib/python3.10/site-packages/optuna/study/study.py\u001b\\\u001b[2mstudy.py\u001b[0m\u001b]8;;\u001b\\\u001b[2m:\u001b[0m\u001b]8;id=899646;file:///home/prochet/miniconda3/envs/phishing/lib/python3.10/site-packages/optuna/study/study.py#1110\u001b\\\u001b[2m1110\u001b[0m\u001b]8;;\u001b\\\n",
       "\u001b[2;36m                    \u001b[0m         \u001b[1m{\u001b[0m\u001b[32m'max_ngram_word'\u001b[0m: \u001b[1;36m2\u001b[0m, \u001b[32m'max_ngram_char'\u001b[0m: \u001b[1;36m5\u001b[0m, \u001b[32m'use_idf'\u001b[0m: \u001b[3;91mFalse\u001b[0m,             \u001b[2m             \u001b[0m\n",
       "\u001b[2;36m                    \u001b[0m         \u001b[32m'lowercase'\u001b[0m: \u001b[3;91mFalse\u001b[0m, \u001b[32m'C'\u001b[0m: \u001b[1;36m1.8709284560951982\u001b[0m, \u001b[32m'loss'\u001b[0m: \u001b[32m'squared_hinge'\u001b[0m,    \u001b[2m             \u001b[0m\n",
       "\u001b[2;36m                    \u001b[0m         \u001b[32m'tol'\u001b[0m: \u001b[1;36m2.6672741011513456e-05\u001b[0m, \u001b[32m'calibration'\u001b[0m: \u001b[32m'sigmoid'\u001b[0m\u001b[1m}\u001b[0m. Best is trial  \u001b[2m             \u001b[0m\n",
       "\u001b[2;36m                    \u001b[0m         \u001b[1;36m29\u001b[0m with value: \u001b[1;36m0.9815491237363723\u001b[0m.                                       \u001b[2m             \u001b[0m\n"
      ]
     },
     "metadata": {},
     "output_type": "display_data"
    },
    {
     "data": {
      "text/html": [
       "<pre style=\"white-space:pre;overflow-x:auto;line-height:normal;font-family:Menlo,'DejaVu Sans Mono',consolas,'Courier New',monospace\"><span style=\"color: #7fbfbf; text-decoration-color: #7fbfbf\">[11/29/23 17:10:13] </span><span style=\"color: #000080; text-decoration-color: #000080\">INFO    </span> Trial <span style=\"color: #008080; text-decoration-color: #008080; font-weight: bold\">31</span> finished with value: <span style=\"color: #008080; text-decoration-color: #008080; font-weight: bold\">0.9810010926589298</span> and parameters:         <a href=\"file:///home/prochet/miniconda3/envs/phishing/lib/python3.10/site-packages/optuna/study/study.py\" target=\"_blank\"><span style=\"color: #7f7f7f; text-decoration-color: #7f7f7f\">study.py</span></a><span style=\"color: #7f7f7f; text-decoration-color: #7f7f7f\">:</span><a href=\"file:///home/prochet/miniconda3/envs/phishing/lib/python3.10/site-packages/optuna/study/study.py#1110\" target=\"_blank\"><span style=\"color: #7f7f7f; text-decoration-color: #7f7f7f\">1110</span></a>\n",
       "<span style=\"color: #7fbfbf; text-decoration-color: #7fbfbf\">                    </span>         <span style=\"font-weight: bold\">{</span><span style=\"color: #008000; text-decoration-color: #008000\">'max_ngram_word'</span>: <span style=\"color: #008080; text-decoration-color: #008080; font-weight: bold\">2</span>, <span style=\"color: #008000; text-decoration-color: #008000\">'max_ngram_char'</span>: <span style=\"color: #008080; text-decoration-color: #008080; font-weight: bold\">5</span>, <span style=\"color: #008000; text-decoration-color: #008000\">'use_idf'</span>: <span style=\"color: #ff0000; text-decoration-color: #ff0000; font-style: italic\">False</span>,             <span style=\"color: #7f7f7f; text-decoration-color: #7f7f7f\">             </span>\n",
       "<span style=\"color: #7fbfbf; text-decoration-color: #7fbfbf\">                    </span>         <span style=\"color: #008000; text-decoration-color: #008000\">'lowercase'</span>: <span style=\"color: #ff0000; text-decoration-color: #ff0000; font-style: italic\">False</span>, <span style=\"color: #008000; text-decoration-color: #008000\">'C'</span>: <span style=\"color: #008080; text-decoration-color: #008080; font-weight: bold\">2.2530349692310363</span>, <span style=\"color: #008000; text-decoration-color: #008000\">'loss'</span>: <span style=\"color: #008000; text-decoration-color: #008000\">'squared_hinge'</span>,    <span style=\"color: #7f7f7f; text-decoration-color: #7f7f7f\">             </span>\n",
       "<span style=\"color: #7fbfbf; text-decoration-color: #7fbfbf\">                    </span>         <span style=\"color: #008000; text-decoration-color: #008000\">'tol'</span>: <span style=\"color: #008080; text-decoration-color: #008080; font-weight: bold\">2.575648853816192e-05</span>, <span style=\"color: #008000; text-decoration-color: #008000\">'calibration'</span>: <span style=\"color: #008000; text-decoration-color: #008000\">'sigmoid'</span><span style=\"font-weight: bold\">}</span>. Best is trial   <span style=\"color: #7f7f7f; text-decoration-color: #7f7f7f\">             </span>\n",
       "<span style=\"color: #7fbfbf; text-decoration-color: #7fbfbf\">                    </span>         <span style=\"color: #008080; text-decoration-color: #008080; font-weight: bold\">29</span> with value: <span style=\"color: #008080; text-decoration-color: #008080; font-weight: bold\">0.9815491237363723</span>.                                       <span style=\"color: #7f7f7f; text-decoration-color: #7f7f7f\">             </span>\n",
       "</pre>\n"
      ],
      "text/plain": [
       "\u001b[2;36m[11/29/23 17:10:13]\u001b[0m\u001b[2;36m \u001b[0m\u001b[34mINFO    \u001b[0m Trial \u001b[1;36m31\u001b[0m finished with value: \u001b[1;36m0.9810010926589298\u001b[0m and parameters:         \u001b]8;id=72019;file:///home/prochet/miniconda3/envs/phishing/lib/python3.10/site-packages/optuna/study/study.py\u001b\\\u001b[2mstudy.py\u001b[0m\u001b]8;;\u001b\\\u001b[2m:\u001b[0m\u001b]8;id=311931;file:///home/prochet/miniconda3/envs/phishing/lib/python3.10/site-packages/optuna/study/study.py#1110\u001b\\\u001b[2m1110\u001b[0m\u001b]8;;\u001b\\\n",
       "\u001b[2;36m                    \u001b[0m         \u001b[1m{\u001b[0m\u001b[32m'max_ngram_word'\u001b[0m: \u001b[1;36m2\u001b[0m, \u001b[32m'max_ngram_char'\u001b[0m: \u001b[1;36m5\u001b[0m, \u001b[32m'use_idf'\u001b[0m: \u001b[3;91mFalse\u001b[0m,             \u001b[2m             \u001b[0m\n",
       "\u001b[2;36m                    \u001b[0m         \u001b[32m'lowercase'\u001b[0m: \u001b[3;91mFalse\u001b[0m, \u001b[32m'C'\u001b[0m: \u001b[1;36m2.2530349692310363\u001b[0m, \u001b[32m'loss'\u001b[0m: \u001b[32m'squared_hinge'\u001b[0m,    \u001b[2m             \u001b[0m\n",
       "\u001b[2;36m                    \u001b[0m         \u001b[32m'tol'\u001b[0m: \u001b[1;36m2.575648853816192e-05\u001b[0m, \u001b[32m'calibration'\u001b[0m: \u001b[32m'sigmoid'\u001b[0m\u001b[1m}\u001b[0m. Best is trial   \u001b[2m             \u001b[0m\n",
       "\u001b[2;36m                    \u001b[0m         \u001b[1;36m29\u001b[0m with value: \u001b[1;36m0.9815491237363723\u001b[0m.                                       \u001b[2m             \u001b[0m\n"
      ]
     },
     "metadata": {},
     "output_type": "display_data"
    },
    {
     "data": {
      "text/html": [
       "<pre style=\"white-space:pre;overflow-x:auto;line-height:normal;font-family:Menlo,'DejaVu Sans Mono',consolas,'Courier New',monospace\"><span style=\"color: #7fbfbf; text-decoration-color: #7fbfbf\">[11/29/23 17:10:28] </span><span style=\"color: #000080; text-decoration-color: #000080\">INFO    </span> Trial <span style=\"color: #008080; text-decoration-color: #008080; font-weight: bold\">32</span> finished with value: <span style=\"color: #008080; text-decoration-color: #008080; font-weight: bold\">0.918945329492385</span> and parameters:          <a href=\"file:///home/prochet/miniconda3/envs/phishing/lib/python3.10/site-packages/optuna/study/study.py\" target=\"_blank\"><span style=\"color: #7f7f7f; text-decoration-color: #7f7f7f\">study.py</span></a><span style=\"color: #7f7f7f; text-decoration-color: #7f7f7f\">:</span><a href=\"file:///home/prochet/miniconda3/envs/phishing/lib/python3.10/site-packages/optuna/study/study.py#1110\" target=\"_blank\"><span style=\"color: #7f7f7f; text-decoration-color: #7f7f7f\">1110</span></a>\n",
       "<span style=\"color: #7fbfbf; text-decoration-color: #7fbfbf\">                    </span>         <span style=\"font-weight: bold\">{</span><span style=\"color: #008000; text-decoration-color: #008000\">'max_ngram_word'</span>: <span style=\"color: #008080; text-decoration-color: #008080; font-weight: bold\">2</span>, <span style=\"color: #008000; text-decoration-color: #008000\">'max_ngram_char'</span>: <span style=\"color: #008080; text-decoration-color: #008080; font-weight: bold\">5</span>, <span style=\"color: #008000; text-decoration-color: #008000\">'use_idf'</span>: <span style=\"color: #ff0000; text-decoration-color: #ff0000; font-style: italic\">False</span>,             <span style=\"color: #7f7f7f; text-decoration-color: #7f7f7f\">             </span>\n",
       "<span style=\"color: #7fbfbf; text-decoration-color: #7fbfbf\">                    </span>         <span style=\"color: #008000; text-decoration-color: #008000\">'lowercase'</span>: <span style=\"color: #ff0000; text-decoration-color: #ff0000; font-style: italic\">False</span>, <span style=\"color: #008000; text-decoration-color: #008000\">'C'</span>: <span style=\"color: #008080; text-decoration-color: #008080; font-weight: bold\">0.0070676741654903405</span>, <span style=\"color: #008000; text-decoration-color: #008000\">'loss'</span>: <span style=\"color: #008000; text-decoration-color: #008000\">'squared_hinge'</span>, <span style=\"color: #7f7f7f; text-decoration-color: #7f7f7f\">             </span>\n",
       "<span style=\"color: #7fbfbf; text-decoration-color: #7fbfbf\">                    </span>         <span style=\"color: #008000; text-decoration-color: #008000\">'tol'</span>: <span style=\"color: #008080; text-decoration-color: #008080; font-weight: bold\">2.3520187984553422e-05</span>, <span style=\"color: #008000; text-decoration-color: #008000\">'calibration'</span>: <span style=\"color: #008000; text-decoration-color: #008000\">'sigmoid'</span><span style=\"font-weight: bold\">}</span>. Best is trial  <span style=\"color: #7f7f7f; text-decoration-color: #7f7f7f\">             </span>\n",
       "<span style=\"color: #7fbfbf; text-decoration-color: #7fbfbf\">                    </span>         <span style=\"color: #008080; text-decoration-color: #008080; font-weight: bold\">29</span> with value: <span style=\"color: #008080; text-decoration-color: #008080; font-weight: bold\">0.9815491237363723</span>.                                       <span style=\"color: #7f7f7f; text-decoration-color: #7f7f7f\">             </span>\n",
       "</pre>\n"
      ],
      "text/plain": [
       "\u001b[2;36m[11/29/23 17:10:28]\u001b[0m\u001b[2;36m \u001b[0m\u001b[34mINFO    \u001b[0m Trial \u001b[1;36m32\u001b[0m finished with value: \u001b[1;36m0.918945329492385\u001b[0m and parameters:          \u001b]8;id=407451;file:///home/prochet/miniconda3/envs/phishing/lib/python3.10/site-packages/optuna/study/study.py\u001b\\\u001b[2mstudy.py\u001b[0m\u001b]8;;\u001b\\\u001b[2m:\u001b[0m\u001b]8;id=348027;file:///home/prochet/miniconda3/envs/phishing/lib/python3.10/site-packages/optuna/study/study.py#1110\u001b\\\u001b[2m1110\u001b[0m\u001b]8;;\u001b\\\n",
       "\u001b[2;36m                    \u001b[0m         \u001b[1m{\u001b[0m\u001b[32m'max_ngram_word'\u001b[0m: \u001b[1;36m2\u001b[0m, \u001b[32m'max_ngram_char'\u001b[0m: \u001b[1;36m5\u001b[0m, \u001b[32m'use_idf'\u001b[0m: \u001b[3;91mFalse\u001b[0m,             \u001b[2m             \u001b[0m\n",
       "\u001b[2;36m                    \u001b[0m         \u001b[32m'lowercase'\u001b[0m: \u001b[3;91mFalse\u001b[0m, \u001b[32m'C'\u001b[0m: \u001b[1;36m0.0070676741654903405\u001b[0m, \u001b[32m'loss'\u001b[0m: \u001b[32m'squared_hinge'\u001b[0m, \u001b[2m             \u001b[0m\n",
       "\u001b[2;36m                    \u001b[0m         \u001b[32m'tol'\u001b[0m: \u001b[1;36m2.3520187984553422e-05\u001b[0m, \u001b[32m'calibration'\u001b[0m: \u001b[32m'sigmoid'\u001b[0m\u001b[1m}\u001b[0m. Best is trial  \u001b[2m             \u001b[0m\n",
       "\u001b[2;36m                    \u001b[0m         \u001b[1;36m29\u001b[0m with value: \u001b[1;36m0.9815491237363723\u001b[0m.                                       \u001b[2m             \u001b[0m\n"
      ]
     },
     "metadata": {},
     "output_type": "display_data"
    },
    {
     "data": {
      "text/html": [
       "<pre style=\"white-space:pre;overflow-x:auto;line-height:normal;font-family:Menlo,'DejaVu Sans Mono',consolas,'Courier New',monospace\"><span style=\"color: #7fbfbf; text-decoration-color: #7fbfbf\">[11/29/23 17:10:31] </span><span style=\"color: #000080; text-decoration-color: #000080\">INFO    </span> Trial <span style=\"color: #008080; text-decoration-color: #008080; font-weight: bold\">33</span> finished with value: <span style=\"color: #008080; text-decoration-color: #008080; font-weight: bold\">0.9207286363747553</span> and parameters:         <a href=\"file:///home/prochet/miniconda3/envs/phishing/lib/python3.10/site-packages/optuna/study/study.py\" target=\"_blank\"><span style=\"color: #7f7f7f; text-decoration-color: #7f7f7f\">study.py</span></a><span style=\"color: #7f7f7f; text-decoration-color: #7f7f7f\">:</span><a href=\"file:///home/prochet/miniconda3/envs/phishing/lib/python3.10/site-packages/optuna/study/study.py#1110\" target=\"_blank\"><span style=\"color: #7f7f7f; text-decoration-color: #7f7f7f\">1110</span></a>\n",
       "<span style=\"color: #7fbfbf; text-decoration-color: #7fbfbf\">                    </span>         <span style=\"font-weight: bold\">{</span><span style=\"color: #008000; text-decoration-color: #008000\">'max_ngram_word'</span>: <span style=\"color: #008080; text-decoration-color: #008080; font-weight: bold\">2</span>, <span style=\"color: #008000; text-decoration-color: #008000\">'max_ngram_char'</span>: <span style=\"color: #008080; text-decoration-color: #008080; font-weight: bold\">3</span>, <span style=\"color: #008000; text-decoration-color: #008000\">'use_idf'</span>: <span style=\"color: #ff0000; text-decoration-color: #ff0000; font-style: italic\">False</span>,             <span style=\"color: #7f7f7f; text-decoration-color: #7f7f7f\">             </span>\n",
       "<span style=\"color: #7fbfbf; text-decoration-color: #7fbfbf\">                    </span>         <span style=\"color: #008000; text-decoration-color: #008000\">'lowercase'</span>: <span style=\"color: #00ff00; text-decoration-color: #00ff00; font-style: italic\">True</span>, <span style=\"color: #008000; text-decoration-color: #008000\">'C'</span>: <span style=\"color: #008080; text-decoration-color: #008080; font-weight: bold\">0.007430002364395008</span>, <span style=\"color: #008000; text-decoration-color: #008000\">'loss'</span>: <span style=\"color: #008000; text-decoration-color: #008000\">'squared_hinge'</span>,   <span style=\"color: #7f7f7f; text-decoration-color: #7f7f7f\">             </span>\n",
       "<span style=\"color: #7fbfbf; text-decoration-color: #7fbfbf\">                    </span>         <span style=\"color: #008000; text-decoration-color: #008000\">'tol'</span>: <span style=\"color: #008080; text-decoration-color: #008080; font-weight: bold\">2.7853608218864575e-05</span>, <span style=\"color: #008000; text-decoration-color: #008000\">'calibration'</span>: <span style=\"color: #008000; text-decoration-color: #008000\">'sigmoid'</span><span style=\"font-weight: bold\">}</span>. Best is trial  <span style=\"color: #7f7f7f; text-decoration-color: #7f7f7f\">             </span>\n",
       "<span style=\"color: #7fbfbf; text-decoration-color: #7fbfbf\">                    </span>         <span style=\"color: #008080; text-decoration-color: #008080; font-weight: bold\">29</span> with value: <span style=\"color: #008080; text-decoration-color: #008080; font-weight: bold\">0.9815491237363723</span>.                                       <span style=\"color: #7f7f7f; text-decoration-color: #7f7f7f\">             </span>\n",
       "</pre>\n"
      ],
      "text/plain": [
       "\u001b[2;36m[11/29/23 17:10:31]\u001b[0m\u001b[2;36m \u001b[0m\u001b[34mINFO    \u001b[0m Trial \u001b[1;36m33\u001b[0m finished with value: \u001b[1;36m0.9207286363747553\u001b[0m and parameters:         \u001b]8;id=979436;file:///home/prochet/miniconda3/envs/phishing/lib/python3.10/site-packages/optuna/study/study.py\u001b\\\u001b[2mstudy.py\u001b[0m\u001b]8;;\u001b\\\u001b[2m:\u001b[0m\u001b]8;id=347340;file:///home/prochet/miniconda3/envs/phishing/lib/python3.10/site-packages/optuna/study/study.py#1110\u001b\\\u001b[2m1110\u001b[0m\u001b]8;;\u001b\\\n",
       "\u001b[2;36m                    \u001b[0m         \u001b[1m{\u001b[0m\u001b[32m'max_ngram_word'\u001b[0m: \u001b[1;36m2\u001b[0m, \u001b[32m'max_ngram_char'\u001b[0m: \u001b[1;36m3\u001b[0m, \u001b[32m'use_idf'\u001b[0m: \u001b[3;91mFalse\u001b[0m,             \u001b[2m             \u001b[0m\n",
       "\u001b[2;36m                    \u001b[0m         \u001b[32m'lowercase'\u001b[0m: \u001b[3;92mTrue\u001b[0m, \u001b[32m'C'\u001b[0m: \u001b[1;36m0.007430002364395008\u001b[0m, \u001b[32m'loss'\u001b[0m: \u001b[32m'squared_hinge'\u001b[0m,   \u001b[2m             \u001b[0m\n",
       "\u001b[2;36m                    \u001b[0m         \u001b[32m'tol'\u001b[0m: \u001b[1;36m2.7853608218864575e-05\u001b[0m, \u001b[32m'calibration'\u001b[0m: \u001b[32m'sigmoid'\u001b[0m\u001b[1m}\u001b[0m. Best is trial  \u001b[2m             \u001b[0m\n",
       "\u001b[2;36m                    \u001b[0m         \u001b[1;36m29\u001b[0m with value: \u001b[1;36m0.9815491237363723\u001b[0m.                                       \u001b[2m             \u001b[0m\n"
      ]
     },
     "metadata": {},
     "output_type": "display_data"
    },
    {
     "data": {
      "text/html": [
       "<pre style=\"white-space:pre;overflow-x:auto;line-height:normal;font-family:Menlo,'DejaVu Sans Mono',consolas,'Courier New',monospace\"><span style=\"color: #7fbfbf; text-decoration-color: #7fbfbf\">[11/29/23 17:10:32] </span><span style=\"color: #000080; text-decoration-color: #000080\">INFO    </span> Trial <span style=\"color: #008080; text-decoration-color: #008080; font-weight: bold\">34</span> finished with value: <span style=\"color: #008080; text-decoration-color: #008080; font-weight: bold\">0.9216292906735191</span> and parameters:         <a href=\"file:///home/prochet/miniconda3/envs/phishing/lib/python3.10/site-packages/optuna/study/study.py\" target=\"_blank\"><span style=\"color: #7f7f7f; text-decoration-color: #7f7f7f\">study.py</span></a><span style=\"color: #7f7f7f; text-decoration-color: #7f7f7f\">:</span><a href=\"file:///home/prochet/miniconda3/envs/phishing/lib/python3.10/site-packages/optuna/study/study.py#1110\" target=\"_blank\"><span style=\"color: #7f7f7f; text-decoration-color: #7f7f7f\">1110</span></a>\n",
       "<span style=\"color: #7fbfbf; text-decoration-color: #7fbfbf\">                    </span>         <span style=\"font-weight: bold\">{</span><span style=\"color: #008000; text-decoration-color: #008000\">'max_ngram_word'</span>: <span style=\"color: #008080; text-decoration-color: #008080; font-weight: bold\">2</span>, <span style=\"color: #008000; text-decoration-color: #008000\">'max_ngram_char'</span>: <span style=\"color: #008080; text-decoration-color: #008080; font-weight: bold\">3</span>, <span style=\"color: #008000; text-decoration-color: #008000\">'use_idf'</span>: <span style=\"color: #ff0000; text-decoration-color: #ff0000; font-style: italic\">False</span>,             <span style=\"color: #7f7f7f; text-decoration-color: #7f7f7f\">             </span>\n",
       "<span style=\"color: #7fbfbf; text-decoration-color: #7fbfbf\">                    </span>         <span style=\"color: #008000; text-decoration-color: #008000\">'lowercase'</span>: <span style=\"color: #00ff00; text-decoration-color: #00ff00; font-style: italic\">True</span>, <span style=\"color: #008000; text-decoration-color: #008000\">'C'</span>: <span style=\"color: #008080; text-decoration-color: #008080; font-weight: bold\">0.0077207606725161835</span>, <span style=\"color: #008000; text-decoration-color: #008000\">'loss'</span>: <span style=\"color: #008000; text-decoration-color: #008000\">'squared_hinge'</span>,  <span style=\"color: #7f7f7f; text-decoration-color: #7f7f7f\">             </span>\n",
       "<span style=\"color: #7fbfbf; text-decoration-color: #7fbfbf\">                    </span>         <span style=\"color: #008000; text-decoration-color: #008000\">'tol'</span>: <span style=\"color: #008080; text-decoration-color: #008080; font-weight: bold\">2.9740971587472524e-05</span>, <span style=\"color: #008000; text-decoration-color: #008000\">'calibration'</span>: <span style=\"color: #008000; text-decoration-color: #008000\">'sigmoid'</span><span style=\"font-weight: bold\">}</span>. Best is trial  <span style=\"color: #7f7f7f; text-decoration-color: #7f7f7f\">             </span>\n",
       "<span style=\"color: #7fbfbf; text-decoration-color: #7fbfbf\">                    </span>         <span style=\"color: #008080; text-decoration-color: #008080; font-weight: bold\">29</span> with value: <span style=\"color: #008080; text-decoration-color: #008080; font-weight: bold\">0.9815491237363723</span>.                                       <span style=\"color: #7f7f7f; text-decoration-color: #7f7f7f\">             </span>\n",
       "</pre>\n"
      ],
      "text/plain": [
       "\u001b[2;36m[11/29/23 17:10:32]\u001b[0m\u001b[2;36m \u001b[0m\u001b[34mINFO    \u001b[0m Trial \u001b[1;36m34\u001b[0m finished with value: \u001b[1;36m0.9216292906735191\u001b[0m and parameters:         \u001b]8;id=85010;file:///home/prochet/miniconda3/envs/phishing/lib/python3.10/site-packages/optuna/study/study.py\u001b\\\u001b[2mstudy.py\u001b[0m\u001b]8;;\u001b\\\u001b[2m:\u001b[0m\u001b]8;id=229016;file:///home/prochet/miniconda3/envs/phishing/lib/python3.10/site-packages/optuna/study/study.py#1110\u001b\\\u001b[2m1110\u001b[0m\u001b]8;;\u001b\\\n",
       "\u001b[2;36m                    \u001b[0m         \u001b[1m{\u001b[0m\u001b[32m'max_ngram_word'\u001b[0m: \u001b[1;36m2\u001b[0m, \u001b[32m'max_ngram_char'\u001b[0m: \u001b[1;36m3\u001b[0m, \u001b[32m'use_idf'\u001b[0m: \u001b[3;91mFalse\u001b[0m,             \u001b[2m             \u001b[0m\n",
       "\u001b[2;36m                    \u001b[0m         \u001b[32m'lowercase'\u001b[0m: \u001b[3;92mTrue\u001b[0m, \u001b[32m'C'\u001b[0m: \u001b[1;36m0.0077207606725161835\u001b[0m, \u001b[32m'loss'\u001b[0m: \u001b[32m'squared_hinge'\u001b[0m,  \u001b[2m             \u001b[0m\n",
       "\u001b[2;36m                    \u001b[0m         \u001b[32m'tol'\u001b[0m: \u001b[1;36m2.9740971587472524e-05\u001b[0m, \u001b[32m'calibration'\u001b[0m: \u001b[32m'sigmoid'\u001b[0m\u001b[1m}\u001b[0m. Best is trial  \u001b[2m             \u001b[0m\n",
       "\u001b[2;36m                    \u001b[0m         \u001b[1;36m29\u001b[0m with value: \u001b[1;36m0.9815491237363723\u001b[0m.                                       \u001b[2m             \u001b[0m\n"
      ]
     },
     "metadata": {},
     "output_type": "display_data"
    },
    {
     "data": {
      "text/html": [
       "<pre style=\"white-space:pre;overflow-x:auto;line-height:normal;font-family:Menlo,'DejaVu Sans Mono',consolas,'Courier New',monospace\"><span style=\"color: #7fbfbf; text-decoration-color: #7fbfbf\">[11/29/23 17:11:10] </span><span style=\"color: #000080; text-decoration-color: #000080\">INFO    </span> Trial <span style=\"color: #008080; text-decoration-color: #008080; font-weight: bold\">35</span> finished with value: <span style=\"color: #008080; text-decoration-color: #008080; font-weight: bold\">0.9717155930400437</span> and parameters:         <a href=\"file:///home/prochet/miniconda3/envs/phishing/lib/python3.10/site-packages/optuna/study/study.py\" target=\"_blank\"><span style=\"color: #7f7f7f; text-decoration-color: #7f7f7f\">study.py</span></a><span style=\"color: #7f7f7f; text-decoration-color: #7f7f7f\">:</span><a href=\"file:///home/prochet/miniconda3/envs/phishing/lib/python3.10/site-packages/optuna/study/study.py#1110\" target=\"_blank\"><span style=\"color: #7f7f7f; text-decoration-color: #7f7f7f\">1110</span></a>\n",
       "<span style=\"color: #7fbfbf; text-decoration-color: #7fbfbf\">                    </span>         <span style=\"font-weight: bold\">{</span><span style=\"color: #008000; text-decoration-color: #008000\">'max_ngram_word'</span>: <span style=\"color: #008080; text-decoration-color: #008080; font-weight: bold\">2</span>, <span style=\"color: #008000; text-decoration-color: #008000\">'max_ngram_char'</span>: <span style=\"color: #008080; text-decoration-color: #008080; font-weight: bold\">5</span>, <span style=\"color: #008000; text-decoration-color: #008000\">'use_idf'</span>: <span style=\"color: #ff0000; text-decoration-color: #ff0000; font-style: italic\">False</span>,             <span style=\"color: #7f7f7f; text-decoration-color: #7f7f7f\">             </span>\n",
       "<span style=\"color: #7fbfbf; text-decoration-color: #7fbfbf\">                    </span>         <span style=\"color: #008000; text-decoration-color: #008000\">'lowercase'</span>: <span style=\"color: #ff0000; text-decoration-color: #ff0000; font-style: italic\">False</span>, <span style=\"color: #008000; text-decoration-color: #008000\">'C'</span>: <span style=\"color: #008080; text-decoration-color: #008080; font-weight: bold\">0.18066715158892135</span>, <span style=\"color: #008000; text-decoration-color: #008000\">'loss'</span>: <span style=\"color: #008000; text-decoration-color: #008000\">'squared_hinge'</span>,   <span style=\"color: #7f7f7f; text-decoration-color: #7f7f7f\">             </span>\n",
       "<span style=\"color: #7fbfbf; text-decoration-color: #7fbfbf\">                    </span>         <span style=\"color: #008000; text-decoration-color: #008000\">'tol'</span>: <span style=\"color: #008080; text-decoration-color: #008080; font-weight: bold\">3.855881798766616e-05</span>, <span style=\"color: #008000; text-decoration-color: #008000\">'calibration'</span>: <span style=\"color: #008000; text-decoration-color: #008000\">'sigmoid'</span><span style=\"font-weight: bold\">}</span>. Best is trial   <span style=\"color: #7f7f7f; text-decoration-color: #7f7f7f\">             </span>\n",
       "<span style=\"color: #7fbfbf; text-decoration-color: #7fbfbf\">                    </span>         <span style=\"color: #008080; text-decoration-color: #008080; font-weight: bold\">29</span> with value: <span style=\"color: #008080; text-decoration-color: #008080; font-weight: bold\">0.9815491237363723</span>.                                       <span style=\"color: #7f7f7f; text-decoration-color: #7f7f7f\">             </span>\n",
       "</pre>\n"
      ],
      "text/plain": [
       "\u001b[2;36m[11/29/23 17:11:10]\u001b[0m\u001b[2;36m \u001b[0m\u001b[34mINFO    \u001b[0m Trial \u001b[1;36m35\u001b[0m finished with value: \u001b[1;36m0.9717155930400437\u001b[0m and parameters:         \u001b]8;id=972370;file:///home/prochet/miniconda3/envs/phishing/lib/python3.10/site-packages/optuna/study/study.py\u001b\\\u001b[2mstudy.py\u001b[0m\u001b]8;;\u001b\\\u001b[2m:\u001b[0m\u001b]8;id=950342;file:///home/prochet/miniconda3/envs/phishing/lib/python3.10/site-packages/optuna/study/study.py#1110\u001b\\\u001b[2m1110\u001b[0m\u001b]8;;\u001b\\\n",
       "\u001b[2;36m                    \u001b[0m         \u001b[1m{\u001b[0m\u001b[32m'max_ngram_word'\u001b[0m: \u001b[1;36m2\u001b[0m, \u001b[32m'max_ngram_char'\u001b[0m: \u001b[1;36m5\u001b[0m, \u001b[32m'use_idf'\u001b[0m: \u001b[3;91mFalse\u001b[0m,             \u001b[2m             \u001b[0m\n",
       "\u001b[2;36m                    \u001b[0m         \u001b[32m'lowercase'\u001b[0m: \u001b[3;91mFalse\u001b[0m, \u001b[32m'C'\u001b[0m: \u001b[1;36m0.18066715158892135\u001b[0m, \u001b[32m'loss'\u001b[0m: \u001b[32m'squared_hinge'\u001b[0m,   \u001b[2m             \u001b[0m\n",
       "\u001b[2;36m                    \u001b[0m         \u001b[32m'tol'\u001b[0m: \u001b[1;36m3.855881798766616e-05\u001b[0m, \u001b[32m'calibration'\u001b[0m: \u001b[32m'sigmoid'\u001b[0m\u001b[1m}\u001b[0m. Best is trial   \u001b[2m             \u001b[0m\n",
       "\u001b[2;36m                    \u001b[0m         \u001b[1;36m29\u001b[0m with value: \u001b[1;36m0.9815491237363723\u001b[0m.                                       \u001b[2m             \u001b[0m\n"
      ]
     },
     "metadata": {},
     "output_type": "display_data"
    },
    {
     "data": {
      "text/html": [
       "<pre style=\"white-space:pre;overflow-x:auto;line-height:normal;font-family:Menlo,'DejaVu Sans Mono',consolas,'Courier New',monospace\"><span style=\"color: #7fbfbf; text-decoration-color: #7fbfbf\">[11/29/23 17:11:21] </span><span style=\"color: #000080; text-decoration-color: #000080\">INFO    </span> Trial <span style=\"color: #008080; text-decoration-color: #008080; font-weight: bold\">36</span> finished with value: <span style=\"color: #008080; text-decoration-color: #008080; font-weight: bold\">0.9747914985494409</span> and parameters:         <a href=\"file:///home/prochet/miniconda3/envs/phishing/lib/python3.10/site-packages/optuna/study/study.py\" target=\"_blank\"><span style=\"color: #7f7f7f; text-decoration-color: #7f7f7f\">study.py</span></a><span style=\"color: #7f7f7f; text-decoration-color: #7f7f7f\">:</span><a href=\"file:///home/prochet/miniconda3/envs/phishing/lib/python3.10/site-packages/optuna/study/study.py#1110\" target=\"_blank\"><span style=\"color: #7f7f7f; text-decoration-color: #7f7f7f\">1110</span></a>\n",
       "<span style=\"color: #7fbfbf; text-decoration-color: #7fbfbf\">                    </span>         <span style=\"font-weight: bold\">{</span><span style=\"color: #008000; text-decoration-color: #008000\">'max_ngram_word'</span>: <span style=\"color: #008080; text-decoration-color: #008080; font-weight: bold\">2</span>, <span style=\"color: #008000; text-decoration-color: #008000\">'max_ngram_char'</span>: <span style=\"color: #008080; text-decoration-color: #008080; font-weight: bold\">5</span>, <span style=\"color: #008000; text-decoration-color: #008000\">'use_idf'</span>: <span style=\"color: #ff0000; text-decoration-color: #ff0000; font-style: italic\">False</span>,             <span style=\"color: #7f7f7f; text-decoration-color: #7f7f7f\">             </span>\n",
       "<span style=\"color: #7fbfbf; text-decoration-color: #7fbfbf\">                    </span>         <span style=\"color: #008000; text-decoration-color: #008000\">'lowercase'</span>: <span style=\"color: #00ff00; text-decoration-color: #00ff00; font-style: italic\">True</span>, <span style=\"color: #008000; text-decoration-color: #008000\">'C'</span>: <span style=\"color: #008080; text-decoration-color: #008080; font-weight: bold\">0.23884037205948885</span>, <span style=\"color: #008000; text-decoration-color: #008000\">'loss'</span>: <span style=\"color: #008000; text-decoration-color: #008000\">'squared_hinge'</span>,    <span style=\"color: #7f7f7f; text-decoration-color: #7f7f7f\">             </span>\n",
       "<span style=\"color: #7fbfbf; text-decoration-color: #7fbfbf\">                    </span>         <span style=\"color: #008000; text-decoration-color: #008000\">'tol'</span>: <span style=\"color: #008080; text-decoration-color: #008080; font-weight: bold\">2.7024501414542286e-05</span>, <span style=\"color: #008000; text-decoration-color: #008000\">'calibration'</span>: <span style=\"color: #008000; text-decoration-color: #008000\">'sigmoid'</span><span style=\"font-weight: bold\">}</span>. Best is trial  <span style=\"color: #7f7f7f; text-decoration-color: #7f7f7f\">             </span>\n",
       "<span style=\"color: #7fbfbf; text-decoration-color: #7fbfbf\">                    </span>         <span style=\"color: #008080; text-decoration-color: #008080; font-weight: bold\">29</span> with value: <span style=\"color: #008080; text-decoration-color: #008080; font-weight: bold\">0.9815491237363723</span>.                                       <span style=\"color: #7f7f7f; text-decoration-color: #7f7f7f\">             </span>\n",
       "</pre>\n"
      ],
      "text/plain": [
       "\u001b[2;36m[11/29/23 17:11:21]\u001b[0m\u001b[2;36m \u001b[0m\u001b[34mINFO    \u001b[0m Trial \u001b[1;36m36\u001b[0m finished with value: \u001b[1;36m0.9747914985494409\u001b[0m and parameters:         \u001b]8;id=437454;file:///home/prochet/miniconda3/envs/phishing/lib/python3.10/site-packages/optuna/study/study.py\u001b\\\u001b[2mstudy.py\u001b[0m\u001b]8;;\u001b\\\u001b[2m:\u001b[0m\u001b]8;id=550321;file:///home/prochet/miniconda3/envs/phishing/lib/python3.10/site-packages/optuna/study/study.py#1110\u001b\\\u001b[2m1110\u001b[0m\u001b]8;;\u001b\\\n",
       "\u001b[2;36m                    \u001b[0m         \u001b[1m{\u001b[0m\u001b[32m'max_ngram_word'\u001b[0m: \u001b[1;36m2\u001b[0m, \u001b[32m'max_ngram_char'\u001b[0m: \u001b[1;36m5\u001b[0m, \u001b[32m'use_idf'\u001b[0m: \u001b[3;91mFalse\u001b[0m,             \u001b[2m             \u001b[0m\n",
       "\u001b[2;36m                    \u001b[0m         \u001b[32m'lowercase'\u001b[0m: \u001b[3;92mTrue\u001b[0m, \u001b[32m'C'\u001b[0m: \u001b[1;36m0.23884037205948885\u001b[0m, \u001b[32m'loss'\u001b[0m: \u001b[32m'squared_hinge'\u001b[0m,    \u001b[2m             \u001b[0m\n",
       "\u001b[2;36m                    \u001b[0m         \u001b[32m'tol'\u001b[0m: \u001b[1;36m2.7024501414542286e-05\u001b[0m, \u001b[32m'calibration'\u001b[0m: \u001b[32m'sigmoid'\u001b[0m\u001b[1m}\u001b[0m. Best is trial  \u001b[2m             \u001b[0m\n",
       "\u001b[2;36m                    \u001b[0m         \u001b[1;36m29\u001b[0m with value: \u001b[1;36m0.9815491237363723\u001b[0m.                                       \u001b[2m             \u001b[0m\n"
      ]
     },
     "metadata": {},
     "output_type": "display_data"
    },
    {
     "data": {
      "text/html": [
       "<pre style=\"white-space:pre;overflow-x:auto;line-height:normal;font-family:Menlo,'DejaVu Sans Mono',consolas,'Courier New',monospace\"><span style=\"color: #7fbfbf; text-decoration-color: #7fbfbf\">[11/29/23 17:11:26] </span><span style=\"color: #000080; text-decoration-color: #000080\">INFO    </span> Trial <span style=\"color: #008080; text-decoration-color: #008080; font-weight: bold\">37</span> finished with value: <span style=\"color: #008080; text-decoration-color: #008080; font-weight: bold\">0.9730317553695145</span> and parameters:         <a href=\"file:///home/prochet/miniconda3/envs/phishing/lib/python3.10/site-packages/optuna/study/study.py\" target=\"_blank\"><span style=\"color: #7f7f7f; text-decoration-color: #7f7f7f\">study.py</span></a><span style=\"color: #7f7f7f; text-decoration-color: #7f7f7f\">:</span><a href=\"file:///home/prochet/miniconda3/envs/phishing/lib/python3.10/site-packages/optuna/study/study.py#1110\" target=\"_blank\"><span style=\"color: #7f7f7f; text-decoration-color: #7f7f7f\">1110</span></a>\n",
       "<span style=\"color: #7fbfbf; text-decoration-color: #7fbfbf\">                    </span>         <span style=\"font-weight: bold\">{</span><span style=\"color: #008000; text-decoration-color: #008000\">'max_ngram_word'</span>: <span style=\"color: #008080; text-decoration-color: #008080; font-weight: bold\">2</span>, <span style=\"color: #008000; text-decoration-color: #008000\">'max_ngram_char'</span>: <span style=\"color: #008080; text-decoration-color: #008080; font-weight: bold\">4</span>, <span style=\"color: #008000; text-decoration-color: #008000\">'use_idf'</span>: <span style=\"color: #ff0000; text-decoration-color: #ff0000; font-style: italic\">False</span>,             <span style=\"color: #7f7f7f; text-decoration-color: #7f7f7f\">             </span>\n",
       "<span style=\"color: #7fbfbf; text-decoration-color: #7fbfbf\">                    </span>         <span style=\"color: #008000; text-decoration-color: #008000\">'lowercase'</span>: <span style=\"color: #00ff00; text-decoration-color: #00ff00; font-style: italic\">True</span>, <span style=\"color: #008000; text-decoration-color: #008000\">'C'</span>: <span style=\"color: #008080; text-decoration-color: #008080; font-weight: bold\">0.19582004464775385</span>, <span style=\"color: #008000; text-decoration-color: #008000\">'loss'</span>: <span style=\"color: #008000; text-decoration-color: #008000\">'squared_hinge'</span>,    <span style=\"color: #7f7f7f; text-decoration-color: #7f7f7f\">             </span>\n",
       "<span style=\"color: #7fbfbf; text-decoration-color: #7fbfbf\">                    </span>         <span style=\"color: #008000; text-decoration-color: #008000\">'tol'</span>: <span style=\"color: #008080; text-decoration-color: #008080; font-weight: bold\">3.605763927781606e-05</span>, <span style=\"color: #008000; text-decoration-color: #008000\">'calibration'</span>: <span style=\"color: #008000; text-decoration-color: #008000\">'sigmoid'</span><span style=\"font-weight: bold\">}</span>. Best is trial   <span style=\"color: #7f7f7f; text-decoration-color: #7f7f7f\">             </span>\n",
       "<span style=\"color: #7fbfbf; text-decoration-color: #7fbfbf\">                    </span>         <span style=\"color: #008080; text-decoration-color: #008080; font-weight: bold\">29</span> with value: <span style=\"color: #008080; text-decoration-color: #008080; font-weight: bold\">0.9815491237363723</span>.                                       <span style=\"color: #7f7f7f; text-decoration-color: #7f7f7f\">             </span>\n",
       "</pre>\n"
      ],
      "text/plain": [
       "\u001b[2;36m[11/29/23 17:11:26]\u001b[0m\u001b[2;36m \u001b[0m\u001b[34mINFO    \u001b[0m Trial \u001b[1;36m37\u001b[0m finished with value: \u001b[1;36m0.9730317553695145\u001b[0m and parameters:         \u001b]8;id=689913;file:///home/prochet/miniconda3/envs/phishing/lib/python3.10/site-packages/optuna/study/study.py\u001b\\\u001b[2mstudy.py\u001b[0m\u001b]8;;\u001b\\\u001b[2m:\u001b[0m\u001b]8;id=69813;file:///home/prochet/miniconda3/envs/phishing/lib/python3.10/site-packages/optuna/study/study.py#1110\u001b\\\u001b[2m1110\u001b[0m\u001b]8;;\u001b\\\n",
       "\u001b[2;36m                    \u001b[0m         \u001b[1m{\u001b[0m\u001b[32m'max_ngram_word'\u001b[0m: \u001b[1;36m2\u001b[0m, \u001b[32m'max_ngram_char'\u001b[0m: \u001b[1;36m4\u001b[0m, \u001b[32m'use_idf'\u001b[0m: \u001b[3;91mFalse\u001b[0m,             \u001b[2m             \u001b[0m\n",
       "\u001b[2;36m                    \u001b[0m         \u001b[32m'lowercase'\u001b[0m: \u001b[3;92mTrue\u001b[0m, \u001b[32m'C'\u001b[0m: \u001b[1;36m0.19582004464775385\u001b[0m, \u001b[32m'loss'\u001b[0m: \u001b[32m'squared_hinge'\u001b[0m,    \u001b[2m             \u001b[0m\n",
       "\u001b[2;36m                    \u001b[0m         \u001b[32m'tol'\u001b[0m: \u001b[1;36m3.605763927781606e-05\u001b[0m, \u001b[32m'calibration'\u001b[0m: \u001b[32m'sigmoid'\u001b[0m\u001b[1m}\u001b[0m. Best is trial   \u001b[2m             \u001b[0m\n",
       "\u001b[2;36m                    \u001b[0m         \u001b[1;36m29\u001b[0m with value: \u001b[1;36m0.9815491237363723\u001b[0m.                                       \u001b[2m             \u001b[0m\n"
      ]
     },
     "metadata": {},
     "output_type": "display_data"
    },
    {
     "data": {
      "text/html": [
       "<pre style=\"white-space:pre;overflow-x:auto;line-height:normal;font-family:Menlo,'DejaVu Sans Mono',consolas,'Courier New',monospace\"><span style=\"color: #7fbfbf; text-decoration-color: #7fbfbf\">[11/29/23 17:11:29] </span><span style=\"color: #000080; text-decoration-color: #000080\">INFO    </span> Trial <span style=\"color: #008080; text-decoration-color: #008080; font-weight: bold\">38</span> finished with value: <span style=\"color: #008080; text-decoration-color: #008080; font-weight: bold\">0.9724029750015338</span> and parameters:         <a href=\"file:///home/prochet/miniconda3/envs/phishing/lib/python3.10/site-packages/optuna/study/study.py\" target=\"_blank\"><span style=\"color: #7f7f7f; text-decoration-color: #7f7f7f\">study.py</span></a><span style=\"color: #7f7f7f; text-decoration-color: #7f7f7f\">:</span><a href=\"file:///home/prochet/miniconda3/envs/phishing/lib/python3.10/site-packages/optuna/study/study.py#1110\" target=\"_blank\"><span style=\"color: #7f7f7f; text-decoration-color: #7f7f7f\">1110</span></a>\n",
       "<span style=\"color: #7fbfbf; text-decoration-color: #7fbfbf\">                    </span>         <span style=\"font-weight: bold\">{</span><span style=\"color: #008000; text-decoration-color: #008000\">'max_ngram_word'</span>: <span style=\"color: #008080; text-decoration-color: #008080; font-weight: bold\">2</span>, <span style=\"color: #008000; text-decoration-color: #008000\">'max_ngram_char'</span>: <span style=\"color: #008080; text-decoration-color: #008080; font-weight: bold\">4</span>, <span style=\"color: #008000; text-decoration-color: #008000\">'use_idf'</span>: <span style=\"color: #00ff00; text-decoration-color: #00ff00; font-style: italic\">True</span>, <span style=\"color: #008000; text-decoration-color: #008000\">'lowercase'</span>: <span style=\"color: #7f7f7f; text-decoration-color: #7f7f7f\">             </span>\n",
       "<span style=\"color: #7fbfbf; text-decoration-color: #7fbfbf\">                    </span>         <span style=\"color: #00ff00; text-decoration-color: #00ff00; font-style: italic\">True</span>, <span style=\"color: #008000; text-decoration-color: #008000\">'C'</span>: <span style=\"color: #008080; text-decoration-color: #008080; font-weight: bold\">0.2099962790246295</span>, <span style=\"color: #008000; text-decoration-color: #008000\">'loss'</span>: <span style=\"color: #008000; text-decoration-color: #008000\">'squared_hinge'</span>, <span style=\"color: #008000; text-decoration-color: #008000\">'tol'</span>:           <span style=\"color: #7f7f7f; text-decoration-color: #7f7f7f\">             </span>\n",
       "<span style=\"color: #7fbfbf; text-decoration-color: #7fbfbf\">                    </span>         <span style=\"color: #008080; text-decoration-color: #008080; font-weight: bold\">4.097521327002692e-05</span>, <span style=\"color: #008000; text-decoration-color: #008000\">'calibration'</span>: <span style=\"color: #008000; text-decoration-color: #008000\">'sigmoid'</span><span style=\"font-weight: bold\">}</span>. Best is trial <span style=\"color: #008080; text-decoration-color: #008080; font-weight: bold\">29</span> with  <span style=\"color: #7f7f7f; text-decoration-color: #7f7f7f\">             </span>\n",
       "<span style=\"color: #7fbfbf; text-decoration-color: #7fbfbf\">                    </span>         value: <span style=\"color: #008080; text-decoration-color: #008080; font-weight: bold\">0.9815491237363723</span>.                                               <span style=\"color: #7f7f7f; text-decoration-color: #7f7f7f\">             </span>\n",
       "</pre>\n"
      ],
      "text/plain": [
       "\u001b[2;36m[11/29/23 17:11:29]\u001b[0m\u001b[2;36m \u001b[0m\u001b[34mINFO    \u001b[0m Trial \u001b[1;36m38\u001b[0m finished with value: \u001b[1;36m0.9724029750015338\u001b[0m and parameters:         \u001b]8;id=1416;file:///home/prochet/miniconda3/envs/phishing/lib/python3.10/site-packages/optuna/study/study.py\u001b\\\u001b[2mstudy.py\u001b[0m\u001b]8;;\u001b\\\u001b[2m:\u001b[0m\u001b]8;id=541769;file:///home/prochet/miniconda3/envs/phishing/lib/python3.10/site-packages/optuna/study/study.py#1110\u001b\\\u001b[2m1110\u001b[0m\u001b]8;;\u001b\\\n",
       "\u001b[2;36m                    \u001b[0m         \u001b[1m{\u001b[0m\u001b[32m'max_ngram_word'\u001b[0m: \u001b[1;36m2\u001b[0m, \u001b[32m'max_ngram_char'\u001b[0m: \u001b[1;36m4\u001b[0m, \u001b[32m'use_idf'\u001b[0m: \u001b[3;92mTrue\u001b[0m, \u001b[32m'lowercase'\u001b[0m: \u001b[2m             \u001b[0m\n",
       "\u001b[2;36m                    \u001b[0m         \u001b[3;92mTrue\u001b[0m, \u001b[32m'C'\u001b[0m: \u001b[1;36m0.2099962790246295\u001b[0m, \u001b[32m'loss'\u001b[0m: \u001b[32m'squared_hinge'\u001b[0m, \u001b[32m'tol'\u001b[0m:           \u001b[2m             \u001b[0m\n",
       "\u001b[2;36m                    \u001b[0m         \u001b[1;36m4.097521327002692e-05\u001b[0m, \u001b[32m'calibration'\u001b[0m: \u001b[32m'sigmoid'\u001b[0m\u001b[1m}\u001b[0m. Best is trial \u001b[1;36m29\u001b[0m with  \u001b[2m             \u001b[0m\n",
       "\u001b[2;36m                    \u001b[0m         value: \u001b[1;36m0.9815491237363723\u001b[0m.                                               \u001b[2m             \u001b[0m\n"
      ]
     },
     "metadata": {},
     "output_type": "display_data"
    },
    {
     "data": {
      "text/html": [
       "<pre style=\"white-space:pre;overflow-x:auto;line-height:normal;font-family:Menlo,'DejaVu Sans Mono',consolas,'Courier New',monospace\"><span style=\"color: #7fbfbf; text-decoration-color: #7fbfbf\">[11/29/23 17:11:34] </span><span style=\"color: #000080; text-decoration-color: #000080\">INFO    </span> Trial <span style=\"color: #008080; text-decoration-color: #008080; font-weight: bold\">39</span> finished with value: <span style=\"color: #008080; text-decoration-color: #008080; font-weight: bold\">0.9714785841211256</span> and parameters:         <a href=\"file:///home/prochet/miniconda3/envs/phishing/lib/python3.10/site-packages/optuna/study/study.py\" target=\"_blank\"><span style=\"color: #7f7f7f; text-decoration-color: #7f7f7f\">study.py</span></a><span style=\"color: #7f7f7f; text-decoration-color: #7f7f7f\">:</span><a href=\"file:///home/prochet/miniconda3/envs/phishing/lib/python3.10/site-packages/optuna/study/study.py#1110\" target=\"_blank\"><span style=\"color: #7f7f7f; text-decoration-color: #7f7f7f\">1110</span></a>\n",
       "<span style=\"color: #7fbfbf; text-decoration-color: #7fbfbf\">                    </span>         <span style=\"font-weight: bold\">{</span><span style=\"color: #008000; text-decoration-color: #008000\">'max_ngram_word'</span>: <span style=\"color: #008080; text-decoration-color: #008080; font-weight: bold\">1</span>, <span style=\"color: #008000; text-decoration-color: #008000\">'max_ngram_char'</span>: <span style=\"color: #008080; text-decoration-color: #008080; font-weight: bold\">4</span>, <span style=\"color: #008000; text-decoration-color: #008000\">'use_idf'</span>: <span style=\"color: #00ff00; text-decoration-color: #00ff00; font-style: italic\">True</span>, <span style=\"color: #008000; text-decoration-color: #008000\">'lowercase'</span>: <span style=\"color: #7f7f7f; text-decoration-color: #7f7f7f\">             </span>\n",
       "<span style=\"color: #7fbfbf; text-decoration-color: #7fbfbf\">                    </span>         <span style=\"color: #00ff00; text-decoration-color: #00ff00; font-style: italic\">True</span>, <span style=\"color: #008000; text-decoration-color: #008000\">'C'</span>: <span style=\"color: #008080; text-decoration-color: #008080; font-weight: bold\">0.16122172496056192</span>, <span style=\"color: #008000; text-decoration-color: #008000\">'loss'</span>: <span style=\"color: #008000; text-decoration-color: #008000\">'squared_hinge'</span>, <span style=\"color: #008000; text-decoration-color: #008000\">'tol'</span>:          <span style=\"color: #7f7f7f; text-decoration-color: #7f7f7f\">             </span>\n",
       "<span style=\"color: #7fbfbf; text-decoration-color: #7fbfbf\">                    </span>         <span style=\"color: #008080; text-decoration-color: #008080; font-weight: bold\">5.121686818407811e-05</span>, <span style=\"color: #008000; text-decoration-color: #008000\">'calibration'</span>: <span style=\"color: #008000; text-decoration-color: #008000\">'sigmoid'</span><span style=\"font-weight: bold\">}</span>. Best is trial <span style=\"color: #008080; text-decoration-color: #008080; font-weight: bold\">29</span> with  <span style=\"color: #7f7f7f; text-decoration-color: #7f7f7f\">             </span>\n",
       "<span style=\"color: #7fbfbf; text-decoration-color: #7fbfbf\">                    </span>         value: <span style=\"color: #008080; text-decoration-color: #008080; font-weight: bold\">0.9815491237363723</span>.                                               <span style=\"color: #7f7f7f; text-decoration-color: #7f7f7f\">             </span>\n",
       "</pre>\n"
      ],
      "text/plain": [
       "\u001b[2;36m[11/29/23 17:11:34]\u001b[0m\u001b[2;36m \u001b[0m\u001b[34mINFO    \u001b[0m Trial \u001b[1;36m39\u001b[0m finished with value: \u001b[1;36m0.9714785841211256\u001b[0m and parameters:         \u001b]8;id=470494;file:///home/prochet/miniconda3/envs/phishing/lib/python3.10/site-packages/optuna/study/study.py\u001b\\\u001b[2mstudy.py\u001b[0m\u001b]8;;\u001b\\\u001b[2m:\u001b[0m\u001b]8;id=492595;file:///home/prochet/miniconda3/envs/phishing/lib/python3.10/site-packages/optuna/study/study.py#1110\u001b\\\u001b[2m1110\u001b[0m\u001b]8;;\u001b\\\n",
       "\u001b[2;36m                    \u001b[0m         \u001b[1m{\u001b[0m\u001b[32m'max_ngram_word'\u001b[0m: \u001b[1;36m1\u001b[0m, \u001b[32m'max_ngram_char'\u001b[0m: \u001b[1;36m4\u001b[0m, \u001b[32m'use_idf'\u001b[0m: \u001b[3;92mTrue\u001b[0m, \u001b[32m'lowercase'\u001b[0m: \u001b[2m             \u001b[0m\n",
       "\u001b[2;36m                    \u001b[0m         \u001b[3;92mTrue\u001b[0m, \u001b[32m'C'\u001b[0m: \u001b[1;36m0.16122172496056192\u001b[0m, \u001b[32m'loss'\u001b[0m: \u001b[32m'squared_hinge'\u001b[0m, \u001b[32m'tol'\u001b[0m:          \u001b[2m             \u001b[0m\n",
       "\u001b[2;36m                    \u001b[0m         \u001b[1;36m5.121686818407811e-05\u001b[0m, \u001b[32m'calibration'\u001b[0m: \u001b[32m'sigmoid'\u001b[0m\u001b[1m}\u001b[0m. Best is trial \u001b[1;36m29\u001b[0m with  \u001b[2m             \u001b[0m\n",
       "\u001b[2;36m                    \u001b[0m         value: \u001b[1;36m0.9815491237363723\u001b[0m.                                               \u001b[2m             \u001b[0m\n"
      ]
     },
     "metadata": {},
     "output_type": "display_data"
    },
    {
     "data": {
      "text/html": [
       "<pre style=\"white-space:pre;overflow-x:auto;line-height:normal;font-family:Menlo,'DejaVu Sans Mono',consolas,'Courier New',monospace\"><span style=\"color: #7fbfbf; text-decoration-color: #7fbfbf\">[11/29/23 17:11:55] </span><span style=\"color: #000080; text-decoration-color: #000080\">INFO    </span> Trial <span style=\"color: #008080; text-decoration-color: #008080; font-weight: bold\">40</span> finished with value: <span style=\"color: #008080; text-decoration-color: #008080; font-weight: bold\">0.976658827619698</span> and parameters:          <a href=\"file:///home/prochet/miniconda3/envs/phishing/lib/python3.10/site-packages/optuna/study/study.py\" target=\"_blank\"><span style=\"color: #7f7f7f; text-decoration-color: #7f7f7f\">study.py</span></a><span style=\"color: #7f7f7f; text-decoration-color: #7f7f7f\">:</span><a href=\"file:///home/prochet/miniconda3/envs/phishing/lib/python3.10/site-packages/optuna/study/study.py#1110\" target=\"_blank\"><span style=\"color: #7f7f7f; text-decoration-color: #7f7f7f\">1110</span></a>\n",
       "<span style=\"color: #7fbfbf; text-decoration-color: #7fbfbf\">                    </span>         <span style=\"font-weight: bold\">{</span><span style=\"color: #008000; text-decoration-color: #008000\">'max_ngram_word'</span>: <span style=\"color: #008080; text-decoration-color: #008080; font-weight: bold\">1</span>, <span style=\"color: #008000; text-decoration-color: #008000\">'max_ngram_char'</span>: <span style=\"color: #008080; text-decoration-color: #008080; font-weight: bold\">4</span>, <span style=\"color: #008000; text-decoration-color: #008000\">'use_idf'</span>: <span style=\"color: #00ff00; text-decoration-color: #00ff00; font-style: italic\">True</span>, <span style=\"color: #008000; text-decoration-color: #008000\">'lowercase'</span>: <span style=\"color: #7f7f7f; text-decoration-color: #7f7f7f\">             </span>\n",
       "<span style=\"color: #7fbfbf; text-decoration-color: #7fbfbf\">                    </span>         <span style=\"color: #00ff00; text-decoration-color: #00ff00; font-style: italic\">True</span>, <span style=\"color: #008000; text-decoration-color: #008000\">'C'</span>: <span style=\"color: #008080; text-decoration-color: #008080; font-weight: bold\">2.133653293945063</span>, <span style=\"color: #008000; text-decoration-color: #008000\">'loss'</span>: <span style=\"color: #008000; text-decoration-color: #008000\">'squared_hinge'</span>, <span style=\"color: #008000; text-decoration-color: #008000\">'tol'</span>:            <span style=\"color: #7f7f7f; text-decoration-color: #7f7f7f\">             </span>\n",
       "<span style=\"color: #7fbfbf; text-decoration-color: #7fbfbf\">                    </span>         <span style=\"color: #008080; text-decoration-color: #008080; font-weight: bold\">4.870337107854429e-05</span>, <span style=\"color: #008000; text-decoration-color: #008000\">'calibration'</span>: <span style=\"color: #008000; text-decoration-color: #008000\">'isotonic'</span><span style=\"font-weight: bold\">}</span>. Best is trial <span style=\"color: #008080; text-decoration-color: #008080; font-weight: bold\">29</span> with <span style=\"color: #7f7f7f; text-decoration-color: #7f7f7f\">             </span>\n",
       "<span style=\"color: #7fbfbf; text-decoration-color: #7fbfbf\">                    </span>         value: <span style=\"color: #008080; text-decoration-color: #008080; font-weight: bold\">0.9815491237363723</span>.                                               <span style=\"color: #7f7f7f; text-decoration-color: #7f7f7f\">             </span>\n",
       "</pre>\n"
      ],
      "text/plain": [
       "\u001b[2;36m[11/29/23 17:11:55]\u001b[0m\u001b[2;36m \u001b[0m\u001b[34mINFO    \u001b[0m Trial \u001b[1;36m40\u001b[0m finished with value: \u001b[1;36m0.976658827619698\u001b[0m and parameters:          \u001b]8;id=970657;file:///home/prochet/miniconda3/envs/phishing/lib/python3.10/site-packages/optuna/study/study.py\u001b\\\u001b[2mstudy.py\u001b[0m\u001b]8;;\u001b\\\u001b[2m:\u001b[0m\u001b]8;id=354456;file:///home/prochet/miniconda3/envs/phishing/lib/python3.10/site-packages/optuna/study/study.py#1110\u001b\\\u001b[2m1110\u001b[0m\u001b]8;;\u001b\\\n",
       "\u001b[2;36m                    \u001b[0m         \u001b[1m{\u001b[0m\u001b[32m'max_ngram_word'\u001b[0m: \u001b[1;36m1\u001b[0m, \u001b[32m'max_ngram_char'\u001b[0m: \u001b[1;36m4\u001b[0m, \u001b[32m'use_idf'\u001b[0m: \u001b[3;92mTrue\u001b[0m, \u001b[32m'lowercase'\u001b[0m: \u001b[2m             \u001b[0m\n",
       "\u001b[2;36m                    \u001b[0m         \u001b[3;92mTrue\u001b[0m, \u001b[32m'C'\u001b[0m: \u001b[1;36m2.133653293945063\u001b[0m, \u001b[32m'loss'\u001b[0m: \u001b[32m'squared_hinge'\u001b[0m, \u001b[32m'tol'\u001b[0m:            \u001b[2m             \u001b[0m\n",
       "\u001b[2;36m                    \u001b[0m         \u001b[1;36m4.870337107854429e-05\u001b[0m, \u001b[32m'calibration'\u001b[0m: \u001b[32m'isotonic'\u001b[0m\u001b[1m}\u001b[0m. Best is trial \u001b[1;36m29\u001b[0m with \u001b[2m             \u001b[0m\n",
       "\u001b[2;36m                    \u001b[0m         value: \u001b[1;36m0.9815491237363723\u001b[0m.                                               \u001b[2m             \u001b[0m\n"
      ]
     },
     "metadata": {},
     "output_type": "display_data"
    },
    {
     "data": {
      "text/html": [
       "<pre style=\"white-space:pre;overflow-x:auto;line-height:normal;font-family:Menlo,'DejaVu Sans Mono',consolas,'Courier New',monospace\"><span style=\"color: #7fbfbf; text-decoration-color: #7fbfbf\">[11/29/23 17:12:15] </span><span style=\"color: #000080; text-decoration-color: #000080\">INFO    </span> Trial <span style=\"color: #008080; text-decoration-color: #008080; font-weight: bold\">41</span> finished with value: <span style=\"color: #008080; text-decoration-color: #008080; font-weight: bold\">0.9751071654997989</span> and parameters:         <a href=\"file:///home/prochet/miniconda3/envs/phishing/lib/python3.10/site-packages/optuna/study/study.py\" target=\"_blank\"><span style=\"color: #7f7f7f; text-decoration-color: #7f7f7f\">study.py</span></a><span style=\"color: #7f7f7f; text-decoration-color: #7f7f7f\">:</span><a href=\"file:///home/prochet/miniconda3/envs/phishing/lib/python3.10/site-packages/optuna/study/study.py#1110\" target=\"_blank\"><span style=\"color: #7f7f7f; text-decoration-color: #7f7f7f\">1110</span></a>\n",
       "<span style=\"color: #7fbfbf; text-decoration-color: #7fbfbf\">                    </span>         <span style=\"font-weight: bold\">{</span><span style=\"color: #008000; text-decoration-color: #008000\">'max_ngram_word'</span>: <span style=\"color: #008080; text-decoration-color: #008080; font-weight: bold\">1</span>, <span style=\"color: #008000; text-decoration-color: #008000\">'max_ngram_char'</span>: <span style=\"color: #008080; text-decoration-color: #008080; font-weight: bold\">4</span>, <span style=\"color: #008000; text-decoration-color: #008000\">'use_idf'</span>: <span style=\"color: #00ff00; text-decoration-color: #00ff00; font-style: italic\">True</span>, <span style=\"color: #008000; text-decoration-color: #008000\">'lowercase'</span>: <span style=\"color: #7f7f7f; text-decoration-color: #7f7f7f\">             </span>\n",
       "<span style=\"color: #7fbfbf; text-decoration-color: #7fbfbf\">                    </span>         <span style=\"color: #ff0000; text-decoration-color: #ff0000; font-style: italic\">False</span>, <span style=\"color: #008000; text-decoration-color: #008000\">'C'</span>: <span style=\"color: #008080; text-decoration-color: #008080; font-weight: bold\">1.7546683424374347</span>, <span style=\"color: #008000; text-decoration-color: #008000\">'loss'</span>: <span style=\"color: #008000; text-decoration-color: #008000\">'squared_hinge'</span>, <span style=\"color: #008000; text-decoration-color: #008000\">'tol'</span>:          <span style=\"color: #7f7f7f; text-decoration-color: #7f7f7f\">             </span>\n",
       "<span style=\"color: #7fbfbf; text-decoration-color: #7fbfbf\">                    </span>         <span style=\"color: #008080; text-decoration-color: #008080; font-weight: bold\">5.585553990080461e-05</span>, <span style=\"color: #008000; text-decoration-color: #008000\">'calibration'</span>: <span style=\"color: #008000; text-decoration-color: #008000\">'isotonic'</span><span style=\"font-weight: bold\">}</span>. Best is trial <span style=\"color: #008080; text-decoration-color: #008080; font-weight: bold\">29</span> with <span style=\"color: #7f7f7f; text-decoration-color: #7f7f7f\">             </span>\n",
       "<span style=\"color: #7fbfbf; text-decoration-color: #7fbfbf\">                    </span>         value: <span style=\"color: #008080; text-decoration-color: #008080; font-weight: bold\">0.9815491237363723</span>.                                               <span style=\"color: #7f7f7f; text-decoration-color: #7f7f7f\">             </span>\n",
       "</pre>\n"
      ],
      "text/plain": [
       "\u001b[2;36m[11/29/23 17:12:15]\u001b[0m\u001b[2;36m \u001b[0m\u001b[34mINFO    \u001b[0m Trial \u001b[1;36m41\u001b[0m finished with value: \u001b[1;36m0.9751071654997989\u001b[0m and parameters:         \u001b]8;id=392941;file:///home/prochet/miniconda3/envs/phishing/lib/python3.10/site-packages/optuna/study/study.py\u001b\\\u001b[2mstudy.py\u001b[0m\u001b]8;;\u001b\\\u001b[2m:\u001b[0m\u001b]8;id=810546;file:///home/prochet/miniconda3/envs/phishing/lib/python3.10/site-packages/optuna/study/study.py#1110\u001b\\\u001b[2m1110\u001b[0m\u001b]8;;\u001b\\\n",
       "\u001b[2;36m                    \u001b[0m         \u001b[1m{\u001b[0m\u001b[32m'max_ngram_word'\u001b[0m: \u001b[1;36m1\u001b[0m, \u001b[32m'max_ngram_char'\u001b[0m: \u001b[1;36m4\u001b[0m, \u001b[32m'use_idf'\u001b[0m: \u001b[3;92mTrue\u001b[0m, \u001b[32m'lowercase'\u001b[0m: \u001b[2m             \u001b[0m\n",
       "\u001b[2;36m                    \u001b[0m         \u001b[3;91mFalse\u001b[0m, \u001b[32m'C'\u001b[0m: \u001b[1;36m1.7546683424374347\u001b[0m, \u001b[32m'loss'\u001b[0m: \u001b[32m'squared_hinge'\u001b[0m, \u001b[32m'tol'\u001b[0m:          \u001b[2m             \u001b[0m\n",
       "\u001b[2;36m                    \u001b[0m         \u001b[1;36m5.585553990080461e-05\u001b[0m, \u001b[32m'calibration'\u001b[0m: \u001b[32m'isotonic'\u001b[0m\u001b[1m}\u001b[0m. Best is trial \u001b[1;36m29\u001b[0m with \u001b[2m             \u001b[0m\n",
       "\u001b[2;36m                    \u001b[0m         value: \u001b[1;36m0.9815491237363723\u001b[0m.                                               \u001b[2m             \u001b[0m\n"
      ]
     },
     "metadata": {},
     "output_type": "display_data"
    },
    {
     "data": {
      "text/html": [
       "<pre style=\"white-space:pre;overflow-x:auto;line-height:normal;font-family:Menlo,'DejaVu Sans Mono',consolas,'Courier New',monospace\"><span style=\"color: #7fbfbf; text-decoration-color: #7fbfbf\">[11/29/23 17:12:16] </span><span style=\"color: #000080; text-decoration-color: #000080\">INFO    </span> Trial <span style=\"color: #008080; text-decoration-color: #008080; font-weight: bold\">42</span> finished with value: <span style=\"color: #008080; text-decoration-color: #008080; font-weight: bold\">0.9750450535228214</span> and parameters:         <a href=\"file:///home/prochet/miniconda3/envs/phishing/lib/python3.10/site-packages/optuna/study/study.py\" target=\"_blank\"><span style=\"color: #7f7f7f; text-decoration-color: #7f7f7f\">study.py</span></a><span style=\"color: #7f7f7f; text-decoration-color: #7f7f7f\">:</span><a href=\"file:///home/prochet/miniconda3/envs/phishing/lib/python3.10/site-packages/optuna/study/study.py#1110\" target=\"_blank\"><span style=\"color: #7f7f7f; text-decoration-color: #7f7f7f\">1110</span></a>\n",
       "<span style=\"color: #7fbfbf; text-decoration-color: #7fbfbf\">                    </span>         <span style=\"font-weight: bold\">{</span><span style=\"color: #008000; text-decoration-color: #008000\">'max_ngram_word'</span>: <span style=\"color: #008080; text-decoration-color: #008080; font-weight: bold\">1</span>, <span style=\"color: #008000; text-decoration-color: #008000\">'max_ngram_char'</span>: <span style=\"color: #008080; text-decoration-color: #008080; font-weight: bold\">4</span>, <span style=\"color: #008000; text-decoration-color: #008000\">'use_idf'</span>: <span style=\"color: #00ff00; text-decoration-color: #00ff00; font-style: italic\">True</span>, <span style=\"color: #008000; text-decoration-color: #008000\">'lowercase'</span>: <span style=\"color: #7f7f7f; text-decoration-color: #7f7f7f\">             </span>\n",
       "<span style=\"color: #7fbfbf; text-decoration-color: #7fbfbf\">                    </span>         <span style=\"color: #ff0000; text-decoration-color: #ff0000; font-style: italic\">False</span>, <span style=\"color: #008000; text-decoration-color: #008000\">'C'</span>: <span style=\"color: #008080; text-decoration-color: #008080; font-weight: bold\">1.615831463695017</span>, <span style=\"color: #008000; text-decoration-color: #008000\">'loss'</span>: <span style=\"color: #008000; text-decoration-color: #008000\">'squared_hinge'</span>, <span style=\"color: #008000; text-decoration-color: #008000\">'tol'</span>:           <span style=\"color: #7f7f7f; text-decoration-color: #7f7f7f\">             </span>\n",
       "<span style=\"color: #7fbfbf; text-decoration-color: #7fbfbf\">                    </span>         <span style=\"color: #008080; text-decoration-color: #008080; font-weight: bold\">6.114946411007018e-05</span>, <span style=\"color: #008000; text-decoration-color: #008000\">'calibration'</span>: <span style=\"color: #008000; text-decoration-color: #008000\">'isotonic'</span><span style=\"font-weight: bold\">}</span>. Best is trial <span style=\"color: #008080; text-decoration-color: #008080; font-weight: bold\">29</span> with <span style=\"color: #7f7f7f; text-decoration-color: #7f7f7f\">             </span>\n",
       "<span style=\"color: #7fbfbf; text-decoration-color: #7fbfbf\">                    </span>         value: <span style=\"color: #008080; text-decoration-color: #008080; font-weight: bold\">0.9815491237363723</span>.                                               <span style=\"color: #7f7f7f; text-decoration-color: #7f7f7f\">             </span>\n",
       "</pre>\n"
      ],
      "text/plain": [
       "\u001b[2;36m[11/29/23 17:12:16]\u001b[0m\u001b[2;36m \u001b[0m\u001b[34mINFO    \u001b[0m Trial \u001b[1;36m42\u001b[0m finished with value: \u001b[1;36m0.9750450535228214\u001b[0m and parameters:         \u001b]8;id=813937;file:///home/prochet/miniconda3/envs/phishing/lib/python3.10/site-packages/optuna/study/study.py\u001b\\\u001b[2mstudy.py\u001b[0m\u001b]8;;\u001b\\\u001b[2m:\u001b[0m\u001b]8;id=543276;file:///home/prochet/miniconda3/envs/phishing/lib/python3.10/site-packages/optuna/study/study.py#1110\u001b\\\u001b[2m1110\u001b[0m\u001b]8;;\u001b\\\n",
       "\u001b[2;36m                    \u001b[0m         \u001b[1m{\u001b[0m\u001b[32m'max_ngram_word'\u001b[0m: \u001b[1;36m1\u001b[0m, \u001b[32m'max_ngram_char'\u001b[0m: \u001b[1;36m4\u001b[0m, \u001b[32m'use_idf'\u001b[0m: \u001b[3;92mTrue\u001b[0m, \u001b[32m'lowercase'\u001b[0m: \u001b[2m             \u001b[0m\n",
       "\u001b[2;36m                    \u001b[0m         \u001b[3;91mFalse\u001b[0m, \u001b[32m'C'\u001b[0m: \u001b[1;36m1.615831463695017\u001b[0m, \u001b[32m'loss'\u001b[0m: \u001b[32m'squared_hinge'\u001b[0m, \u001b[32m'tol'\u001b[0m:           \u001b[2m             \u001b[0m\n",
       "\u001b[2;36m                    \u001b[0m         \u001b[1;36m6.114946411007018e-05\u001b[0m, \u001b[32m'calibration'\u001b[0m: \u001b[32m'isotonic'\u001b[0m\u001b[1m}\u001b[0m. Best is trial \u001b[1;36m29\u001b[0m with \u001b[2m             \u001b[0m\n",
       "\u001b[2;36m                    \u001b[0m         value: \u001b[1;36m0.9815491237363723\u001b[0m.                                               \u001b[2m             \u001b[0m\n"
      ]
     },
     "metadata": {},
     "output_type": "display_data"
    },
    {
     "data": {
      "text/html": [
       "<pre style=\"white-space:pre;overflow-x:auto;line-height:normal;font-family:Menlo,'DejaVu Sans Mono',consolas,'Courier New',monospace\"><span style=\"color: #7fbfbf; text-decoration-color: #7fbfbf\">[11/29/23 17:12:39] </span><span style=\"color: #000080; text-decoration-color: #000080\">INFO    </span> Trial <span style=\"color: #008080; text-decoration-color: #008080; font-weight: bold\">43</span> finished with value: <span style=\"color: #008080; text-decoration-color: #008080; font-weight: bold\">0.9751063873206117</span> and parameters:         <a href=\"file:///home/prochet/miniconda3/envs/phishing/lib/python3.10/site-packages/optuna/study/study.py\" target=\"_blank\"><span style=\"color: #7f7f7f; text-decoration-color: #7f7f7f\">study.py</span></a><span style=\"color: #7f7f7f; text-decoration-color: #7f7f7f\">:</span><a href=\"file:///home/prochet/miniconda3/envs/phishing/lib/python3.10/site-packages/optuna/study/study.py#1110\" target=\"_blank\"><span style=\"color: #7f7f7f; text-decoration-color: #7f7f7f\">1110</span></a>\n",
       "<span style=\"color: #7fbfbf; text-decoration-color: #7fbfbf\">                    </span>         <span style=\"font-weight: bold\">{</span><span style=\"color: #008000; text-decoration-color: #008000\">'max_ngram_word'</span>: <span style=\"color: #008080; text-decoration-color: #008080; font-weight: bold\">1</span>, <span style=\"color: #008000; text-decoration-color: #008000\">'max_ngram_char'</span>: <span style=\"color: #008080; text-decoration-color: #008080; font-weight: bold\">5</span>, <span style=\"color: #008000; text-decoration-color: #008000\">'use_idf'</span>: <span style=\"color: #00ff00; text-decoration-color: #00ff00; font-style: italic\">True</span>, <span style=\"color: #008000; text-decoration-color: #008000\">'lowercase'</span>: <span style=\"color: #7f7f7f; text-decoration-color: #7f7f7f\">             </span>\n",
       "<span style=\"color: #7fbfbf; text-decoration-color: #7fbfbf\">                    </span>         <span style=\"color: #ff0000; text-decoration-color: #ff0000; font-style: italic\">False</span>, <span style=\"color: #008000; text-decoration-color: #008000\">'C'</span>: <span style=\"color: #008080; text-decoration-color: #008080; font-weight: bold\">2.372328573227813</span>, <span style=\"color: #008000; text-decoration-color: #008000\">'loss'</span>: <span style=\"color: #008000; text-decoration-color: #008000\">'squared_hinge'</span>, <span style=\"color: #008000; text-decoration-color: #008000\">'tol'</span>:           <span style=\"color: #7f7f7f; text-decoration-color: #7f7f7f\">             </span>\n",
       "<span style=\"color: #7fbfbf; text-decoration-color: #7fbfbf\">                    </span>         <span style=\"color: #008080; text-decoration-color: #008080; font-weight: bold\">6.113926112038708e-05</span>, <span style=\"color: #008000; text-decoration-color: #008000\">'calibration'</span>: <span style=\"color: #008000; text-decoration-color: #008000\">'isotonic'</span><span style=\"font-weight: bold\">}</span>. Best is trial <span style=\"color: #008080; text-decoration-color: #008080; font-weight: bold\">29</span> with <span style=\"color: #7f7f7f; text-decoration-color: #7f7f7f\">             </span>\n",
       "<span style=\"color: #7fbfbf; text-decoration-color: #7fbfbf\">                    </span>         value: <span style=\"color: #008080; text-decoration-color: #008080; font-weight: bold\">0.9815491237363723</span>.                                               <span style=\"color: #7f7f7f; text-decoration-color: #7f7f7f\">             </span>\n",
       "</pre>\n"
      ],
      "text/plain": [
       "\u001b[2;36m[11/29/23 17:12:39]\u001b[0m\u001b[2;36m \u001b[0m\u001b[34mINFO    \u001b[0m Trial \u001b[1;36m43\u001b[0m finished with value: \u001b[1;36m0.9751063873206117\u001b[0m and parameters:         \u001b]8;id=183940;file:///home/prochet/miniconda3/envs/phishing/lib/python3.10/site-packages/optuna/study/study.py\u001b\\\u001b[2mstudy.py\u001b[0m\u001b]8;;\u001b\\\u001b[2m:\u001b[0m\u001b]8;id=100417;file:///home/prochet/miniconda3/envs/phishing/lib/python3.10/site-packages/optuna/study/study.py#1110\u001b\\\u001b[2m1110\u001b[0m\u001b]8;;\u001b\\\n",
       "\u001b[2;36m                    \u001b[0m         \u001b[1m{\u001b[0m\u001b[32m'max_ngram_word'\u001b[0m: \u001b[1;36m1\u001b[0m, \u001b[32m'max_ngram_char'\u001b[0m: \u001b[1;36m5\u001b[0m, \u001b[32m'use_idf'\u001b[0m: \u001b[3;92mTrue\u001b[0m, \u001b[32m'lowercase'\u001b[0m: \u001b[2m             \u001b[0m\n",
       "\u001b[2;36m                    \u001b[0m         \u001b[3;91mFalse\u001b[0m, \u001b[32m'C'\u001b[0m: \u001b[1;36m2.372328573227813\u001b[0m, \u001b[32m'loss'\u001b[0m: \u001b[32m'squared_hinge'\u001b[0m, \u001b[32m'tol'\u001b[0m:           \u001b[2m             \u001b[0m\n",
       "\u001b[2;36m                    \u001b[0m         \u001b[1;36m6.113926112038708e-05\u001b[0m, \u001b[32m'calibration'\u001b[0m: \u001b[32m'isotonic'\u001b[0m\u001b[1m}\u001b[0m. Best is trial \u001b[1;36m29\u001b[0m with \u001b[2m             \u001b[0m\n",
       "\u001b[2;36m                    \u001b[0m         value: \u001b[1;36m0.9815491237363723\u001b[0m.                                               \u001b[2m             \u001b[0m\n"
      ]
     },
     "metadata": {},
     "output_type": "display_data"
    },
    {
     "data": {
      "text/html": [
       "<pre style=\"white-space:pre;overflow-x:auto;line-height:normal;font-family:Menlo,'DejaVu Sans Mono',consolas,'Courier New',monospace\"><span style=\"color: #7fbfbf; text-decoration-color: #7fbfbf\">[11/29/23 17:12:42] </span><span style=\"color: #000080; text-decoration-color: #000080\">INFO    </span> Trial <span style=\"color: #008080; text-decoration-color: #008080; font-weight: bold\">44</span> finished with value: <span style=\"color: #008080; text-decoration-color: #008080; font-weight: bold\">0.9750946208413808</span> and parameters:         <a href=\"file:///home/prochet/miniconda3/envs/phishing/lib/python3.10/site-packages/optuna/study/study.py\" target=\"_blank\"><span style=\"color: #7f7f7f; text-decoration-color: #7f7f7f\">study.py</span></a><span style=\"color: #7f7f7f; text-decoration-color: #7f7f7f\">:</span><a href=\"file:///home/prochet/miniconda3/envs/phishing/lib/python3.10/site-packages/optuna/study/study.py#1110\" target=\"_blank\"><span style=\"color: #7f7f7f; text-decoration-color: #7f7f7f\">1110</span></a>\n",
       "<span style=\"color: #7fbfbf; text-decoration-color: #7fbfbf\">                    </span>         <span style=\"font-weight: bold\">{</span><span style=\"color: #008000; text-decoration-color: #008000\">'max_ngram_word'</span>: <span style=\"color: #008080; text-decoration-color: #008080; font-weight: bold\">1</span>, <span style=\"color: #008000; text-decoration-color: #008000\">'max_ngram_char'</span>: <span style=\"color: #008080; text-decoration-color: #008080; font-weight: bold\">5</span>, <span style=\"color: #008000; text-decoration-color: #008000\">'use_idf'</span>: <span style=\"color: #00ff00; text-decoration-color: #00ff00; font-style: italic\">True</span>, <span style=\"color: #008000; text-decoration-color: #008000\">'lowercase'</span>: <span style=\"color: #7f7f7f; text-decoration-color: #7f7f7f\">             </span>\n",
       "<span style=\"color: #7fbfbf; text-decoration-color: #7fbfbf\">                    </span>         <span style=\"color: #ff0000; text-decoration-color: #ff0000; font-style: italic\">False</span>, <span style=\"color: #008000; text-decoration-color: #008000\">'C'</span>: <span style=\"color: #008080; text-decoration-color: #008080; font-weight: bold\">2.3253394292297487</span>, <span style=\"color: #008000; text-decoration-color: #008000\">'loss'</span>: <span style=\"color: #008000; text-decoration-color: #008000\">'squared_hinge'</span>, <span style=\"color: #008000; text-decoration-color: #008000\">'tol'</span>:          <span style=\"color: #7f7f7f; text-decoration-color: #7f7f7f\">             </span>\n",
       "<span style=\"color: #7fbfbf; text-decoration-color: #7fbfbf\">                    </span>         <span style=\"color: #008080; text-decoration-color: #008080; font-weight: bold\">0.00012602105830565363</span>, <span style=\"color: #008000; text-decoration-color: #008000\">'calibration'</span>: <span style=\"color: #008000; text-decoration-color: #008000\">'isotonic'</span><span style=\"font-weight: bold\">}</span>. Best is trial <span style=\"color: #008080; text-decoration-color: #008080; font-weight: bold\">29</span>     <span style=\"color: #7f7f7f; text-decoration-color: #7f7f7f\">             </span>\n",
       "<span style=\"color: #7fbfbf; text-decoration-color: #7fbfbf\">                    </span>         with value: <span style=\"color: #008080; text-decoration-color: #008080; font-weight: bold\">0.9815491237363723</span>.                                          <span style=\"color: #7f7f7f; text-decoration-color: #7f7f7f\">             </span>\n",
       "</pre>\n"
      ],
      "text/plain": [
       "\u001b[2;36m[11/29/23 17:12:42]\u001b[0m\u001b[2;36m \u001b[0m\u001b[34mINFO    \u001b[0m Trial \u001b[1;36m44\u001b[0m finished with value: \u001b[1;36m0.9750946208413808\u001b[0m and parameters:         \u001b]8;id=845448;file:///home/prochet/miniconda3/envs/phishing/lib/python3.10/site-packages/optuna/study/study.py\u001b\\\u001b[2mstudy.py\u001b[0m\u001b]8;;\u001b\\\u001b[2m:\u001b[0m\u001b]8;id=28143;file:///home/prochet/miniconda3/envs/phishing/lib/python3.10/site-packages/optuna/study/study.py#1110\u001b\\\u001b[2m1110\u001b[0m\u001b]8;;\u001b\\\n",
       "\u001b[2;36m                    \u001b[0m         \u001b[1m{\u001b[0m\u001b[32m'max_ngram_word'\u001b[0m: \u001b[1;36m1\u001b[0m, \u001b[32m'max_ngram_char'\u001b[0m: \u001b[1;36m5\u001b[0m, \u001b[32m'use_idf'\u001b[0m: \u001b[3;92mTrue\u001b[0m, \u001b[32m'lowercase'\u001b[0m: \u001b[2m             \u001b[0m\n",
       "\u001b[2;36m                    \u001b[0m         \u001b[3;91mFalse\u001b[0m, \u001b[32m'C'\u001b[0m: \u001b[1;36m2.3253394292297487\u001b[0m, \u001b[32m'loss'\u001b[0m: \u001b[32m'squared_hinge'\u001b[0m, \u001b[32m'tol'\u001b[0m:          \u001b[2m             \u001b[0m\n",
       "\u001b[2;36m                    \u001b[0m         \u001b[1;36m0.00012602105830565363\u001b[0m, \u001b[32m'calibration'\u001b[0m: \u001b[32m'isotonic'\u001b[0m\u001b[1m}\u001b[0m. Best is trial \u001b[1;36m29\u001b[0m     \u001b[2m             \u001b[0m\n",
       "\u001b[2;36m                    \u001b[0m         with value: \u001b[1;36m0.9815491237363723\u001b[0m.                                          \u001b[2m             \u001b[0m\n"
      ]
     },
     "metadata": {},
     "output_type": "display_data"
    },
    {
     "data": {
      "text/html": [
       "<pre style=\"white-space:pre;overflow-x:auto;line-height:normal;font-family:Menlo,'DejaVu Sans Mono',consolas,'Courier New',monospace\"><span style=\"color: #7fbfbf; text-decoration-color: #7fbfbf\">[11/29/23 17:13:02] </span><span style=\"color: #000080; text-decoration-color: #000080\">INFO    </span> Trial <span style=\"color: #008080; text-decoration-color: #008080; font-weight: bold\">45</span> finished with value: <span style=\"color: #008080; text-decoration-color: #008080; font-weight: bold\">0.9803756903416266</span> and parameters:         <a href=\"file:///home/prochet/miniconda3/envs/phishing/lib/python3.10/site-packages/optuna/study/study.py\" target=\"_blank\"><span style=\"color: #7f7f7f; text-decoration-color: #7f7f7f\">study.py</span></a><span style=\"color: #7f7f7f; text-decoration-color: #7f7f7f\">:</span><a href=\"file:///home/prochet/miniconda3/envs/phishing/lib/python3.10/site-packages/optuna/study/study.py#1110\" target=\"_blank\"><span style=\"color: #7f7f7f; text-decoration-color: #7f7f7f\">1110</span></a>\n",
       "<span style=\"color: #7fbfbf; text-decoration-color: #7fbfbf\">                    </span>         <span style=\"font-weight: bold\">{</span><span style=\"color: #008000; text-decoration-color: #008000\">'max_ngram_word'</span>: <span style=\"color: #008080; text-decoration-color: #008080; font-weight: bold\">2</span>, <span style=\"color: #008000; text-decoration-color: #008000\">'max_ngram_char'</span>: <span style=\"color: #008080; text-decoration-color: #008080; font-weight: bold\">5</span>, <span style=\"color: #008000; text-decoration-color: #008000\">'use_idf'</span>: <span style=\"color: #ff0000; text-decoration-color: #ff0000; font-style: italic\">False</span>,             <span style=\"color: #7f7f7f; text-decoration-color: #7f7f7f\">             </span>\n",
       "<span style=\"color: #7fbfbf; text-decoration-color: #7fbfbf\">                    </span>         <span style=\"color: #008000; text-decoration-color: #008000\">'lowercase'</span>: <span style=\"color: #ff0000; text-decoration-color: #ff0000; font-style: italic\">False</span>, <span style=\"color: #008000; text-decoration-color: #008000\">'C'</span>: <span style=\"color: #008080; text-decoration-color: #008080; font-weight: bold\">1.7990904292995833</span>, <span style=\"color: #008000; text-decoration-color: #008000\">'loss'</span>: <span style=\"color: #008000; text-decoration-color: #008000\">'squared_hinge'</span>,    <span style=\"color: #7f7f7f; text-decoration-color: #7f7f7f\">             </span>\n",
       "<span style=\"color: #7fbfbf; text-decoration-color: #7fbfbf\">                    </span>         <span style=\"color: #008000; text-decoration-color: #008000\">'tol'</span>: <span style=\"color: #008080; text-decoration-color: #008080; font-weight: bold\">1.639133414578389e-05</span>, <span style=\"color: #008000; text-decoration-color: #008000\">'calibration'</span>: <span style=\"color: #008000; text-decoration-color: #008000\">'isotonic'</span><span style=\"font-weight: bold\">}</span>. Best is trial  <span style=\"color: #7f7f7f; text-decoration-color: #7f7f7f\">             </span>\n",
       "<span style=\"color: #7fbfbf; text-decoration-color: #7fbfbf\">                    </span>         <span style=\"color: #008080; text-decoration-color: #008080; font-weight: bold\">29</span> with value: <span style=\"color: #008080; text-decoration-color: #008080; font-weight: bold\">0.9815491237363723</span>.                                       <span style=\"color: #7f7f7f; text-decoration-color: #7f7f7f\">             </span>\n",
       "</pre>\n"
      ],
      "text/plain": [
       "\u001b[2;36m[11/29/23 17:13:02]\u001b[0m\u001b[2;36m \u001b[0m\u001b[34mINFO    \u001b[0m Trial \u001b[1;36m45\u001b[0m finished with value: \u001b[1;36m0.9803756903416266\u001b[0m and parameters:         \u001b]8;id=478178;file:///home/prochet/miniconda3/envs/phishing/lib/python3.10/site-packages/optuna/study/study.py\u001b\\\u001b[2mstudy.py\u001b[0m\u001b]8;;\u001b\\\u001b[2m:\u001b[0m\u001b]8;id=376922;file:///home/prochet/miniconda3/envs/phishing/lib/python3.10/site-packages/optuna/study/study.py#1110\u001b\\\u001b[2m1110\u001b[0m\u001b]8;;\u001b\\\n",
       "\u001b[2;36m                    \u001b[0m         \u001b[1m{\u001b[0m\u001b[32m'max_ngram_word'\u001b[0m: \u001b[1;36m2\u001b[0m, \u001b[32m'max_ngram_char'\u001b[0m: \u001b[1;36m5\u001b[0m, \u001b[32m'use_idf'\u001b[0m: \u001b[3;91mFalse\u001b[0m,             \u001b[2m             \u001b[0m\n",
       "\u001b[2;36m                    \u001b[0m         \u001b[32m'lowercase'\u001b[0m: \u001b[3;91mFalse\u001b[0m, \u001b[32m'C'\u001b[0m: \u001b[1;36m1.7990904292995833\u001b[0m, \u001b[32m'loss'\u001b[0m: \u001b[32m'squared_hinge'\u001b[0m,    \u001b[2m             \u001b[0m\n",
       "\u001b[2;36m                    \u001b[0m         \u001b[32m'tol'\u001b[0m: \u001b[1;36m1.639133414578389e-05\u001b[0m, \u001b[32m'calibration'\u001b[0m: \u001b[32m'isotonic'\u001b[0m\u001b[1m}\u001b[0m. Best is trial  \u001b[2m             \u001b[0m\n",
       "\u001b[2;36m                    \u001b[0m         \u001b[1;36m29\u001b[0m with value: \u001b[1;36m0.9815491237363723\u001b[0m.                                       \u001b[2m             \u001b[0m\n"
      ]
     },
     "metadata": {},
     "output_type": "display_data"
    },
    {
     "data": {
      "text/html": [
       "<pre style=\"white-space:pre;overflow-x:auto;line-height:normal;font-family:Menlo,'DejaVu Sans Mono',consolas,'Courier New',monospace\"><span style=\"color: #7fbfbf; text-decoration-color: #7fbfbf\">[11/29/23 17:13:18] </span><span style=\"color: #000080; text-decoration-color: #000080\">INFO    </span> Trial <span style=\"color: #008080; text-decoration-color: #008080; font-weight: bold\">46</span> finished with value: <span style=\"color: #008080; text-decoration-color: #008080; font-weight: bold\">0.9807391855705394</span> and parameters:         <a href=\"file:///home/prochet/miniconda3/envs/phishing/lib/python3.10/site-packages/optuna/study/study.py\" target=\"_blank\"><span style=\"color: #7f7f7f; text-decoration-color: #7f7f7f\">study.py</span></a><span style=\"color: #7f7f7f; text-decoration-color: #7f7f7f\">:</span><a href=\"file:///home/prochet/miniconda3/envs/phishing/lib/python3.10/site-packages/optuna/study/study.py#1110\" target=\"_blank\"><span style=\"color: #7f7f7f; text-decoration-color: #7f7f7f\">1110</span></a>\n",
       "<span style=\"color: #7fbfbf; text-decoration-color: #7fbfbf\">                    </span>         <span style=\"font-weight: bold\">{</span><span style=\"color: #008000; text-decoration-color: #008000\">'max_ngram_word'</span>: <span style=\"color: #008080; text-decoration-color: #008080; font-weight: bold\">2</span>, <span style=\"color: #008000; text-decoration-color: #008000\">'max_ngram_char'</span>: <span style=\"color: #008080; text-decoration-color: #008080; font-weight: bold\">5</span>, <span style=\"color: #008000; text-decoration-color: #008000\">'use_idf'</span>: <span style=\"color: #ff0000; text-decoration-color: #ff0000; font-style: italic\">False</span>,             <span style=\"color: #7f7f7f; text-decoration-color: #7f7f7f\">             </span>\n",
       "<span style=\"color: #7fbfbf; text-decoration-color: #7fbfbf\">                    </span>         <span style=\"color: #008000; text-decoration-color: #008000\">'lowercase'</span>: <span style=\"color: #ff0000; text-decoration-color: #ff0000; font-style: italic\">False</span>, <span style=\"color: #008000; text-decoration-color: #008000\">'C'</span>: <span style=\"color: #008080; text-decoration-color: #008080; font-weight: bold\">1.7743591457740737</span>, <span style=\"color: #008000; text-decoration-color: #008000\">'loss'</span>: <span style=\"color: #008000; text-decoration-color: #008000\">'squared_hinge'</span>,    <span style=\"color: #7f7f7f; text-decoration-color: #7f7f7f\">             </span>\n",
       "<span style=\"color: #7fbfbf; text-decoration-color: #7fbfbf\">                    </span>         <span style=\"color: #008000; text-decoration-color: #008000\">'tol'</span>: <span style=\"color: #008080; text-decoration-color: #008080; font-weight: bold\">1.7573500116625338e-05</span>, <span style=\"color: #008000; text-decoration-color: #008000\">'calibration'</span>: <span style=\"color: #008000; text-decoration-color: #008000\">'sigmoid'</span><span style=\"font-weight: bold\">}</span>. Best is trial  <span style=\"color: #7f7f7f; text-decoration-color: #7f7f7f\">             </span>\n",
       "<span style=\"color: #7fbfbf; text-decoration-color: #7fbfbf\">                    </span>         <span style=\"color: #008080; text-decoration-color: #008080; font-weight: bold\">29</span> with value: <span style=\"color: #008080; text-decoration-color: #008080; font-weight: bold\">0.9815491237363723</span>.                                       <span style=\"color: #7f7f7f; text-decoration-color: #7f7f7f\">             </span>\n",
       "</pre>\n"
      ],
      "text/plain": [
       "\u001b[2;36m[11/29/23 17:13:18]\u001b[0m\u001b[2;36m \u001b[0m\u001b[34mINFO    \u001b[0m Trial \u001b[1;36m46\u001b[0m finished with value: \u001b[1;36m0.9807391855705394\u001b[0m and parameters:         \u001b]8;id=669019;file:///home/prochet/miniconda3/envs/phishing/lib/python3.10/site-packages/optuna/study/study.py\u001b\\\u001b[2mstudy.py\u001b[0m\u001b]8;;\u001b\\\u001b[2m:\u001b[0m\u001b]8;id=351886;file:///home/prochet/miniconda3/envs/phishing/lib/python3.10/site-packages/optuna/study/study.py#1110\u001b\\\u001b[2m1110\u001b[0m\u001b]8;;\u001b\\\n",
       "\u001b[2;36m                    \u001b[0m         \u001b[1m{\u001b[0m\u001b[32m'max_ngram_word'\u001b[0m: \u001b[1;36m2\u001b[0m, \u001b[32m'max_ngram_char'\u001b[0m: \u001b[1;36m5\u001b[0m, \u001b[32m'use_idf'\u001b[0m: \u001b[3;91mFalse\u001b[0m,             \u001b[2m             \u001b[0m\n",
       "\u001b[2;36m                    \u001b[0m         \u001b[32m'lowercase'\u001b[0m: \u001b[3;91mFalse\u001b[0m, \u001b[32m'C'\u001b[0m: \u001b[1;36m1.7743591457740737\u001b[0m, \u001b[32m'loss'\u001b[0m: \u001b[32m'squared_hinge'\u001b[0m,    \u001b[2m             \u001b[0m\n",
       "\u001b[2;36m                    \u001b[0m         \u001b[32m'tol'\u001b[0m: \u001b[1;36m1.7573500116625338e-05\u001b[0m, \u001b[32m'calibration'\u001b[0m: \u001b[32m'sigmoid'\u001b[0m\u001b[1m}\u001b[0m. Best is trial  \u001b[2m             \u001b[0m\n",
       "\u001b[2;36m                    \u001b[0m         \u001b[1;36m29\u001b[0m with value: \u001b[1;36m0.9815491237363723\u001b[0m.                                       \u001b[2m             \u001b[0m\n"
      ]
     },
     "metadata": {},
     "output_type": "display_data"
    },
    {
     "data": {
      "text/html": [
       "<pre style=\"white-space:pre;overflow-x:auto;line-height:normal;font-family:Menlo,'DejaVu Sans Mono',consolas,'Courier New',monospace\"><span style=\"color: #7fbfbf; text-decoration-color: #7fbfbf\">[11/29/23 17:13:19] </span><span style=\"color: #000080; text-decoration-color: #000080\">INFO    </span> Trial <span style=\"color: #008080; text-decoration-color: #008080; font-weight: bold\">47</span> finished with value: <span style=\"color: #008080; text-decoration-color: #008080; font-weight: bold\">0.9804261307447077</span> and parameters:         <a href=\"file:///home/prochet/miniconda3/envs/phishing/lib/python3.10/site-packages/optuna/study/study.py\" target=\"_blank\"><span style=\"color: #7f7f7f; text-decoration-color: #7f7f7f\">study.py</span></a><span style=\"color: #7f7f7f; text-decoration-color: #7f7f7f\">:</span><a href=\"file:///home/prochet/miniconda3/envs/phishing/lib/python3.10/site-packages/optuna/study/study.py#1110\" target=\"_blank\"><span style=\"color: #7f7f7f; text-decoration-color: #7f7f7f\">1110</span></a>\n",
       "<span style=\"color: #7fbfbf; text-decoration-color: #7fbfbf\">                    </span>         <span style=\"font-weight: bold\">{</span><span style=\"color: #008000; text-decoration-color: #008000\">'max_ngram_word'</span>: <span style=\"color: #008080; text-decoration-color: #008080; font-weight: bold\">2</span>, <span style=\"color: #008000; text-decoration-color: #008000\">'max_ngram_char'</span>: <span style=\"color: #008080; text-decoration-color: #008080; font-weight: bold\">5</span>, <span style=\"color: #008000; text-decoration-color: #008000\">'use_idf'</span>: <span style=\"color: #ff0000; text-decoration-color: #ff0000; font-style: italic\">False</span>,             <span style=\"color: #7f7f7f; text-decoration-color: #7f7f7f\">             </span>\n",
       "<span style=\"color: #7fbfbf; text-decoration-color: #7fbfbf\">                    </span>         <span style=\"color: #008000; text-decoration-color: #008000\">'lowercase'</span>: <span style=\"color: #ff0000; text-decoration-color: #ff0000; font-style: italic\">False</span>, <span style=\"color: #008000; text-decoration-color: #008000\">'C'</span>: <span style=\"color: #008080; text-decoration-color: #008080; font-weight: bold\">1.4029085005701738</span>, <span style=\"color: #008000; text-decoration-color: #008000\">'loss'</span>: <span style=\"color: #008000; text-decoration-color: #008000\">'squared_hinge'</span>,    <span style=\"color: #7f7f7f; text-decoration-color: #7f7f7f\">             </span>\n",
       "<span style=\"color: #7fbfbf; text-decoration-color: #7fbfbf\">                    </span>         <span style=\"color: #008000; text-decoration-color: #008000\">'tol'</span>: <span style=\"color: #008080; text-decoration-color: #008080; font-weight: bold\">0.00012883601909566262</span>, <span style=\"color: #008000; text-decoration-color: #008000\">'calibration'</span>: <span style=\"color: #008000; text-decoration-color: #008000\">'sigmoid'</span><span style=\"font-weight: bold\">}</span>. Best is trial  <span style=\"color: #7f7f7f; text-decoration-color: #7f7f7f\">             </span>\n",
       "<span style=\"color: #7fbfbf; text-decoration-color: #7fbfbf\">                    </span>         <span style=\"color: #008080; text-decoration-color: #008080; font-weight: bold\">29</span> with value: <span style=\"color: #008080; text-decoration-color: #008080; font-weight: bold\">0.9815491237363723</span>.                                       <span style=\"color: #7f7f7f; text-decoration-color: #7f7f7f\">             </span>\n",
       "</pre>\n"
      ],
      "text/plain": [
       "\u001b[2;36m[11/29/23 17:13:19]\u001b[0m\u001b[2;36m \u001b[0m\u001b[34mINFO    \u001b[0m Trial \u001b[1;36m47\u001b[0m finished with value: \u001b[1;36m0.9804261307447077\u001b[0m and parameters:         \u001b]8;id=765910;file:///home/prochet/miniconda3/envs/phishing/lib/python3.10/site-packages/optuna/study/study.py\u001b\\\u001b[2mstudy.py\u001b[0m\u001b]8;;\u001b\\\u001b[2m:\u001b[0m\u001b]8;id=203597;file:///home/prochet/miniconda3/envs/phishing/lib/python3.10/site-packages/optuna/study/study.py#1110\u001b\\\u001b[2m1110\u001b[0m\u001b]8;;\u001b\\\n",
       "\u001b[2;36m                    \u001b[0m         \u001b[1m{\u001b[0m\u001b[32m'max_ngram_word'\u001b[0m: \u001b[1;36m2\u001b[0m, \u001b[32m'max_ngram_char'\u001b[0m: \u001b[1;36m5\u001b[0m, \u001b[32m'use_idf'\u001b[0m: \u001b[3;91mFalse\u001b[0m,             \u001b[2m             \u001b[0m\n",
       "\u001b[2;36m                    \u001b[0m         \u001b[32m'lowercase'\u001b[0m: \u001b[3;91mFalse\u001b[0m, \u001b[32m'C'\u001b[0m: \u001b[1;36m1.4029085005701738\u001b[0m, \u001b[32m'loss'\u001b[0m: \u001b[32m'squared_hinge'\u001b[0m,    \u001b[2m             \u001b[0m\n",
       "\u001b[2;36m                    \u001b[0m         \u001b[32m'tol'\u001b[0m: \u001b[1;36m0.00012883601909566262\u001b[0m, \u001b[32m'calibration'\u001b[0m: \u001b[32m'sigmoid'\u001b[0m\u001b[1m}\u001b[0m. Best is trial  \u001b[2m             \u001b[0m\n",
       "\u001b[2;36m                    \u001b[0m         \u001b[1;36m29\u001b[0m with value: \u001b[1;36m0.9815491237363723\u001b[0m.                                       \u001b[2m             \u001b[0m\n"
      ]
     },
     "metadata": {},
     "output_type": "display_data"
    },
    {
     "data": {
      "text/html": [
       "<pre style=\"white-space:pre;overflow-x:auto;line-height:normal;font-family:Menlo,'DejaVu Sans Mono',consolas,'Courier New',monospace\"><span style=\"color: #7fbfbf; text-decoration-color: #7fbfbf\">[11/29/23 17:13:22] </span><span style=\"color: #000080; text-decoration-color: #000080\">INFO    </span> Trial <span style=\"color: #008080; text-decoration-color: #008080; font-weight: bold\">48</span> finished with value: <span style=\"color: #008080; text-decoration-color: #008080; font-weight: bold\">0.9758270133286746</span> and parameters:         <a href=\"file:///home/prochet/miniconda3/envs/phishing/lib/python3.10/site-packages/optuna/study/study.py\" target=\"_blank\"><span style=\"color: #7f7f7f; text-decoration-color: #7f7f7f\">study.py</span></a><span style=\"color: #7f7f7f; text-decoration-color: #7f7f7f\">:</span><a href=\"file:///home/prochet/miniconda3/envs/phishing/lib/python3.10/site-packages/optuna/study/study.py#1110\" target=\"_blank\"><span style=\"color: #7f7f7f; text-decoration-color: #7f7f7f\">1110</span></a>\n",
       "<span style=\"color: #7fbfbf; text-decoration-color: #7fbfbf\">                    </span>         <span style=\"font-weight: bold\">{</span><span style=\"color: #008000; text-decoration-color: #008000\">'max_ngram_word'</span>: <span style=\"color: #008080; text-decoration-color: #008080; font-weight: bold\">2</span>, <span style=\"color: #008000; text-decoration-color: #008000\">'max_ngram_char'</span>: <span style=\"color: #008080; text-decoration-color: #008080; font-weight: bold\">5</span>, <span style=\"color: #008000; text-decoration-color: #008000\">'use_idf'</span>: <span style=\"color: #ff0000; text-decoration-color: #ff0000; font-style: italic\">False</span>,             <span style=\"color: #7f7f7f; text-decoration-color: #7f7f7f\">             </span>\n",
       "<span style=\"color: #7fbfbf; text-decoration-color: #7fbfbf\">                    </span>         <span style=\"color: #008000; text-decoration-color: #008000\">'lowercase'</span>: <span style=\"color: #ff0000; text-decoration-color: #ff0000; font-style: italic\">False</span>, <span style=\"color: #008000; text-decoration-color: #008000\">'C'</span>: <span style=\"color: #008080; text-decoration-color: #008080; font-weight: bold\">0.3268221446614638</span>, <span style=\"color: #008000; text-decoration-color: #008000\">'loss'</span>: <span style=\"color: #008000; text-decoration-color: #008000\">'squared_hinge'</span>,    <span style=\"color: #7f7f7f; text-decoration-color: #7f7f7f\">             </span>\n",
       "<span style=\"color: #7fbfbf; text-decoration-color: #7fbfbf\">                    </span>         <span style=\"color: #008000; text-decoration-color: #008000\">'tol'</span>: <span style=\"color: #008080; text-decoration-color: #008080; font-weight: bold\">1.6812552299929655e-05</span>, <span style=\"color: #008000; text-decoration-color: #008000\">'calibration'</span>: <span style=\"color: #008000; text-decoration-color: #008000\">'sigmoid'</span><span style=\"font-weight: bold\">}</span>. Best is trial  <span style=\"color: #7f7f7f; text-decoration-color: #7f7f7f\">             </span>\n",
       "<span style=\"color: #7fbfbf; text-decoration-color: #7fbfbf\">                    </span>         <span style=\"color: #008080; text-decoration-color: #008080; font-weight: bold\">29</span> with value: <span style=\"color: #008080; text-decoration-color: #008080; font-weight: bold\">0.9815491237363723</span>.                                       <span style=\"color: #7f7f7f; text-decoration-color: #7f7f7f\">             </span>\n",
       "</pre>\n"
      ],
      "text/plain": [
       "\u001b[2;36m[11/29/23 17:13:22]\u001b[0m\u001b[2;36m \u001b[0m\u001b[34mINFO    \u001b[0m Trial \u001b[1;36m48\u001b[0m finished with value: \u001b[1;36m0.9758270133286746\u001b[0m and parameters:         \u001b]8;id=177411;file:///home/prochet/miniconda3/envs/phishing/lib/python3.10/site-packages/optuna/study/study.py\u001b\\\u001b[2mstudy.py\u001b[0m\u001b]8;;\u001b\\\u001b[2m:\u001b[0m\u001b]8;id=88569;file:///home/prochet/miniconda3/envs/phishing/lib/python3.10/site-packages/optuna/study/study.py#1110\u001b\\\u001b[2m1110\u001b[0m\u001b]8;;\u001b\\\n",
       "\u001b[2;36m                    \u001b[0m         \u001b[1m{\u001b[0m\u001b[32m'max_ngram_word'\u001b[0m: \u001b[1;36m2\u001b[0m, \u001b[32m'max_ngram_char'\u001b[0m: \u001b[1;36m5\u001b[0m, \u001b[32m'use_idf'\u001b[0m: \u001b[3;91mFalse\u001b[0m,             \u001b[2m             \u001b[0m\n",
       "\u001b[2;36m                    \u001b[0m         \u001b[32m'lowercase'\u001b[0m: \u001b[3;91mFalse\u001b[0m, \u001b[32m'C'\u001b[0m: \u001b[1;36m0.3268221446614638\u001b[0m, \u001b[32m'loss'\u001b[0m: \u001b[32m'squared_hinge'\u001b[0m,    \u001b[2m             \u001b[0m\n",
       "\u001b[2;36m                    \u001b[0m         \u001b[32m'tol'\u001b[0m: \u001b[1;36m1.6812552299929655e-05\u001b[0m, \u001b[32m'calibration'\u001b[0m: \u001b[32m'sigmoid'\u001b[0m\u001b[1m}\u001b[0m. Best is trial  \u001b[2m             \u001b[0m\n",
       "\u001b[2;36m                    \u001b[0m         \u001b[1;36m29\u001b[0m with value: \u001b[1;36m0.9815491237363723\u001b[0m.                                       \u001b[2m             \u001b[0m\n"
      ]
     },
     "metadata": {},
     "output_type": "display_data"
    },
    {
     "data": {
      "text/html": [
       "<pre style=\"white-space:pre;overflow-x:auto;line-height:normal;font-family:Menlo,'DejaVu Sans Mono',consolas,'Courier New',monospace\"><span style=\"color: #7fbfbf; text-decoration-color: #7fbfbf\">[11/29/23 17:13:34] </span><span style=\"color: #000080; text-decoration-color: #000080\">INFO    </span> Trial <span style=\"color: #008080; text-decoration-color: #008080; font-weight: bold\">49</span> finished with value: <span style=\"color: #008080; text-decoration-color: #008080; font-weight: bold\">0.981777593848566</span> and parameters:          <a href=\"file:///home/prochet/miniconda3/envs/phishing/lib/python3.10/site-packages/optuna/study/study.py\" target=\"_blank\"><span style=\"color: #7f7f7f; text-decoration-color: #7f7f7f\">study.py</span></a><span style=\"color: #7f7f7f; text-decoration-color: #7f7f7f\">:</span><a href=\"file:///home/prochet/miniconda3/envs/phishing/lib/python3.10/site-packages/optuna/study/study.py#1110\" target=\"_blank\"><span style=\"color: #7f7f7f; text-decoration-color: #7f7f7f\">1110</span></a>\n",
       "<span style=\"color: #7fbfbf; text-decoration-color: #7fbfbf\">                    </span>         <span style=\"font-weight: bold\">{</span><span style=\"color: #008000; text-decoration-color: #008000\">'max_ngram_word'</span>: <span style=\"color: #008080; text-decoration-color: #008080; font-weight: bold\">2</span>, <span style=\"color: #008000; text-decoration-color: #008000\">'max_ngram_char'</span>: <span style=\"color: #008080; text-decoration-color: #008080; font-weight: bold\">5</span>, <span style=\"color: #008000; text-decoration-color: #008000\">'use_idf'</span>: <span style=\"color: #ff0000; text-decoration-color: #ff0000; font-style: italic\">False</span>,             <span style=\"color: #7f7f7f; text-decoration-color: #7f7f7f\">             </span>\n",
       "<span style=\"color: #7fbfbf; text-decoration-color: #7fbfbf\">                    </span>         <span style=\"color: #008000; text-decoration-color: #008000\">'lowercase'</span>: <span style=\"color: #ff0000; text-decoration-color: #ff0000; font-style: italic\">False</span>, <span style=\"color: #008000; text-decoration-color: #008000\">'C'</span>: <span style=\"color: #008080; text-decoration-color: #008080; font-weight: bold\">9.517286338692262</span>, <span style=\"color: #008000; text-decoration-color: #008000\">'loss'</span>: <span style=\"color: #008000; text-decoration-color: #008000\">'hinge'</span>, <span style=\"color: #008000; text-decoration-color: #008000\">'tol'</span>:      <span style=\"color: #7f7f7f; text-decoration-color: #7f7f7f\">             </span>\n",
       "<span style=\"color: #7fbfbf; text-decoration-color: #7fbfbf\">                    </span>         <span style=\"color: #008080; text-decoration-color: #008080; font-weight: bold\">1.737479413052696e-05</span>, <span style=\"color: #008000; text-decoration-color: #008000\">'calibration'</span>: <span style=\"color: #008000; text-decoration-color: #008000\">'sigmoid'</span><span style=\"font-weight: bold\">}</span>. Best is trial <span style=\"color: #008080; text-decoration-color: #008080; font-weight: bold\">49</span> with  <span style=\"color: #7f7f7f; text-decoration-color: #7f7f7f\">             </span>\n",
       "<span style=\"color: #7fbfbf; text-decoration-color: #7fbfbf\">                    </span>         value: <span style=\"color: #008080; text-decoration-color: #008080; font-weight: bold\">0.981777593848566</span>.                                                <span style=\"color: #7f7f7f; text-decoration-color: #7f7f7f\">             </span>\n",
       "</pre>\n"
      ],
      "text/plain": [
       "\u001b[2;36m[11/29/23 17:13:34]\u001b[0m\u001b[2;36m \u001b[0m\u001b[34mINFO    \u001b[0m Trial \u001b[1;36m49\u001b[0m finished with value: \u001b[1;36m0.981777593848566\u001b[0m and parameters:          \u001b]8;id=821630;file:///home/prochet/miniconda3/envs/phishing/lib/python3.10/site-packages/optuna/study/study.py\u001b\\\u001b[2mstudy.py\u001b[0m\u001b]8;;\u001b\\\u001b[2m:\u001b[0m\u001b]8;id=877415;file:///home/prochet/miniconda3/envs/phishing/lib/python3.10/site-packages/optuna/study/study.py#1110\u001b\\\u001b[2m1110\u001b[0m\u001b]8;;\u001b\\\n",
       "\u001b[2;36m                    \u001b[0m         \u001b[1m{\u001b[0m\u001b[32m'max_ngram_word'\u001b[0m: \u001b[1;36m2\u001b[0m, \u001b[32m'max_ngram_char'\u001b[0m: \u001b[1;36m5\u001b[0m, \u001b[32m'use_idf'\u001b[0m: \u001b[3;91mFalse\u001b[0m,             \u001b[2m             \u001b[0m\n",
       "\u001b[2;36m                    \u001b[0m         \u001b[32m'lowercase'\u001b[0m: \u001b[3;91mFalse\u001b[0m, \u001b[32m'C'\u001b[0m: \u001b[1;36m9.517286338692262\u001b[0m, \u001b[32m'loss'\u001b[0m: \u001b[32m'hinge'\u001b[0m, \u001b[32m'tol'\u001b[0m:      \u001b[2m             \u001b[0m\n",
       "\u001b[2;36m                    \u001b[0m         \u001b[1;36m1.737479413052696e-05\u001b[0m, \u001b[32m'calibration'\u001b[0m: \u001b[32m'sigmoid'\u001b[0m\u001b[1m}\u001b[0m. Best is trial \u001b[1;36m49\u001b[0m with  \u001b[2m             \u001b[0m\n",
       "\u001b[2;36m                    \u001b[0m         value: \u001b[1;36m0.981777593848566\u001b[0m.                                                \u001b[2m             \u001b[0m\n"
      ]
     },
     "metadata": {},
     "output_type": "display_data"
    }
   ],
   "source": [
    "# Import necessary libraries\n",
    "import numpy as np\n",
    "from sklearn.pipeline import Pipeline\n",
    "from functools import partial\n",
    "\n",
    "# Import custom helper functions\n",
    "from helper import create_model, load_data, score_model\n",
    "\n",
    "# Define constants for optimization\n",
    "N_TRIALS = 40\n",
    "N_JOBS = 5\n",
    "SEED = 796856567\n",
    "\n",
    "\n",
    "def get_hyperparams(trial: optuna.Trial) -> dict:\n",
    "    # For TF-IDF\n",
    "    max_ngram_word = trial.suggest_int(\"max_ngram_word\", 1, 3)\n",
    "    max_ngram_char = trial.suggest_int(\"max_ngram_char\", 1, 5)\n",
    "    use_idf = trial.suggest_categorical(\"use_idf\", [True, False])\n",
    "    lowercase = trial.suggest_categorical(\"lowercase\", [True, False])\n",
    "\n",
    "    # For SVM\n",
    "    C = trial.suggest_float(\"C\", 1e-7, 10, log=True)\n",
    "    loss = trial.suggest_categorical(\"loss\", [\"hinge\", \"squared_hinge\"])\n",
    "    tol = trial.suggest_float(\"tol\", 1e-5, 1e-1, log=True)\n",
    "\n",
    "    calibration = trial.suggest_categorical(\"calibration\", [\"isotonic\", \"sigmoid\"])\n",
    "\n",
    "    # Define hyperparameters dictionary\n",
    "    hyperparams = {\n",
    "        \"tfidf__word__ngram_range\": (1, max_ngram_word),\n",
    "        \"tfidf__char__ngram_range\": (1, max_ngram_char),\n",
    "        \"tfidf__word__lowercase\": lowercase,\n",
    "        \"tfidf__char__lowercase\": lowercase,\n",
    "        \"tfidf__word__use_idf\": use_idf,\n",
    "        \"tfidf__char__use_idf\": use_idf,\n",
    "        \"cls__method\": calibration,\n",
    "        \"cls__estimator__C\": C,\n",
    "        \"cls__estimator__loss\": loss,\n",
    "        \"cls__estimator__tol\": tol,\n",
    "    }\n",
    "\n",
    "    return hyperparams\n",
    "\n",
    "\n",
    "def objective(X_train, y_train, trial: optuna.Trial):\n",
    "    # Get hyperparameters from Optuna trial\n",
    "    hyperparams = get_hyperparams(trial)\n",
    "    \n",
    "    # Create a model pipeline with the specified hyperparameters\n",
    "    model: Pipeline = create_model(hyperparams)\n",
    "\n",
    "    # Score the model on training data\n",
    "    scores = score_model(model, X_train, y_train)\n",
    "\n",
    "    # Calculate mean scores for each metric\n",
    "    mean_scores = {}\n",
    "    for metric, values in scores.items():\n",
    "        mean_scores[metric] = values.mean()\n",
    "    \n",
    "    # Set the user attribute \"scores\" in the trial\n",
    "    trial.set_user_attr(\"scores\", mean_scores)\n",
    "    \n",
    "    # Use the ROC AUC score as the optimization objective\n",
    "    f1_score = scores[\"test_roc_auc\"]\n",
    "    return min(np.mean(f1_score), np.median(f1_score))\n",
    "\n",
    "def optimize(n_jobs=1, n_trials=3):\n",
    "    # Create an Optuna study for optimization\n",
    "    study = optuna.create_study(\n",
    "        direction=\"maximize\",\n",
    "        sampler=optuna.samplers.TPESampler(seed=SEED),\n",
    "        storage=\"sqlite:///optuna.db\",\n",
    "        study_name=\"optimize-model\",\n",
    "        load_if_exists=True,\n",
    "    )\n",
    "\n",
    "    # Load training data\n",
    "    X_train, y_train = load_data(\"../data/train.parquet\")\n",
    "    \n",
    "    # Partially apply the objective function with training data\n",
    "    objective_with_data = partial(objective, X_train, y_train)\n",
    "\n",
    "    # Run the optimization study\n",
    "    study.optimize(\n",
    "        objective_with_data, \n",
    "        n_trials=n_trials,\n",
    "        n_jobs=n_jobs\n",
    "    )\n",
    "    \n",
    "    return study\n",
    "\n",
    "# Run the optimization with specified number of jobs and trials\n",
    "study = optimize(N_JOBS, N_TRIALS)\n"
   ]
  },
  {
   "cell_type": "markdown",
   "metadata": {},
   "source": [
    "### Results and Visualizations\n",
    "\n",
    "This cell provides a comprehensive view of hyperparameter optimization results, making it easier to analyze and interpret the performance of different hyperparameter configurations."
   ]
  },
  {
   "cell_type": "code",
   "execution_count": 4,
   "metadata": {},
   "outputs": [
    {
     "name": "stdout",
     "output_type": "stream",
     "text": [
      "best_trial: 49\n",
      "params:\n",
      "  C: 9.517286338692262\n",
      "  calibration: sigmoid\n",
      "  loss: hinge\n",
      "  lowercase: false\n",
      "  max_ngram_char: 5\n",
      "  max_ngram_word: 2\n",
      "  tol: 1.737479413052696e-05\n",
      "  use_idf: false\n",
      "scores:\n",
      "  fit_time: 8.66616473197937\n",
      "  score_time: 0.9940863132476807\n",
      "  test_accuracy: 0.9386274606777597\n",
      "  test_f1: 0.9372405327308085\n",
      "  test_precision: 0.958233745473023\n",
      "  test_recall: 0.9172098499974402\n",
      "  test_roc_auc: 0.981777593848566\n",
      "\n"
     ]
    },
    {
     "data": {
      "application/vnd.plotly.v1+json": {
       "config": {
        "plotlyServerURL": "https://plot.ly"
       },
       "data": [
        {
         "mode": "markers",
         "name": "Objective Value",
         "type": "scatter",
         "x": [
          0,
          1,
          2,
          3,
          4,
          5,
          6,
          7,
          8,
          9,
          10,
          11,
          12,
          13,
          14,
          15,
          16,
          17,
          18,
          19,
          20,
          21,
          22,
          23,
          24,
          25,
          26,
          27,
          28,
          29,
          30,
          31,
          32,
          33,
          34,
          35,
          36,
          37,
          38,
          39,
          40,
          41,
          42,
          43,
          44,
          45,
          46,
          47,
          48,
          49
         ],
         "y": [
          0.9180337488271059,
          0.9593229745274527,
          0.9107424994598639,
          0.8481116197680594,
          0.8534098845109014,
          0.9741872318283799,
          0.910023302601382,
          0.9507329826380715,
          0.8473148763399084,
          0.8498883761772996,
          0.98028805863207,
          0.98028805863207,
          0.9802900850614682,
          0.98028805863207,
          0.980288397706998,
          0.9802866920843648,
          0.9801042483860636,
          0.9801076591857647,
          0.9186776109003366,
          0.8982280051206105,
          0.9241780518536906,
          0.8899295258828012,
          0.97145709541466,
          0.9700291836131726,
          0.9678725035497046,
          0.9771011958651394,
          0.9765214387809127,
          0.9807562213008829,
          0.9805226236272311,
          0.9815491237363723,
          0.9808091000581596,
          0.9810010926589298,
          0.918945329492385,
          0.9207286363747553,
          0.9216292906735191,
          0.9717155930400437,
          0.9747914985494409,
          0.9730317553695145,
          0.9724029750015338,
          0.9714785841211256,
          0.976658827619698,
          0.9751071654997989,
          0.9750450535228214,
          0.9751063873206117,
          0.9750946208413808,
          0.9803756903416266,
          0.9807391855705394,
          0.9804261307447077,
          0.9758270133286746,
          0.981777593848566
         ]
        },
        {
         "mode": "lines",
         "name": "Best Value",
         "type": "scatter",
         "x": [
          0,
          1,
          2,
          3,
          4,
          5,
          6,
          7,
          8,
          9,
          10,
          11,
          12,
          13,
          14,
          15,
          16,
          17,
          18,
          19,
          20,
          21,
          22,
          23,
          24,
          25,
          26,
          27,
          28,
          29,
          30,
          31,
          32,
          33,
          34,
          35,
          36,
          37,
          38,
          39,
          40,
          41,
          42,
          43,
          44,
          45,
          46,
          47,
          48,
          49
         ],
         "y": [
          0.9180337488271059,
          0.9593229745274527,
          0.9593229745274527,
          0.9593229745274527,
          0.9593229745274527,
          0.9741872318283799,
          0.9741872318283799,
          0.9741872318283799,
          0.9741872318283799,
          0.9741872318283799,
          0.98028805863207,
          0.98028805863207,
          0.9802900850614682,
          0.9802900850614682,
          0.9802900850614682,
          0.9802900850614682,
          0.9802900850614682,
          0.9802900850614682,
          0.9802900850614682,
          0.9802900850614682,
          0.9802900850614682,
          0.9802900850614682,
          0.9802900850614682,
          0.9802900850614682,
          0.9802900850614682,
          0.9802900850614682,
          0.9802900850614682,
          0.9807562213008829,
          0.9807562213008829,
          0.9815491237363723,
          0.9815491237363723,
          0.9815491237363723,
          0.9815491237363723,
          0.9815491237363723,
          0.9815491237363723,
          0.9815491237363723,
          0.9815491237363723,
          0.9815491237363723,
          0.9815491237363723,
          0.9815491237363723,
          0.9815491237363723,
          0.9815491237363723,
          0.9815491237363723,
          0.9815491237363723,
          0.9815491237363723,
          0.9815491237363723,
          0.9815491237363723,
          0.9815491237363723,
          0.9815491237363723,
          0.981777593848566
         ]
        },
        {
         "marker": {
          "color": "#cccccc"
         },
         "mode": "markers",
         "name": "Infeasible Trial",
         "showlegend": false,
         "type": "scatter",
         "x": [],
         "y": []
        }
       ],
       "layout": {
        "template": {
         "data": {
          "bar": [
           {
            "error_x": {
             "color": "#2a3f5f"
            },
            "error_y": {
             "color": "#2a3f5f"
            },
            "marker": {
             "line": {
              "color": "#E5ECF6",
              "width": 0.5
             },
             "pattern": {
              "fillmode": "overlay",
              "size": 10,
              "solidity": 0.2
             }
            },
            "type": "bar"
           }
          ],
          "barpolar": [
           {
            "marker": {
             "line": {
              "color": "#E5ECF6",
              "width": 0.5
             },
             "pattern": {
              "fillmode": "overlay",
              "size": 10,
              "solidity": 0.2
             }
            },
            "type": "barpolar"
           }
          ],
          "carpet": [
           {
            "aaxis": {
             "endlinecolor": "#2a3f5f",
             "gridcolor": "white",
             "linecolor": "white",
             "minorgridcolor": "white",
             "startlinecolor": "#2a3f5f"
            },
            "baxis": {
             "endlinecolor": "#2a3f5f",
             "gridcolor": "white",
             "linecolor": "white",
             "minorgridcolor": "white",
             "startlinecolor": "#2a3f5f"
            },
            "type": "carpet"
           }
          ],
          "choropleth": [
           {
            "colorbar": {
             "outlinewidth": 0,
             "ticks": ""
            },
            "type": "choropleth"
           }
          ],
          "contour": [
           {
            "colorbar": {
             "outlinewidth": 0,
             "ticks": ""
            },
            "colorscale": [
             [
              0,
              "#0d0887"
             ],
             [
              0.1111111111111111,
              "#46039f"
             ],
             [
              0.2222222222222222,
              "#7201a8"
             ],
             [
              0.3333333333333333,
              "#9c179e"
             ],
             [
              0.4444444444444444,
              "#bd3786"
             ],
             [
              0.5555555555555556,
              "#d8576b"
             ],
             [
              0.6666666666666666,
              "#ed7953"
             ],
             [
              0.7777777777777778,
              "#fb9f3a"
             ],
             [
              0.8888888888888888,
              "#fdca26"
             ],
             [
              1,
              "#f0f921"
             ]
            ],
            "type": "contour"
           }
          ],
          "contourcarpet": [
           {
            "colorbar": {
             "outlinewidth": 0,
             "ticks": ""
            },
            "type": "contourcarpet"
           }
          ],
          "heatmap": [
           {
            "colorbar": {
             "outlinewidth": 0,
             "ticks": ""
            },
            "colorscale": [
             [
              0,
              "#0d0887"
             ],
             [
              0.1111111111111111,
              "#46039f"
             ],
             [
              0.2222222222222222,
              "#7201a8"
             ],
             [
              0.3333333333333333,
              "#9c179e"
             ],
             [
              0.4444444444444444,
              "#bd3786"
             ],
             [
              0.5555555555555556,
              "#d8576b"
             ],
             [
              0.6666666666666666,
              "#ed7953"
             ],
             [
              0.7777777777777778,
              "#fb9f3a"
             ],
             [
              0.8888888888888888,
              "#fdca26"
             ],
             [
              1,
              "#f0f921"
             ]
            ],
            "type": "heatmap"
           }
          ],
          "heatmapgl": [
           {
            "colorbar": {
             "outlinewidth": 0,
             "ticks": ""
            },
            "colorscale": [
             [
              0,
              "#0d0887"
             ],
             [
              0.1111111111111111,
              "#46039f"
             ],
             [
              0.2222222222222222,
              "#7201a8"
             ],
             [
              0.3333333333333333,
              "#9c179e"
             ],
             [
              0.4444444444444444,
              "#bd3786"
             ],
             [
              0.5555555555555556,
              "#d8576b"
             ],
             [
              0.6666666666666666,
              "#ed7953"
             ],
             [
              0.7777777777777778,
              "#fb9f3a"
             ],
             [
              0.8888888888888888,
              "#fdca26"
             ],
             [
              1,
              "#f0f921"
             ]
            ],
            "type": "heatmapgl"
           }
          ],
          "histogram": [
           {
            "marker": {
             "pattern": {
              "fillmode": "overlay",
              "size": 10,
              "solidity": 0.2
             }
            },
            "type": "histogram"
           }
          ],
          "histogram2d": [
           {
            "colorbar": {
             "outlinewidth": 0,
             "ticks": ""
            },
            "colorscale": [
             [
              0,
              "#0d0887"
             ],
             [
              0.1111111111111111,
              "#46039f"
             ],
             [
              0.2222222222222222,
              "#7201a8"
             ],
             [
              0.3333333333333333,
              "#9c179e"
             ],
             [
              0.4444444444444444,
              "#bd3786"
             ],
             [
              0.5555555555555556,
              "#d8576b"
             ],
             [
              0.6666666666666666,
              "#ed7953"
             ],
             [
              0.7777777777777778,
              "#fb9f3a"
             ],
             [
              0.8888888888888888,
              "#fdca26"
             ],
             [
              1,
              "#f0f921"
             ]
            ],
            "type": "histogram2d"
           }
          ],
          "histogram2dcontour": [
           {
            "colorbar": {
             "outlinewidth": 0,
             "ticks": ""
            },
            "colorscale": [
             [
              0,
              "#0d0887"
             ],
             [
              0.1111111111111111,
              "#46039f"
             ],
             [
              0.2222222222222222,
              "#7201a8"
             ],
             [
              0.3333333333333333,
              "#9c179e"
             ],
             [
              0.4444444444444444,
              "#bd3786"
             ],
             [
              0.5555555555555556,
              "#d8576b"
             ],
             [
              0.6666666666666666,
              "#ed7953"
             ],
             [
              0.7777777777777778,
              "#fb9f3a"
             ],
             [
              0.8888888888888888,
              "#fdca26"
             ],
             [
              1,
              "#f0f921"
             ]
            ],
            "type": "histogram2dcontour"
           }
          ],
          "mesh3d": [
           {
            "colorbar": {
             "outlinewidth": 0,
             "ticks": ""
            },
            "type": "mesh3d"
           }
          ],
          "parcoords": [
           {
            "line": {
             "colorbar": {
              "outlinewidth": 0,
              "ticks": ""
             }
            },
            "type": "parcoords"
           }
          ],
          "pie": [
           {
            "automargin": true,
            "type": "pie"
           }
          ],
          "scatter": [
           {
            "fillpattern": {
             "fillmode": "overlay",
             "size": 10,
             "solidity": 0.2
            },
            "type": "scatter"
           }
          ],
          "scatter3d": [
           {
            "line": {
             "colorbar": {
              "outlinewidth": 0,
              "ticks": ""
             }
            },
            "marker": {
             "colorbar": {
              "outlinewidth": 0,
              "ticks": ""
             }
            },
            "type": "scatter3d"
           }
          ],
          "scattercarpet": [
           {
            "marker": {
             "colorbar": {
              "outlinewidth": 0,
              "ticks": ""
             }
            },
            "type": "scattercarpet"
           }
          ],
          "scattergeo": [
           {
            "marker": {
             "colorbar": {
              "outlinewidth": 0,
              "ticks": ""
             }
            },
            "type": "scattergeo"
           }
          ],
          "scattergl": [
           {
            "marker": {
             "colorbar": {
              "outlinewidth": 0,
              "ticks": ""
             }
            },
            "type": "scattergl"
           }
          ],
          "scattermapbox": [
           {
            "marker": {
             "colorbar": {
              "outlinewidth": 0,
              "ticks": ""
             }
            },
            "type": "scattermapbox"
           }
          ],
          "scatterpolar": [
           {
            "marker": {
             "colorbar": {
              "outlinewidth": 0,
              "ticks": ""
             }
            },
            "type": "scatterpolar"
           }
          ],
          "scatterpolargl": [
           {
            "marker": {
             "colorbar": {
              "outlinewidth": 0,
              "ticks": ""
             }
            },
            "type": "scatterpolargl"
           }
          ],
          "scatterternary": [
           {
            "marker": {
             "colorbar": {
              "outlinewidth": 0,
              "ticks": ""
             }
            },
            "type": "scatterternary"
           }
          ],
          "surface": [
           {
            "colorbar": {
             "outlinewidth": 0,
             "ticks": ""
            },
            "colorscale": [
             [
              0,
              "#0d0887"
             ],
             [
              0.1111111111111111,
              "#46039f"
             ],
             [
              0.2222222222222222,
              "#7201a8"
             ],
             [
              0.3333333333333333,
              "#9c179e"
             ],
             [
              0.4444444444444444,
              "#bd3786"
             ],
             [
              0.5555555555555556,
              "#d8576b"
             ],
             [
              0.6666666666666666,
              "#ed7953"
             ],
             [
              0.7777777777777778,
              "#fb9f3a"
             ],
             [
              0.8888888888888888,
              "#fdca26"
             ],
             [
              1,
              "#f0f921"
             ]
            ],
            "type": "surface"
           }
          ],
          "table": [
           {
            "cells": {
             "fill": {
              "color": "#EBF0F8"
             },
             "line": {
              "color": "white"
             }
            },
            "header": {
             "fill": {
              "color": "#C8D4E3"
             },
             "line": {
              "color": "white"
             }
            },
            "type": "table"
           }
          ]
         },
         "layout": {
          "annotationdefaults": {
           "arrowcolor": "#2a3f5f",
           "arrowhead": 0,
           "arrowwidth": 1
          },
          "autotypenumbers": "strict",
          "coloraxis": {
           "colorbar": {
            "outlinewidth": 0,
            "ticks": ""
           }
          },
          "colorscale": {
           "diverging": [
            [
             0,
             "#8e0152"
            ],
            [
             0.1,
             "#c51b7d"
            ],
            [
             0.2,
             "#de77ae"
            ],
            [
             0.3,
             "#f1b6da"
            ],
            [
             0.4,
             "#fde0ef"
            ],
            [
             0.5,
             "#f7f7f7"
            ],
            [
             0.6,
             "#e6f5d0"
            ],
            [
             0.7,
             "#b8e186"
            ],
            [
             0.8,
             "#7fbc41"
            ],
            [
             0.9,
             "#4d9221"
            ],
            [
             1,
             "#276419"
            ]
           ],
           "sequential": [
            [
             0,
             "#0d0887"
            ],
            [
             0.1111111111111111,
             "#46039f"
            ],
            [
             0.2222222222222222,
             "#7201a8"
            ],
            [
             0.3333333333333333,
             "#9c179e"
            ],
            [
             0.4444444444444444,
             "#bd3786"
            ],
            [
             0.5555555555555556,
             "#d8576b"
            ],
            [
             0.6666666666666666,
             "#ed7953"
            ],
            [
             0.7777777777777778,
             "#fb9f3a"
            ],
            [
             0.8888888888888888,
             "#fdca26"
            ],
            [
             1,
             "#f0f921"
            ]
           ],
           "sequentialminus": [
            [
             0,
             "#0d0887"
            ],
            [
             0.1111111111111111,
             "#46039f"
            ],
            [
             0.2222222222222222,
             "#7201a8"
            ],
            [
             0.3333333333333333,
             "#9c179e"
            ],
            [
             0.4444444444444444,
             "#bd3786"
            ],
            [
             0.5555555555555556,
             "#d8576b"
            ],
            [
             0.6666666666666666,
             "#ed7953"
            ],
            [
             0.7777777777777778,
             "#fb9f3a"
            ],
            [
             0.8888888888888888,
             "#fdca26"
            ],
            [
             1,
             "#f0f921"
            ]
           ]
          },
          "colorway": [
           "#636efa",
           "#EF553B",
           "#00cc96",
           "#ab63fa",
           "#FFA15A",
           "#19d3f3",
           "#FF6692",
           "#B6E880",
           "#FF97FF",
           "#FECB52"
          ],
          "font": {
           "color": "#2a3f5f"
          },
          "geo": {
           "bgcolor": "white",
           "lakecolor": "white",
           "landcolor": "#E5ECF6",
           "showlakes": true,
           "showland": true,
           "subunitcolor": "white"
          },
          "hoverlabel": {
           "align": "left"
          },
          "hovermode": "closest",
          "mapbox": {
           "style": "light"
          },
          "paper_bgcolor": "white",
          "plot_bgcolor": "#E5ECF6",
          "polar": {
           "angularaxis": {
            "gridcolor": "white",
            "linecolor": "white",
            "ticks": ""
           },
           "bgcolor": "#E5ECF6",
           "radialaxis": {
            "gridcolor": "white",
            "linecolor": "white",
            "ticks": ""
           }
          },
          "scene": {
           "xaxis": {
            "backgroundcolor": "#E5ECF6",
            "gridcolor": "white",
            "gridwidth": 2,
            "linecolor": "white",
            "showbackground": true,
            "ticks": "",
            "zerolinecolor": "white"
           },
           "yaxis": {
            "backgroundcolor": "#E5ECF6",
            "gridcolor": "white",
            "gridwidth": 2,
            "linecolor": "white",
            "showbackground": true,
            "ticks": "",
            "zerolinecolor": "white"
           },
           "zaxis": {
            "backgroundcolor": "#E5ECF6",
            "gridcolor": "white",
            "gridwidth": 2,
            "linecolor": "white",
            "showbackground": true,
            "ticks": "",
            "zerolinecolor": "white"
           }
          },
          "shapedefaults": {
           "line": {
            "color": "#2a3f5f"
           }
          },
          "ternary": {
           "aaxis": {
            "gridcolor": "white",
            "linecolor": "white",
            "ticks": ""
           },
           "baxis": {
            "gridcolor": "white",
            "linecolor": "white",
            "ticks": ""
           },
           "bgcolor": "#E5ECF6",
           "caxis": {
            "gridcolor": "white",
            "linecolor": "white",
            "ticks": ""
           }
          },
          "title": {
           "x": 0.05
          },
          "xaxis": {
           "automargin": true,
           "gridcolor": "white",
           "linecolor": "white",
           "ticks": "",
           "title": {
            "standoff": 15
           },
           "zerolinecolor": "white",
           "zerolinewidth": 2
          },
          "yaxis": {
           "automargin": true,
           "gridcolor": "white",
           "linecolor": "white",
           "ticks": "",
           "title": {
            "standoff": 15
           },
           "zerolinecolor": "white",
           "zerolinewidth": 2
          }
         }
        },
        "title": {
         "text": "Optimization History Plot"
        },
        "xaxis": {
         "title": {
          "text": "Trial"
         }
        },
        "yaxis": {
         "title": {
          "text": "Objective Value"
         }
        }
       }
      }
     },
     "metadata": {},
     "output_type": "display_data"
    },
    {
     "data": {
      "text/html": [
       "<style type=\"text/css\">\n",
       "#T_baca8_row0_col0 {\n",
       "  width: 10em;\n",
       "  background: linear-gradient(90deg, LightSalmon 34.5%, transparent 34.5%) no-repeat center;\n",
       "  background-size: 100% 20.0%;\n",
       "}\n",
       "#T_baca8_row0_col1 {\n",
       "  width: 10em;\n",
       "  background: linear-gradient(90deg, LightSalmon 34.6%, transparent 34.6%) no-repeat center;\n",
       "  background-size: 100% 20.0%;\n",
       "}\n",
       "#T_baca8_row0_col2, #T_baca8_row0_col4, #T_baca8_row0_col5, #T_baca8_row1_col6, #T_baca8_row23_col3 {\n",
       "  background-color: lightblue;\n",
       "  color: black;\n",
       "}\n",
       "#T_baca8_row1_col0 {\n",
       "  width: 10em;\n",
       "  background: linear-gradient(90deg, LightSalmon 28.8%, transparent 28.8%) no-repeat center;\n",
       "  background-size: 100% 20.0%;\n",
       "}\n",
       "#T_baca8_row1_col1 {\n",
       "  width: 10em;\n",
       "  background: linear-gradient(90deg, LightSalmon 12.4%, transparent 12.4%) no-repeat center;\n",
       "  background-size: 100% 20.0%;\n",
       "}\n",
       "#T_baca8_row2_col0, #T_baca8_row3_col0 {\n",
       "  width: 10em;\n",
       "  background: linear-gradient(90deg, LightSalmon 27.7%, transparent 27.7%) no-repeat center;\n",
       "  background-size: 100% 20.0%;\n",
       "}\n",
       "#T_baca8_row2_col1 {\n",
       "  width: 10em;\n",
       "  background: linear-gradient(90deg, LightSalmon 35.5%, transparent 35.5%) no-repeat center;\n",
       "  background-size: 100% 20.0%;\n",
       "}\n",
       "#T_baca8_row3_col1 {\n",
       "  width: 10em;\n",
       "  background: linear-gradient(90deg, LightSalmon 34.8%, transparent 34.8%) no-repeat center;\n",
       "  background-size: 100% 20.0%;\n",
       "}\n",
       "#T_baca8_row4_col0 {\n",
       "  width: 10em;\n",
       "  background: linear-gradient(90deg, LightSalmon 26.3%, transparent 26.3%) no-repeat center;\n",
       "  background-size: 100% 20.0%;\n",
       "}\n",
       "#T_baca8_row4_col1 {\n",
       "  width: 10em;\n",
       "  background: linear-gradient(90deg, LightSalmon 48.1%, transparent 48.1%) no-repeat center;\n",
       "  background-size: 100% 20.0%;\n",
       "}\n",
       "#T_baca8_row5_col0, #T_baca8_row10_col1 {\n",
       "  width: 10em;\n",
       "  background: linear-gradient(90deg, LightSalmon 33.3%, transparent 33.3%) no-repeat center;\n",
       "  background-size: 100% 20.0%;\n",
       "}\n",
       "#T_baca8_row5_col1 {\n",
       "  width: 10em;\n",
       "  background: linear-gradient(90deg, LightSalmon 46.2%, transparent 46.2%) no-repeat center;\n",
       "  background-size: 100% 20.0%;\n",
       "}\n",
       "#T_baca8_row6_col0, #T_baca8_row17_col0 {\n",
       "  width: 10em;\n",
       "  background: linear-gradient(90deg, LightSalmon 32.3%, transparent 32.3%) no-repeat center;\n",
       "  background-size: 100% 20.0%;\n",
       "}\n",
       "#T_baca8_row6_col1 {\n",
       "  width: 10em;\n",
       "  background: linear-gradient(90deg, LightSalmon 46.6%, transparent 46.6%) no-repeat center;\n",
       "  background-size: 100% 20.0%;\n",
       "}\n",
       "#T_baca8_row7_col0, #T_baca8_row16_col1 {\n",
       "  width: 10em;\n",
       "  background: linear-gradient(90deg, LightSalmon 31.4%, transparent 31.4%) no-repeat center;\n",
       "  background-size: 100% 20.0%;\n",
       "}\n",
       "#T_baca8_row7_col1 {\n",
       "  width: 10em;\n",
       "  background: linear-gradient(90deg, LightSalmon 30.2%, transparent 30.2%) no-repeat center;\n",
       "  background-size: 100% 20.0%;\n",
       "}\n",
       "#T_baca8_row8_col0 {\n",
       "  width: 10em;\n",
       "  background: linear-gradient(90deg, LightSalmon 23.9%, transparent 23.9%) no-repeat center;\n",
       "  background-size: 100% 20.0%;\n",
       "}\n",
       "#T_baca8_row8_col1 {\n",
       "  width: 10em;\n",
       "  background: linear-gradient(90deg, LightSalmon 25.9%, transparent 25.9%) no-repeat center;\n",
       "  background-size: 100% 20.0%;\n",
       "}\n",
       "#T_baca8_row9_col0, #T_baca8_row21_col0 {\n",
       "  width: 10em;\n",
       "  background: linear-gradient(90deg, LightSalmon 23.6%, transparent 23.6%) no-repeat center;\n",
       "  background-size: 100% 20.0%;\n",
       "}\n",
       "#T_baca8_row9_col1 {\n",
       "  width: 10em;\n",
       "  background: linear-gradient(90deg, LightSalmon 29.4%, transparent 29.4%) no-repeat center;\n",
       "  background-size: 100% 20.0%;\n",
       "}\n",
       "#T_baca8_row10_col0 {\n",
       "  width: 10em;\n",
       "  background: linear-gradient(90deg, LightSalmon 46.3%, transparent 46.3%) no-repeat center;\n",
       "  background-size: 100% 20.0%;\n",
       "}\n",
       "#T_baca8_row11_col0, #T_baca8_row21_col1 {\n",
       "  width: 10em;\n",
       "  background: linear-gradient(90deg, LightSalmon 43.9%, transparent 43.9%) no-repeat center;\n",
       "  background-size: 100% 20.0%;\n",
       "}\n",
       "#T_baca8_row11_col1 {\n",
       "  width: 10em;\n",
       "  background: linear-gradient(90deg, LightSalmon 39.9%, transparent 39.9%) no-repeat center;\n",
       "  background-size: 100% 20.0%;\n",
       "}\n",
       "#T_baca8_row12_col0, #T_baca8_row20_col1 {\n",
       "  width: 10em;\n",
       "  background: linear-gradient(90deg, LightSalmon 50.0%, transparent 50.0%) no-repeat center;\n",
       "  background-size: 100% 20.0%;\n",
       "}\n",
       "#T_baca8_row12_col1 {\n",
       "  width: 10em;\n",
       "  background: linear-gradient(90deg, LightSalmon 40.9%, transparent 40.9%) no-repeat center;\n",
       "  background-size: 100% 20.0%;\n",
       "}\n",
       "#T_baca8_row13_col0 {\n",
       "  width: 10em;\n",
       "  background: linear-gradient(90deg, LightSalmon 36.8%, transparent 36.8%) no-repeat center;\n",
       "  background-size: 100% 20.0%;\n",
       "}\n",
       "#T_baca8_row13_col1, #T_baca8_row44_col0 {\n",
       "  width: 10em;\n",
       "  background: linear-gradient(90deg, LightSalmon 24.5%, transparent 24.5%) no-repeat center;\n",
       "  background-size: 100% 20.0%;\n",
       "}\n",
       "#T_baca8_row14_col0 {\n",
       "  width: 10em;\n",
       "  background: linear-gradient(90deg, LightSalmon 46.7%, transparent 46.7%) no-repeat center;\n",
       "  background-size: 100% 20.0%;\n",
       "}\n",
       "#T_baca8_row14_col1 {\n",
       "  width: 10em;\n",
       "  background: linear-gradient(90deg, LightSalmon 29.0%, transparent 29.0%) no-repeat center;\n",
       "  background-size: 100% 20.0%;\n",
       "}\n",
       "#T_baca8_row15_col0, #T_baca8_row29_col1 {\n",
       "  width: 10em;\n",
       "  background: linear-gradient(90deg, LightSalmon 33.1%, transparent 33.1%) no-repeat center;\n",
       "  background-size: 100% 20.0%;\n",
       "}\n",
       "#T_baca8_row15_col1 {\n",
       "  width: 10em;\n",
       "  background: linear-gradient(90deg, LightSalmon 20.7%, transparent 20.7%) no-repeat center;\n",
       "  background-size: 100% 20.0%;\n",
       "}\n",
       "#T_baca8_row16_col0 {\n",
       "  width: 10em;\n",
       "  background: linear-gradient(90deg, LightSalmon 19.5%, transparent 19.5%) no-repeat center;\n",
       "  background-size: 100% 20.0%;\n",
       "}\n",
       "#T_baca8_row17_col1 {\n",
       "  width: 10em;\n",
       "  background: linear-gradient(90deg, LightSalmon 36.0%, transparent 36.0%) no-repeat center;\n",
       "  background-size: 100% 20.0%;\n",
       "}\n",
       "#T_baca8_row18_col0 {\n",
       "  width: 10em;\n",
       "  background: linear-gradient(90deg, LightSalmon 20.2%, transparent 20.2%) no-repeat center;\n",
       "  background-size: 100% 20.0%;\n",
       "}\n",
       "#T_baca8_row18_col1 {\n",
       "  width: 10em;\n",
       "  background: linear-gradient(90deg, LightSalmon 42.1%, transparent 42.1%) no-repeat center;\n",
       "  background-size: 100% 20.0%;\n",
       "}\n",
       "#T_baca8_row19_col0 {\n",
       "  width: 10em;\n",
       "  background: linear-gradient(90deg, LightSalmon 22.5%, transparent 22.5%) no-repeat center;\n",
       "  background-size: 100% 20.0%;\n",
       "}\n",
       "#T_baca8_row19_col1 {\n",
       "  width: 10em;\n",
       "  background: linear-gradient(90deg, LightSalmon 43.7%, transparent 43.7%) no-repeat center;\n",
       "  background-size: 100% 20.0%;\n",
       "}\n",
       "#T_baca8_row20_col0 {\n",
       "  width: 10em;\n",
       "  background: linear-gradient(90deg, LightSalmon 31.0%, transparent 31.0%) no-repeat center;\n",
       "  background-size: 100% 20.0%;\n",
       "}\n",
       "#T_baca8_row22_col0 {\n",
       "  width: 10em;\n",
       "  background: linear-gradient(90deg, LightSalmon 31.6%, transparent 31.6%) no-repeat center;\n",
       "  background-size: 100% 20.0%;\n",
       "}\n",
       "#T_baca8_row22_col1 {\n",
       "  width: 10em;\n",
       "  background: linear-gradient(90deg, LightSalmon 44.6%, transparent 44.6%) no-repeat center;\n",
       "  background-size: 100% 20.0%;\n",
       "}\n",
       "#T_baca8_row23_col0 {\n",
       "  width: 10em;\n",
       "  background: linear-gradient(90deg, LightSalmon 29.7%, transparent 29.7%) no-repeat center;\n",
       "  background-size: 100% 20.0%;\n",
       "}\n",
       "#T_baca8_row23_col1 {\n",
       "  width: 10em;\n",
       "  background: linear-gradient(90deg, LightSalmon 8.5%, transparent 8.5%) no-repeat center;\n",
       "  background-size: 100% 20.0%;\n",
       "}\n",
       "#T_baca8_row24_col0 {\n",
       "  width: 10em;\n",
       "  background: linear-gradient(90deg, LightSalmon 33.8%, transparent 33.8%) no-repeat center;\n",
       "  background-size: 100% 20.0%;\n",
       "}\n",
       "#T_baca8_row24_col1 {\n",
       "  width: 10em;\n",
       "  background: linear-gradient(90deg, LightSalmon 37.8%, transparent 37.8%) no-repeat center;\n",
       "  background-size: 100% 20.0%;\n",
       "}\n",
       "#T_baca8_row25_col0 {\n",
       "  width: 10em;\n",
       "  background: linear-gradient(90deg, LightSalmon 25.8%, transparent 25.8%) no-repeat center;\n",
       "  background-size: 100% 20.0%;\n",
       "}\n",
       "#T_baca8_row25_col1 {\n",
       "  width: 10em;\n",
       "  background: linear-gradient(90deg, LightSalmon 26.9%, transparent 26.9%) no-repeat center;\n",
       "  background-size: 100% 20.0%;\n",
       "}\n",
       "#T_baca8_row26_col0 {\n",
       "  width: 10em;\n",
       "  background: linear-gradient(90deg, LightSalmon 27.0%, transparent 27.0%) no-repeat center;\n",
       "  background-size: 100% 20.0%;\n",
       "}\n",
       "#T_baca8_row26_col1 {\n",
       "  width: 10em;\n",
       "  background: linear-gradient(90deg, LightSalmon 38.4%, transparent 38.4%) no-repeat center;\n",
       "  background-size: 100% 20.0%;\n",
       "}\n",
       "#T_baca8_row27_col0 {\n",
       "  width: 10em;\n",
       "  background: linear-gradient(90deg, LightSalmon 19.2%, transparent 19.2%) no-repeat center;\n",
       "  background-size: 100% 20.0%;\n",
       "}\n",
       "#T_baca8_row27_col1 {\n",
       "  width: 10em;\n",
       "  background: linear-gradient(90deg, LightSalmon 27.9%, transparent 27.9%) no-repeat center;\n",
       "  background-size: 100% 20.0%;\n",
       "}\n",
       "#T_baca8_row28_col0 {\n",
       "  width: 10em;\n",
       "  background: linear-gradient(90deg, LightSalmon 28.6%, transparent 28.6%) no-repeat center;\n",
       "  background-size: 100% 20.0%;\n",
       "}\n",
       "#T_baca8_row28_col1 {\n",
       "  width: 10em;\n",
       "  background: linear-gradient(90deg, LightSalmon 47.0%, transparent 47.0%) no-repeat center;\n",
       "  background-size: 100% 20.0%;\n",
       "}\n",
       "#T_baca8_row29_col0 {\n",
       "  width: 10em;\n",
       "  background: linear-gradient(90deg, LightSalmon 27.8%, transparent 27.8%) no-repeat center;\n",
       "  background-size: 100% 20.0%;\n",
       "}\n",
       "#T_baca8_row30_col0 {\n",
       "  width: 10em;\n",
       "  background: linear-gradient(90deg, LightSalmon 21.3%, transparent 21.3%) no-repeat center;\n",
       "  background-size: 100% 20.0%;\n",
       "}\n",
       "#T_baca8_row30_col1 {\n",
       "  width: 10em;\n",
       "  background: linear-gradient(90deg, LightSalmon 28.4%, transparent 28.4%) no-repeat center;\n",
       "  background-size: 100% 20.0%;\n",
       "}\n",
       "#T_baca8_row31_col0 {\n",
       "  width: 10em;\n",
       "  background: linear-gradient(90deg, LightSalmon 25.1%, transparent 25.1%) no-repeat center;\n",
       "  background-size: 100% 20.0%;\n",
       "}\n",
       "#T_baca8_row31_col1 {\n",
       "  width: 10em;\n",
       "  background: linear-gradient(90deg, LightSalmon 48.5%, transparent 48.5%) no-repeat center;\n",
       "  background-size: 100% 20.0%;\n",
       "}\n",
       "#T_baca8_row32_col0, #T_baca8_row37_col0 {\n",
       "  width: 10em;\n",
       "  background: linear-gradient(90deg, LightSalmon 18.4%, transparent 18.4%) no-repeat center;\n",
       "  background-size: 100% 20.0%;\n",
       "}\n",
       "#T_baca8_row32_col1 {\n",
       "  width: 10em;\n",
       "  background: linear-gradient(90deg, LightSalmon 24.6%, transparent 24.6%) no-repeat center;\n",
       "  background-size: 100% 20.0%;\n",
       "}\n",
       "#T_baca8_row33_col0 {\n",
       "  width: 10em;\n",
       "  background: linear-gradient(90deg, LightSalmon 16.5%, transparent 16.5%) no-repeat center;\n",
       "  background-size: 100% 20.0%;\n",
       "}\n",
       "#T_baca8_row33_col1 {\n",
       "  width: 10em;\n",
       "  background: linear-gradient(90deg, LightSalmon 30.6%, transparent 30.6%) no-repeat center;\n",
       "  background-size: 100% 20.0%;\n",
       "}\n",
       "#T_baca8_row34_col0 {\n",
       "  width: 10em;\n",
       "  background: linear-gradient(90deg, LightSalmon 4.3%, transparent 4.3%) no-repeat center;\n",
       "  background-size: 100% 20.0%;\n",
       "}\n",
       "#T_baca8_row34_col1 {\n",
       "  width: 10em;\n",
       "  background: linear-gradient(90deg, LightSalmon 9.3%, transparent 9.3%) no-repeat center;\n",
       "  background-size: 100% 20.0%;\n",
       "}\n",
       "#T_baca8_row35_col0 {\n",
       "  width: 10em;\n",
       "  background: linear-gradient(90deg, LightSalmon 4.4%, transparent 4.4%) no-repeat center;\n",
       "  background-size: 100% 20.0%;\n",
       "}\n",
       "#T_baca8_row35_col1 {\n",
       "  width: 10em;\n",
       "  background: linear-gradient(90deg, LightSalmon 10.8%, transparent 10.8%) no-repeat center;\n",
       "  background-size: 100% 20.0%;\n",
       "}\n",
       "#T_baca8_row36_col0 {\n",
       "  width: 10em;\n",
       "  background: linear-gradient(90deg, LightSalmon 25.3%, transparent 25.3%) no-repeat center;\n",
       "  background-size: 100% 20.0%;\n",
       "}\n",
       "#T_baca8_row36_col1 {\n",
       "  width: 10em;\n",
       "  background: linear-gradient(90deg, LightSalmon 41.0%, transparent 41.0%) no-repeat center;\n",
       "  background-size: 100% 20.0%;\n",
       "}\n",
       "#T_baca8_row37_col1 {\n",
       "  width: 10em;\n",
       "  background: linear-gradient(90deg, LightSalmon 28.9%, transparent 28.9%) no-repeat center;\n",
       "  background-size: 100% 20.0%;\n",
       "}\n",
       "#T_baca8_row38_col0 {\n",
       "  width: 10em;\n",
       "  background: linear-gradient(90deg, LightSalmon 20.3%, transparent 20.3%) no-repeat center;\n",
       "  background-size: 100% 20.0%;\n",
       "}\n",
       "#T_baca8_row38_col1 {\n",
       "  width: 10em;\n",
       "  background: linear-gradient(90deg, LightSalmon 24.8%, transparent 24.8%) no-repeat center;\n",
       "  background-size: 100% 20.0%;\n",
       "}\n",
       "#T_baca8_row39_col0 {\n",
       "  width: 10em;\n",
       "  background: linear-gradient(90deg, LightSalmon 6.9%, transparent 6.9%) no-repeat center;\n",
       "  background-size: 100% 20.0%;\n",
       "}\n",
       "#T_baca8_row39_col1 {\n",
       "  width: 10em;\n",
       "  background: linear-gradient(90deg, LightSalmon 11.7%, transparent 11.7%) no-repeat center;\n",
       "  background-size: 100% 20.0%;\n",
       "}\n",
       "#T_baca8_row40_col0 {\n",
       "  width: 10em;\n",
       "  background: linear-gradient(90deg, LightSalmon 23.8%, transparent 23.8%) no-repeat center;\n",
       "  background-size: 100% 20.0%;\n",
       "}\n",
       "#T_baca8_row40_col1 {\n",
       "  width: 10em;\n",
       "  background: linear-gradient(90deg, LightSalmon 42.9%, transparent 42.9%) no-repeat center;\n",
       "  background-size: 100% 20.0%;\n",
       "}\n",
       "#T_baca8_row41_col0 {\n",
       "  width: 10em;\n",
       "  background: linear-gradient(90deg, LightSalmon 23.3%, transparent 23.3%) no-repeat center;\n",
       "  background-size: 100% 20.0%;\n",
       "}\n",
       "#T_baca8_row41_col1 {\n",
       "  width: 10em;\n",
       "  background: linear-gradient(90deg, LightSalmon 33.7%, transparent 33.7%) no-repeat center;\n",
       "  background-size: 100% 20.0%;\n",
       "}\n",
       "#T_baca8_row42_col0 {\n",
       "  width: 10em;\n",
       "  background: linear-gradient(90deg, LightSalmon 7.8%, transparent 7.8%) no-repeat center;\n",
       "  background-size: 100% 20.0%;\n",
       "}\n",
       "#T_baca8_row42_col1 {\n",
       "  width: 10em;\n",
       "  background: linear-gradient(90deg, LightSalmon 10.1%, transparent 10.1%) no-repeat center;\n",
       "  background-size: 100% 20.0%;\n",
       "}\n",
       "#T_baca8_row43_col0 {\n",
       "  width: 10em;\n",
       "  background: linear-gradient(90deg, LightSalmon 5.5%, transparent 5.5%) no-repeat center;\n",
       "  background-size: 100% 20.0%;\n",
       "}\n",
       "#T_baca8_row43_col1 {\n",
       "  width: 10em;\n",
       "  background: linear-gradient(90deg, LightSalmon 8.6%, transparent 8.6%) no-repeat center;\n",
       "  background-size: 100% 20.0%;\n",
       "}\n",
       "#T_baca8_row44_col1 {\n",
       "  width: 10em;\n",
       "  background: linear-gradient(90deg, LightSalmon 34.1%, transparent 34.1%) no-repeat center;\n",
       "  background-size: 100% 20.0%;\n",
       "}\n",
       "#T_baca8_row45_col0 {\n",
       "  width: 10em;\n",
       "  background: linear-gradient(90deg, LightSalmon 17.1%, transparent 17.1%) no-repeat center;\n",
       "  background-size: 100% 20.0%;\n",
       "}\n",
       "#T_baca8_row45_col1 {\n",
       "  width: 10em;\n",
       "  background: linear-gradient(90deg, LightSalmon 29.1%, transparent 29.1%) no-repeat center;\n",
       "  background-size: 100% 20.0%;\n",
       "}\n",
       "#T_baca8_row46_col0 {\n",
       "  width: 10em;\n",
       "  background: linear-gradient(90deg, LightSalmon 3.7%, transparent 3.7%) no-repeat center;\n",
       "  background-size: 100% 20.0%;\n",
       "}\n",
       "#T_baca8_row46_col1 {\n",
       "  width: 10em;\n",
       "  background: linear-gradient(90deg, LightSalmon 7.3%, transparent 7.3%) no-repeat center;\n",
       "  background-size: 100% 20.0%;\n",
       "}\n",
       "#T_baca8_row47_col0 {\n",
       "  width: 10em;\n",
       "  background: linear-gradient(90deg, LightSalmon 6.5%, transparent 6.5%) no-repeat center;\n",
       "  background-size: 100% 20.0%;\n",
       "}\n",
       "#T_baca8_row47_col1 {\n",
       "  width: 10em;\n",
       "  background: linear-gradient(90deg, LightSalmon 11.3%, transparent 11.3%) no-repeat center;\n",
       "  background-size: 100% 20.0%;\n",
       "}\n",
       "#T_baca8_row48_col0, #T_baca8_row49_col0 {\n",
       "  width: 10em;\n",
       "  background: linear-gradient(90deg, LightSalmon 5.0%, transparent 5.0%) no-repeat center;\n",
       "  background-size: 100% 20.0%;\n",
       "}\n",
       "#T_baca8_row48_col1 {\n",
       "  width: 10em;\n",
       "  background: linear-gradient(90deg, LightSalmon 4.7%, transparent 4.7%) no-repeat center;\n",
       "  background-size: 100% 20.0%;\n",
       "}\n",
       "#T_baca8_row49_col1 {\n",
       "  width: 10em;\n",
       "  background: linear-gradient(90deg, LightSalmon 6.7%, transparent 6.7%) no-repeat center;\n",
       "  background-size: 100% 20.0%;\n",
       "}\n",
       "</style>\n",
       "<table id=\"T_baca8\">\n",
       "  <thead>\n",
       "    <tr>\n",
       "      <th class=\"blank level0\" >&nbsp;</th>\n",
       "      <th id=\"T_baca8_level0_col0\" class=\"col_heading level0 col0\" >fit_time</th>\n",
       "      <th id=\"T_baca8_level0_col1\" class=\"col_heading level0 col1\" >score_time</th>\n",
       "      <th id=\"T_baca8_level0_col2\" class=\"col_heading level0 col2\" >test_recall</th>\n",
       "      <th id=\"T_baca8_level0_col3\" class=\"col_heading level0 col3\" >test_precision</th>\n",
       "      <th id=\"T_baca8_level0_col4\" class=\"col_heading level0 col4\" >test_f1</th>\n",
       "      <th id=\"T_baca8_level0_col5\" class=\"col_heading level0 col5\" >test_accuracy</th>\n",
       "      <th id=\"T_baca8_level0_col6\" class=\"col_heading level0 col6\" >test_roc_auc</th>\n",
       "      <th id=\"T_baca8_level0_col7\" class=\"col_heading level0 col7\" >params_C</th>\n",
       "      <th id=\"T_baca8_level0_col8\" class=\"col_heading level0 col8\" >params_calibration</th>\n",
       "      <th id=\"T_baca8_level0_col9\" class=\"col_heading level0 col9\" >params_loss</th>\n",
       "      <th id=\"T_baca8_level0_col10\" class=\"col_heading level0 col10\" >params_lowercase</th>\n",
       "      <th id=\"T_baca8_level0_col11\" class=\"col_heading level0 col11\" >params_max_ngram_char</th>\n",
       "      <th id=\"T_baca8_level0_col12\" class=\"col_heading level0 col12\" >params_max_ngram_word</th>\n",
       "      <th id=\"T_baca8_level0_col13\" class=\"col_heading level0 col13\" >params_tol</th>\n",
       "      <th id=\"T_baca8_level0_col14\" class=\"col_heading level0 col14\" >params_use_idf</th>\n",
       "      <th id=\"T_baca8_level0_col15\" class=\"col_heading level0 col15\" >state</th>\n",
       "    </tr>\n",
       "    <tr>\n",
       "      <th class=\"index_name level0\" >number</th>\n",
       "      <th class=\"blank col0\" >&nbsp;</th>\n",
       "      <th class=\"blank col1\" >&nbsp;</th>\n",
       "      <th class=\"blank col2\" >&nbsp;</th>\n",
       "      <th class=\"blank col3\" >&nbsp;</th>\n",
       "      <th class=\"blank col4\" >&nbsp;</th>\n",
       "      <th class=\"blank col5\" >&nbsp;</th>\n",
       "      <th class=\"blank col6\" >&nbsp;</th>\n",
       "      <th class=\"blank col7\" >&nbsp;</th>\n",
       "      <th class=\"blank col8\" >&nbsp;</th>\n",
       "      <th class=\"blank col9\" >&nbsp;</th>\n",
       "      <th class=\"blank col10\" >&nbsp;</th>\n",
       "      <th class=\"blank col11\" >&nbsp;</th>\n",
       "      <th class=\"blank col12\" >&nbsp;</th>\n",
       "      <th class=\"blank col13\" >&nbsp;</th>\n",
       "      <th class=\"blank col14\" >&nbsp;</th>\n",
       "      <th class=\"blank col15\" >&nbsp;</th>\n",
       "    </tr>\n",
       "  </thead>\n",
       "  <tbody>\n",
       "    <tr>\n",
       "      <th id=\"T_baca8_level0_row0\" class=\"row_heading level0 row0\" >29</th>\n",
       "      <td id=\"T_baca8_row0_col0\" class=\"data row0 col0\" >10.38</td>\n",
       "      <td id=\"T_baca8_row0_col1\" class=\"data row0 col1\" >2.78</td>\n",
       "      <td id=\"T_baca8_row0_col2\" class=\"data row0 col2\" >0.918777</td>\n",
       "      <td id=\"T_baca8_row0_col3\" class=\"data row0 col3\" >0.956998</td>\n",
       "      <td id=\"T_baca8_row0_col4\" class=\"data row0 col4\" >0.937472</td>\n",
       "      <td id=\"T_baca8_row0_col5\" class=\"data row0 col5\" >0.938758</td>\n",
       "      <td id=\"T_baca8_row0_col6\" class=\"data row0 col6\" >0.981549</td>\n",
       "      <td id=\"T_baca8_row0_col7\" class=\"data row0 col7\" >1.777705</td>\n",
       "      <td id=\"T_baca8_row0_col8\" class=\"data row0 col8\" >sigmoid</td>\n",
       "      <td id=\"T_baca8_row0_col9\" class=\"data row0 col9\" >hinge</td>\n",
       "      <td id=\"T_baca8_row0_col10\" class=\"data row0 col10\" >False</td>\n",
       "      <td id=\"T_baca8_row0_col11\" class=\"data row0 col11\" >5</td>\n",
       "      <td id=\"T_baca8_row0_col12\" class=\"data row0 col12\" >2</td>\n",
       "      <td id=\"T_baca8_row0_col13\" class=\"data row0 col13\" >0.000013</td>\n",
       "      <td id=\"T_baca8_row0_col14\" class=\"data row0 col14\" >False</td>\n",
       "      <td id=\"T_baca8_row0_col15\" class=\"data row0 col15\" >COMPLETE</td>\n",
       "    </tr>\n",
       "    <tr>\n",
       "      <th id=\"T_baca8_level0_row1\" class=\"row_heading level0 row1\" >49</th>\n",
       "      <td id=\"T_baca8_row1_col0\" class=\"data row1 col0\" >8.67</td>\n",
       "      <td id=\"T_baca8_row1_col1\" class=\"data row1 col1\" >0.99</td>\n",
       "      <td id=\"T_baca8_row1_col2\" class=\"data row1 col2\" >0.917210</td>\n",
       "      <td id=\"T_baca8_row1_col3\" class=\"data row1 col3\" >0.958234</td>\n",
       "      <td id=\"T_baca8_row1_col4\" class=\"data row1 col4\" >0.937241</td>\n",
       "      <td id=\"T_baca8_row1_col5\" class=\"data row1 col5\" >0.938627</td>\n",
       "      <td id=\"T_baca8_row1_col6\" class=\"data row1 col6\" >0.981778</td>\n",
       "      <td id=\"T_baca8_row1_col7\" class=\"data row1 col7\" >9.517286</td>\n",
       "      <td id=\"T_baca8_row1_col8\" class=\"data row1 col8\" >sigmoid</td>\n",
       "      <td id=\"T_baca8_row1_col9\" class=\"data row1 col9\" >hinge</td>\n",
       "      <td id=\"T_baca8_row1_col10\" class=\"data row1 col10\" >False</td>\n",
       "      <td id=\"T_baca8_row1_col11\" class=\"data row1 col11\" >5</td>\n",
       "      <td id=\"T_baca8_row1_col12\" class=\"data row1 col12\" >2</td>\n",
       "      <td id=\"T_baca8_row1_col13\" class=\"data row1 col13\" >0.000017</td>\n",
       "      <td id=\"T_baca8_row1_col14\" class=\"data row1 col14\" >False</td>\n",
       "      <td id=\"T_baca8_row1_col15\" class=\"data row1 col15\" >COMPLETE</td>\n",
       "    </tr>\n",
       "    <tr>\n",
       "      <th id=\"T_baca8_level0_row2\" class=\"row_heading level0 row2\" >31</th>\n",
       "      <td id=\"T_baca8_row2_col0\" class=\"data row2 col0\" >8.34</td>\n",
       "      <td id=\"T_baca8_row2_col1\" class=\"data row2 col1\" >2.86</td>\n",
       "      <td id=\"T_baca8_row2_col2\" class=\"data row2 col2\" >0.917733</td>\n",
       "      <td id=\"T_baca8_row2_col3\" class=\"data row2 col3\" >0.955158</td>\n",
       "      <td id=\"T_baca8_row2_col4\" class=\"data row2 col4\" >0.936028</td>\n",
       "      <td id=\"T_baca8_row2_col5\" class=\"data row2 col5\" >0.937322</td>\n",
       "      <td id=\"T_baca8_row2_col6\" class=\"data row2 col6\" >0.981001</td>\n",
       "      <td id=\"T_baca8_row2_col7\" class=\"data row2 col7\" >2.253035</td>\n",
       "      <td id=\"T_baca8_row2_col8\" class=\"data row2 col8\" >sigmoid</td>\n",
       "      <td id=\"T_baca8_row2_col9\" class=\"data row2 col9\" >squared_hinge</td>\n",
       "      <td id=\"T_baca8_row2_col10\" class=\"data row2 col10\" >False</td>\n",
       "      <td id=\"T_baca8_row2_col11\" class=\"data row2 col11\" >5</td>\n",
       "      <td id=\"T_baca8_row2_col12\" class=\"data row2 col12\" >2</td>\n",
       "      <td id=\"T_baca8_row2_col13\" class=\"data row2 col13\" >0.000026</td>\n",
       "      <td id=\"T_baca8_row2_col14\" class=\"data row2 col14\" >False</td>\n",
       "      <td id=\"T_baca8_row2_col15\" class=\"data row2 col15\" >COMPLETE</td>\n",
       "    </tr>\n",
       "    <tr>\n",
       "      <th id=\"T_baca8_level0_row3\" class=\"row_heading level0 row3\" >30</th>\n",
       "      <td id=\"T_baca8_row3_col0\" class=\"data row3 col0\" >8.31</td>\n",
       "      <td id=\"T_baca8_row3_col1\" class=\"data row3 col1\" >2.80</td>\n",
       "      <td id=\"T_baca8_row3_col2\" class=\"data row3 col2\" >0.917211</td>\n",
       "      <td id=\"T_baca8_row3_col3\" class=\"data row3 col3\" >0.954884</td>\n",
       "      <td id=\"T_baca8_row3_col4\" class=\"data row3 col4\" >0.935618</td>\n",
       "      <td id=\"T_baca8_row3_col5\" class=\"data row3 col5\" >0.936930</td>\n",
       "      <td id=\"T_baca8_row3_col6\" class=\"data row3 col6\" >0.980809</td>\n",
       "      <td id=\"T_baca8_row3_col7\" class=\"data row3 col7\" >1.870928</td>\n",
       "      <td id=\"T_baca8_row3_col8\" class=\"data row3 col8\" >sigmoid</td>\n",
       "      <td id=\"T_baca8_row3_col9\" class=\"data row3 col9\" >squared_hinge</td>\n",
       "      <td id=\"T_baca8_row3_col10\" class=\"data row3 col10\" >False</td>\n",
       "      <td id=\"T_baca8_row3_col11\" class=\"data row3 col11\" >5</td>\n",
       "      <td id=\"T_baca8_row3_col12\" class=\"data row3 col12\" >2</td>\n",
       "      <td id=\"T_baca8_row3_col13\" class=\"data row3 col13\" >0.000027</td>\n",
       "      <td id=\"T_baca8_row3_col14\" class=\"data row3 col14\" >False</td>\n",
       "      <td id=\"T_baca8_row3_col15\" class=\"data row3 col15\" >COMPLETE</td>\n",
       "    </tr>\n",
       "    <tr>\n",
       "      <th id=\"T_baca8_level0_row4\" class=\"row_heading level0 row4\" >46</th>\n",
       "      <td id=\"T_baca8_row4_col0\" class=\"data row4 col0\" >7.91</td>\n",
       "      <td id=\"T_baca8_row4_col1\" class=\"data row4 col1\" >3.87</td>\n",
       "      <td id=\"T_baca8_row4_col2\" class=\"data row4 col2\" >0.917211</td>\n",
       "      <td id=\"T_baca8_row4_col3\" class=\"data row4 col3\" >0.954367</td>\n",
       "      <td id=\"T_baca8_row4_col4\" class=\"data row4 col4\" >0.935370</td>\n",
       "      <td id=\"T_baca8_row4_col5\" class=\"data row4 col5\" >0.936669</td>\n",
       "      <td id=\"T_baca8_row4_col6\" class=\"data row4 col6\" >0.980739</td>\n",
       "      <td id=\"T_baca8_row4_col7\" class=\"data row4 col7\" >1.774359</td>\n",
       "      <td id=\"T_baca8_row4_col8\" class=\"data row4 col8\" >sigmoid</td>\n",
       "      <td id=\"T_baca8_row4_col9\" class=\"data row4 col9\" >squared_hinge</td>\n",
       "      <td id=\"T_baca8_row4_col10\" class=\"data row4 col10\" >False</td>\n",
       "      <td id=\"T_baca8_row4_col11\" class=\"data row4 col11\" >5</td>\n",
       "      <td id=\"T_baca8_row4_col12\" class=\"data row4 col12\" >2</td>\n",
       "      <td id=\"T_baca8_row4_col13\" class=\"data row4 col13\" >0.000018</td>\n",
       "      <td id=\"T_baca8_row4_col14\" class=\"data row4 col14\" >False</td>\n",
       "      <td id=\"T_baca8_row4_col15\" class=\"data row4 col15\" >COMPLETE</td>\n",
       "    </tr>\n",
       "    <tr>\n",
       "      <th id=\"T_baca8_level0_row5\" class=\"row_heading level0 row5\" >16</th>\n",
       "      <td id=\"T_baca8_row5_col0\" class=\"data row5 col0\" >10.02</td>\n",
       "      <td id=\"T_baca8_row5_col1\" class=\"data row5 col1\" >3.72</td>\n",
       "      <td id=\"T_baca8_row5_col2\" class=\"data row5 col2\" >0.910159</td>\n",
       "      <td id=\"T_baca8_row5_col3\" class=\"data row5 col3\" >0.961373</td>\n",
       "      <td id=\"T_baca8_row5_col4\" class=\"data row5 col4\" >0.935001</td>\n",
       "      <td id=\"T_baca8_row5_col5\" class=\"data row5 col5\" >0.936800</td>\n",
       "      <td id=\"T_baca8_row5_col6\" class=\"data row5 col6\" >0.980104</td>\n",
       "      <td id=\"T_baca8_row5_col7\" class=\"data row5 col7\" >4.519272</td>\n",
       "      <td id=\"T_baca8_row5_col8\" class=\"data row5 col8\" >sigmoid</td>\n",
       "      <td id=\"T_baca8_row5_col9\" class=\"data row5 col9\" >hinge</td>\n",
       "      <td id=\"T_baca8_row5_col10\" class=\"data row5 col10\" >False</td>\n",
       "      <td id=\"T_baca8_row5_col11\" class=\"data row5 col11\" >4</td>\n",
       "      <td id=\"T_baca8_row5_col12\" class=\"data row5 col12\" >3</td>\n",
       "      <td id=\"T_baca8_row5_col13\" class=\"data row5 col13\" >0.043806</td>\n",
       "      <td id=\"T_baca8_row5_col14\" class=\"data row5 col14\" >False</td>\n",
       "      <td id=\"T_baca8_row5_col15\" class=\"data row5 col15\" >COMPLETE</td>\n",
       "    </tr>\n",
       "    <tr>\n",
       "      <th id=\"T_baca8_level0_row6\" class=\"row_heading level0 row6\" >17</th>\n",
       "      <td id=\"T_baca8_row6_col0\" class=\"data row6 col0\" >9.70</td>\n",
       "      <td id=\"T_baca8_row6_col1\" class=\"data row6 col1\" >3.75</td>\n",
       "      <td id=\"T_baca8_row6_col2\" class=\"data row6 col2\" >0.910159</td>\n",
       "      <td id=\"T_baca8_row6_col3\" class=\"data row6 col3\" >0.961105</td>\n",
       "      <td id=\"T_baca8_row6_col4\" class=\"data row6 col4\" >0.934876</td>\n",
       "      <td id=\"T_baca8_row6_col5\" class=\"data row6 col5\" >0.936669</td>\n",
       "      <td id=\"T_baca8_row6_col6\" class=\"data row6 col6\" >0.980108</td>\n",
       "      <td id=\"T_baca8_row6_col7\" class=\"data row6 col7\" >5.481265</td>\n",
       "      <td id=\"T_baca8_row6_col8\" class=\"data row6 col8\" >sigmoid</td>\n",
       "      <td id=\"T_baca8_row6_col9\" class=\"data row6 col9\" >hinge</td>\n",
       "      <td id=\"T_baca8_row6_col10\" class=\"data row6 col10\" >False</td>\n",
       "      <td id=\"T_baca8_row6_col11\" class=\"data row6 col11\" >4</td>\n",
       "      <td id=\"T_baca8_row6_col12\" class=\"data row6 col12\" >3</td>\n",
       "      <td id=\"T_baca8_row6_col13\" class=\"data row6 col13\" >0.075260</td>\n",
       "      <td id=\"T_baca8_row6_col14\" class=\"data row6 col14\" >False</td>\n",
       "      <td id=\"T_baca8_row6_col15\" class=\"data row6 col15\" >COMPLETE</td>\n",
       "    </tr>\n",
       "    <tr>\n",
       "      <th id=\"T_baca8_level0_row7\" class=\"row_heading level0 row7\" >47</th>\n",
       "      <td id=\"T_baca8_row7_col0\" class=\"data row7 col0\" >9.44</td>\n",
       "      <td id=\"T_baca8_row7_col1\" class=\"data row7 col1\" >2.43</td>\n",
       "      <td id=\"T_baca8_row7_col2\" class=\"data row7 col2\" >0.916688</td>\n",
       "      <td id=\"T_baca8_row7_col3\" class=\"data row7 col3\" >0.953043</td>\n",
       "      <td id=\"T_baca8_row7_col4\" class=\"data row7 col4\" >0.934464</td>\n",
       "      <td id=\"T_baca8_row7_col5\" class=\"data row7 col5\" >0.935755</td>\n",
       "      <td id=\"T_baca8_row7_col6\" class=\"data row7 col6\" >0.980426</td>\n",
       "      <td id=\"T_baca8_row7_col7\" class=\"data row7 col7\" >1.402909</td>\n",
       "      <td id=\"T_baca8_row7_col8\" class=\"data row7 col8\" >sigmoid</td>\n",
       "      <td id=\"T_baca8_row7_col9\" class=\"data row7 col9\" >squared_hinge</td>\n",
       "      <td id=\"T_baca8_row7_col10\" class=\"data row7 col10\" >False</td>\n",
       "      <td id=\"T_baca8_row7_col11\" class=\"data row7 col11\" >5</td>\n",
       "      <td id=\"T_baca8_row7_col12\" class=\"data row7 col12\" >2</td>\n",
       "      <td id=\"T_baca8_row7_col13\" class=\"data row7 col13\" >0.000129</td>\n",
       "      <td id=\"T_baca8_row7_col14\" class=\"data row7 col14\" >False</td>\n",
       "      <td id=\"T_baca8_row7_col15\" class=\"data row7 col15\" >COMPLETE</td>\n",
       "    </tr>\n",
       "    <tr>\n",
       "      <th id=\"T_baca8_level0_row8\" class=\"row_heading level0 row8\" >14</th>\n",
       "      <td id=\"T_baca8_row8_col0\" class=\"data row8 col0\" >7.19</td>\n",
       "      <td id=\"T_baca8_row8_col1\" class=\"data row8 col1\" >2.08</td>\n",
       "      <td id=\"T_baca8_row8_col2\" class=\"data row8 col2\" >0.907286</td>\n",
       "      <td id=\"T_baca8_row8_col3\" class=\"data row8 col3\" >0.963374</td>\n",
       "      <td id=\"T_baca8_row8_col4\" class=\"data row8 col4\" >0.934430</td>\n",
       "      <td id=\"T_baca8_row8_col5\" class=\"data row8 col5\" >0.936408</td>\n",
       "      <td id=\"T_baca8_row8_col6\" class=\"data row8 col6\" >0.980288</td>\n",
       "      <td id=\"T_baca8_row8_col7\" class=\"data row8 col7\" >8.836121</td>\n",
       "      <td id=\"T_baca8_row8_col8\" class=\"data row8 col8\" >sigmoid</td>\n",
       "      <td id=\"T_baca8_row8_col9\" class=\"data row8 col9\" >hinge</td>\n",
       "      <td id=\"T_baca8_row8_col10\" class=\"data row8 col10\" >False</td>\n",
       "      <td id=\"T_baca8_row8_col11\" class=\"data row8 col11\" >5</td>\n",
       "      <td id=\"T_baca8_row8_col12\" class=\"data row8 col12\" >3</td>\n",
       "      <td id=\"T_baca8_row8_col13\" class=\"data row8 col13\" >0.099597</td>\n",
       "      <td id=\"T_baca8_row8_col14\" class=\"data row8 col14\" >False</td>\n",
       "      <td id=\"T_baca8_row8_col15\" class=\"data row8 col15\" >COMPLETE</td>\n",
       "    </tr>\n",
       "    <tr>\n",
       "      <th id=\"T_baca8_level0_row9\" class=\"row_heading level0 row9\" >15</th>\n",
       "      <td id=\"T_baca8_row9_col0\" class=\"data row9 col0\" >7.09</td>\n",
       "      <td id=\"T_baca8_row9_col1\" class=\"data row9 col1\" >2.37</td>\n",
       "      <td id=\"T_baca8_row9_col2\" class=\"data row9 col2\" >0.907286</td>\n",
       "      <td id=\"T_baca8_row9_col3\" class=\"data row9 col3\" >0.963374</td>\n",
       "      <td id=\"T_baca8_row9_col4\" class=\"data row9 col4\" >0.934430</td>\n",
       "      <td id=\"T_baca8_row9_col5\" class=\"data row9 col5\" >0.936408</td>\n",
       "      <td id=\"T_baca8_row9_col6\" class=\"data row9 col6\" >0.980287</td>\n",
       "      <td id=\"T_baca8_row9_col7\" class=\"data row9 col7\" >4.094959</td>\n",
       "      <td id=\"T_baca8_row9_col8\" class=\"data row9 col8\" >sigmoid</td>\n",
       "      <td id=\"T_baca8_row9_col9\" class=\"data row9 col9\" >hinge</td>\n",
       "      <td id=\"T_baca8_row9_col10\" class=\"data row9 col10\" >False</td>\n",
       "      <td id=\"T_baca8_row9_col11\" class=\"data row9 col11\" >5</td>\n",
       "      <td id=\"T_baca8_row9_col12\" class=\"data row9 col12\" >3</td>\n",
       "      <td id=\"T_baca8_row9_col13\" class=\"data row9 col13\" >0.081921</td>\n",
       "      <td id=\"T_baca8_row9_col14\" class=\"data row9 col14\" >False</td>\n",
       "      <td id=\"T_baca8_row9_col15\" class=\"data row9 col15\" >COMPLETE</td>\n",
       "    </tr>\n",
       "    <tr>\n",
       "      <th id=\"T_baca8_level0_row10\" class=\"row_heading level0 row10\" >10</th>\n",
       "      <td id=\"T_baca8_row10_col0\" class=\"data row10 col0\" >13.91</td>\n",
       "      <td id=\"T_baca8_row10_col1\" class=\"data row10 col1\" >2.68</td>\n",
       "      <td id=\"T_baca8_row10_col2\" class=\"data row10 col2\" >0.907025</td>\n",
       "      <td id=\"T_baca8_row10_col3\" class=\"data row10 col3\" >0.963364</td>\n",
       "      <td id=\"T_baca8_row10_col4\" class=\"data row10 col4\" >0.934287</td>\n",
       "      <td id=\"T_baca8_row10_col5\" class=\"data row10 col5\" >0.936277</td>\n",
       "      <td id=\"T_baca8_row10_col6\" class=\"data row10 col6\" >0.980288</td>\n",
       "      <td id=\"T_baca8_row10_col7\" class=\"data row10 col7\" >7.477434</td>\n",
       "      <td id=\"T_baca8_row10_col8\" class=\"data row10 col8\" >sigmoid</td>\n",
       "      <td id=\"T_baca8_row10_col9\" class=\"data row10 col9\" >hinge</td>\n",
       "      <td id=\"T_baca8_row10_col10\" class=\"data row10 col10\" >False</td>\n",
       "      <td id=\"T_baca8_row10_col11\" class=\"data row10 col11\" >5</td>\n",
       "      <td id=\"T_baca8_row10_col12\" class=\"data row10 col12\" >3</td>\n",
       "      <td id=\"T_baca8_row10_col13\" class=\"data row10 col13\" >0.000010</td>\n",
       "      <td id=\"T_baca8_row10_col14\" class=\"data row10 col14\" >False</td>\n",
       "      <td id=\"T_baca8_row10_col15\" class=\"data row10 col15\" >COMPLETE</td>\n",
       "    </tr>\n",
       "    <tr>\n",
       "      <th id=\"T_baca8_level0_row11\" class=\"row_heading level0 row11\" >11</th>\n",
       "      <td id=\"T_baca8_row11_col0\" class=\"data row11 col0\" >13.19</td>\n",
       "      <td id=\"T_baca8_row11_col1\" class=\"data row11 col1\" >3.21</td>\n",
       "      <td id=\"T_baca8_row11_col2\" class=\"data row11 col2\" >0.907025</td>\n",
       "      <td id=\"T_baca8_row11_col3\" class=\"data row11 col3\" >0.963364</td>\n",
       "      <td id=\"T_baca8_row11_col4\" class=\"data row11 col4\" >0.934287</td>\n",
       "      <td id=\"T_baca8_row11_col5\" class=\"data row11 col5\" >0.936277</td>\n",
       "      <td id=\"T_baca8_row11_col6\" class=\"data row11 col6\" >0.980288</td>\n",
       "      <td id=\"T_baca8_row11_col7\" class=\"data row11 col7\" >8.076568</td>\n",
       "      <td id=\"T_baca8_row11_col8\" class=\"data row11 col8\" >sigmoid</td>\n",
       "      <td id=\"T_baca8_row11_col9\" class=\"data row11 col9\" >hinge</td>\n",
       "      <td id=\"T_baca8_row11_col10\" class=\"data row11 col10\" >False</td>\n",
       "      <td id=\"T_baca8_row11_col11\" class=\"data row11 col11\" >5</td>\n",
       "      <td id=\"T_baca8_row11_col12\" class=\"data row11 col12\" >3</td>\n",
       "      <td id=\"T_baca8_row11_col13\" class=\"data row11 col13\" >0.000024</td>\n",
       "      <td id=\"T_baca8_row11_col14\" class=\"data row11 col14\" >False</td>\n",
       "      <td id=\"T_baca8_row11_col15\" class=\"data row11 col15\" >COMPLETE</td>\n",
       "    </tr>\n",
       "    <tr>\n",
       "      <th id=\"T_baca8_level0_row12\" class=\"row_heading level0 row12\" >13</th>\n",
       "      <td id=\"T_baca8_row12_col0\" class=\"data row12 col0\" >15.03</td>\n",
       "      <td id=\"T_baca8_row12_col1\" class=\"data row12 col1\" >3.29</td>\n",
       "      <td id=\"T_baca8_row12_col2\" class=\"data row12 col2\" >0.907025</td>\n",
       "      <td id=\"T_baca8_row12_col3\" class=\"data row12 col3\" >0.963364</td>\n",
       "      <td id=\"T_baca8_row12_col4\" class=\"data row12 col4\" >0.934287</td>\n",
       "      <td id=\"T_baca8_row12_col5\" class=\"data row12 col5\" >0.936277</td>\n",
       "      <td id=\"T_baca8_row12_col6\" class=\"data row12 col6\" >0.980288</td>\n",
       "      <td id=\"T_baca8_row12_col7\" class=\"data row12 col7\" >5.252542</td>\n",
       "      <td id=\"T_baca8_row12_col8\" class=\"data row12 col8\" >sigmoid</td>\n",
       "      <td id=\"T_baca8_row12_col9\" class=\"data row12 col9\" >hinge</td>\n",
       "      <td id=\"T_baca8_row12_col10\" class=\"data row12 col10\" >False</td>\n",
       "      <td id=\"T_baca8_row12_col11\" class=\"data row12 col11\" >5</td>\n",
       "      <td id=\"T_baca8_row12_col12\" class=\"data row12 col12\" >3</td>\n",
       "      <td id=\"T_baca8_row12_col13\" class=\"data row12 col13\" >0.000011</td>\n",
       "      <td id=\"T_baca8_row12_col14\" class=\"data row12 col14\" >False</td>\n",
       "      <td id=\"T_baca8_row12_col15\" class=\"data row12 col15\" >COMPLETE</td>\n",
       "    </tr>\n",
       "    <tr>\n",
       "      <th id=\"T_baca8_level0_row13\" class=\"row_heading level0 row13\" >27</th>\n",
       "      <td id=\"T_baca8_row13_col0\" class=\"data row13 col0\" >11.07</td>\n",
       "      <td id=\"T_baca8_row13_col1\" class=\"data row13 col1\" >1.97</td>\n",
       "      <td id=\"T_baca8_row13_col2\" class=\"data row13 col2\" >0.917472</td>\n",
       "      <td id=\"T_baca8_row13_col3\" class=\"data row13 col3\" >0.951529</td>\n",
       "      <td id=\"T_baca8_row13_col4\" class=\"data row13 col4\" >0.934134</td>\n",
       "      <td id=\"T_baca8_row13_col5\" class=\"data row13 col5\" >0.935363</td>\n",
       "      <td id=\"T_baca8_row13_col6\" class=\"data row13 col6\" >0.980756</td>\n",
       "      <td id=\"T_baca8_row13_col7\" class=\"data row13 col7\" >1.191898</td>\n",
       "      <td id=\"T_baca8_row13_col8\" class=\"data row13 col8\" >sigmoid</td>\n",
       "      <td id=\"T_baca8_row13_col9\" class=\"data row13 col9\" >hinge</td>\n",
       "      <td id=\"T_baca8_row13_col10\" class=\"data row13 col10\" >False</td>\n",
       "      <td id=\"T_baca8_row13_col11\" class=\"data row13 col11\" >5</td>\n",
       "      <td id=\"T_baca8_row13_col12\" class=\"data row13 col12\" >2</td>\n",
       "      <td id=\"T_baca8_row13_col13\" class=\"data row13 col13\" >0.000011</td>\n",
       "      <td id=\"T_baca8_row13_col14\" class=\"data row13 col14\" >False</td>\n",
       "      <td id=\"T_baca8_row13_col15\" class=\"data row13 col15\" >COMPLETE</td>\n",
       "    </tr>\n",
       "    <tr>\n",
       "      <th id=\"T_baca8_level0_row14\" class=\"row_heading level0 row14\" >12</th>\n",
       "      <td id=\"T_baca8_row14_col0\" class=\"data row14 col0\" >14.04</td>\n",
       "      <td id=\"T_baca8_row14_col1\" class=\"data row14 col1\" >2.33</td>\n",
       "      <td id=\"T_baca8_row14_col2\" class=\"data row14 col2\" >0.906503</td>\n",
       "      <td id=\"T_baca8_row14_col3\" class=\"data row14 col3\" >0.963607</td>\n",
       "      <td id=\"T_baca8_row14_col4\" class=\"data row14 col4\" >0.934121</td>\n",
       "      <td id=\"T_baca8_row14_col5\" class=\"data row14 col5\" >0.936147</td>\n",
       "      <td id=\"T_baca8_row14_col6\" class=\"data row14 col6\" >0.980290</td>\n",
       "      <td id=\"T_baca8_row14_col7\" class=\"data row14 col7\" >2.430286</td>\n",
       "      <td id=\"T_baca8_row14_col8\" class=\"data row14 col8\" >sigmoid</td>\n",
       "      <td id=\"T_baca8_row14_col9\" class=\"data row14 col9\" >hinge</td>\n",
       "      <td id=\"T_baca8_row14_col10\" class=\"data row14 col10\" >False</td>\n",
       "      <td id=\"T_baca8_row14_col11\" class=\"data row14 col11\" >5</td>\n",
       "      <td id=\"T_baca8_row14_col12\" class=\"data row14 col12\" >3</td>\n",
       "      <td id=\"T_baca8_row14_col13\" class=\"data row14 col13\" >0.000014</td>\n",
       "      <td id=\"T_baca8_row14_col14\" class=\"data row14 col14\" >False</td>\n",
       "      <td id=\"T_baca8_row14_col15\" class=\"data row14 col15\" >COMPLETE</td>\n",
       "    </tr>\n",
       "    <tr>\n",
       "      <th id=\"T_baca8_level0_row15\" class=\"row_heading level0 row15\" >28</th>\n",
       "      <td id=\"T_baca8_row15_col0\" class=\"data row15 col0\" >9.95</td>\n",
       "      <td id=\"T_baca8_row15_col1\" class=\"data row15 col1\" >1.66</td>\n",
       "      <td id=\"T_baca8_row15_col2\" class=\"data row15 col2\" >0.916427</td>\n",
       "      <td id=\"T_baca8_row15_col3\" class=\"data row15 col3\" >0.950715</td>\n",
       "      <td id=\"T_baca8_row15_col4\" class=\"data row15 col4\" >0.933202</td>\n",
       "      <td id=\"T_baca8_row15_col5\" class=\"data row15 col5\" >0.934449</td>\n",
       "      <td id=\"T_baca8_row15_col6\" class=\"data row15 col6\" >0.980523</td>\n",
       "      <td id=\"T_baca8_row15_col7\" class=\"data row15 col7\" >1.112765</td>\n",
       "      <td id=\"T_baca8_row15_col8\" class=\"data row15 col8\" >sigmoid</td>\n",
       "      <td id=\"T_baca8_row15_col9\" class=\"data row15 col9\" >hinge</td>\n",
       "      <td id=\"T_baca8_row15_col10\" class=\"data row15 col10\" >False</td>\n",
       "      <td id=\"T_baca8_row15_col11\" class=\"data row15 col11\" >5</td>\n",
       "      <td id=\"T_baca8_row15_col12\" class=\"data row15 col12\" >2</td>\n",
       "      <td id=\"T_baca8_row15_col13\" class=\"data row15 col13\" >0.000019</td>\n",
       "      <td id=\"T_baca8_row15_col14\" class=\"data row15 col14\" >False</td>\n",
       "      <td id=\"T_baca8_row15_col15\" class=\"data row15 col15\" >COMPLETE</td>\n",
       "    </tr>\n",
       "    <tr>\n",
       "      <th id=\"T_baca8_level0_row16\" class=\"row_heading level0 row16\" >40</th>\n",
       "      <td id=\"T_baca8_row16_col0\" class=\"data row16 col0\" >5.87</td>\n",
       "      <td id=\"T_baca8_row16_col1\" class=\"data row16 col1\" >2.53</td>\n",
       "      <td id=\"T_baca8_row16_col2\" class=\"data row16 col2\" >0.898928</td>\n",
       "      <td id=\"T_baca8_row16_col3\" class=\"data row16 col3\" >0.969147</td>\n",
       "      <td id=\"T_baca8_row16_col4\" class=\"data row16 col4\" >0.932611</td>\n",
       "      <td id=\"T_baca8_row16_col5\" class=\"data row16 col5\" >0.935102</td>\n",
       "      <td id=\"T_baca8_row16_col6\" class=\"data row16 col6\" >0.976659</td>\n",
       "      <td id=\"T_baca8_row16_col7\" class=\"data row16 col7\" >2.133653</td>\n",
       "      <td id=\"T_baca8_row16_col8\" class=\"data row16 col8\" >isotonic</td>\n",
       "      <td id=\"T_baca8_row16_col9\" class=\"data row16 col9\" >squared_hinge</td>\n",
       "      <td id=\"T_baca8_row16_col10\" class=\"data row16 col10\" >True</td>\n",
       "      <td id=\"T_baca8_row16_col11\" class=\"data row16 col11\" >4</td>\n",
       "      <td id=\"T_baca8_row16_col12\" class=\"data row16 col12\" >1</td>\n",
       "      <td id=\"T_baca8_row16_col13\" class=\"data row16 col13\" >0.000049</td>\n",
       "      <td id=\"T_baca8_row16_col14\" class=\"data row16 col14\" >True</td>\n",
       "      <td id=\"T_baca8_row16_col15\" class=\"data row16 col15\" >COMPLETE</td>\n",
       "    </tr>\n",
       "    <tr>\n",
       "      <th id=\"T_baca8_level0_row17\" class=\"row_heading level0 row17\" >45</th>\n",
       "      <td id=\"T_baca8_row17_col0\" class=\"data row17 col0\" >9.70</td>\n",
       "      <td id=\"T_baca8_row17_col1\" class=\"data row17 col1\" >2.90</td>\n",
       "      <td id=\"T_baca8_row17_col2\" class=\"data row17 col2\" >0.904936</td>\n",
       "      <td id=\"T_baca8_row17_col3\" class=\"data row17 col3\" >0.961216</td>\n",
       "      <td id=\"T_baca8_row17_col4\" class=\"data row17 col4\" >0.932172</td>\n",
       "      <td id=\"T_baca8_row17_col5\" class=\"data row17 col5\" >0.934188</td>\n",
       "      <td id=\"T_baca8_row17_col6\" class=\"data row17 col6\" >0.980376</td>\n",
       "      <td id=\"T_baca8_row17_col7\" class=\"data row17 col7\" >1.799090</td>\n",
       "      <td id=\"T_baca8_row17_col8\" class=\"data row17 col8\" >isotonic</td>\n",
       "      <td id=\"T_baca8_row17_col9\" class=\"data row17 col9\" >squared_hinge</td>\n",
       "      <td id=\"T_baca8_row17_col10\" class=\"data row17 col10\" >False</td>\n",
       "      <td id=\"T_baca8_row17_col11\" class=\"data row17 col11\" >5</td>\n",
       "      <td id=\"T_baca8_row17_col12\" class=\"data row17 col12\" >2</td>\n",
       "      <td id=\"T_baca8_row17_col13\" class=\"data row17 col13\" >0.000016</td>\n",
       "      <td id=\"T_baca8_row17_col14\" class=\"data row17 col14\" >False</td>\n",
       "      <td id=\"T_baca8_row17_col15\" class=\"data row17 col15\" >COMPLETE</td>\n",
       "    </tr>\n",
       "    <tr>\n",
       "      <th id=\"T_baca8_level0_row18\" class=\"row_heading level0 row18\" >42</th>\n",
       "      <td id=\"T_baca8_row18_col0\" class=\"data row18 col0\" >6.08</td>\n",
       "      <td id=\"T_baca8_row18_col1\" class=\"data row18 col1\" >3.39</td>\n",
       "      <td id=\"T_baca8_row18_col2\" class=\"data row18 col2\" >0.895792</td>\n",
       "      <td id=\"T_baca8_row18_col3\" class=\"data row18 col3\" >0.967390</td>\n",
       "      <td id=\"T_baca8_row18_col4\" class=\"data row18 col4\" >0.930149</td>\n",
       "      <td id=\"T_baca8_row18_col5\" class=\"data row18 col5\" >0.932751</td>\n",
       "      <td id=\"T_baca8_row18_col6\" class=\"data row18 col6\" >0.975045</td>\n",
       "      <td id=\"T_baca8_row18_col7\" class=\"data row18 col7\" >1.615831</td>\n",
       "      <td id=\"T_baca8_row18_col8\" class=\"data row18 col8\" >isotonic</td>\n",
       "      <td id=\"T_baca8_row18_col9\" class=\"data row18 col9\" >squared_hinge</td>\n",
       "      <td id=\"T_baca8_row18_col10\" class=\"data row18 col10\" >False</td>\n",
       "      <td id=\"T_baca8_row18_col11\" class=\"data row18 col11\" >4</td>\n",
       "      <td id=\"T_baca8_row18_col12\" class=\"data row18 col12\" >1</td>\n",
       "      <td id=\"T_baca8_row18_col13\" class=\"data row18 col13\" >0.000061</td>\n",
       "      <td id=\"T_baca8_row18_col14\" class=\"data row18 col14\" >True</td>\n",
       "      <td id=\"T_baca8_row18_col15\" class=\"data row18 col15\" >COMPLETE</td>\n",
       "    </tr>\n",
       "    <tr>\n",
       "      <th id=\"T_baca8_level0_row19\" class=\"row_heading level0 row19\" >41</th>\n",
       "      <td id=\"T_baca8_row19_col0\" class=\"data row19 col0\" >6.78</td>\n",
       "      <td id=\"T_baca8_row19_col1\" class=\"data row19 col1\" >3.52</td>\n",
       "      <td id=\"T_baca8_row19_col2\" class=\"data row19 col2\" >0.895270</td>\n",
       "      <td id=\"T_baca8_row19_col3\" class=\"data row19 col3\" >0.967910</td>\n",
       "      <td id=\"T_baca8_row19_col4\" class=\"data row19 col4\" >0.930110</td>\n",
       "      <td id=\"T_baca8_row19_col5\" class=\"data row19 col5\" >0.932751</td>\n",
       "      <td id=\"T_baca8_row19_col6\" class=\"data row19 col6\" >0.975107</td>\n",
       "      <td id=\"T_baca8_row19_col7\" class=\"data row19 col7\" >1.754668</td>\n",
       "      <td id=\"T_baca8_row19_col8\" class=\"data row19 col8\" >isotonic</td>\n",
       "      <td id=\"T_baca8_row19_col9\" class=\"data row19 col9\" >squared_hinge</td>\n",
       "      <td id=\"T_baca8_row19_col10\" class=\"data row19 col10\" >False</td>\n",
       "      <td id=\"T_baca8_row19_col11\" class=\"data row19 col11\" >4</td>\n",
       "      <td id=\"T_baca8_row19_col12\" class=\"data row19 col12\" >1</td>\n",
       "      <td id=\"T_baca8_row19_col13\" class=\"data row19 col13\" >0.000056</td>\n",
       "      <td id=\"T_baca8_row19_col14\" class=\"data row19 col14\" >True</td>\n",
       "      <td id=\"T_baca8_row19_col15\" class=\"data row19 col15\" >COMPLETE</td>\n",
       "    </tr>\n",
       "    <tr>\n",
       "      <th id=\"T_baca8_level0_row20\" class=\"row_heading level0 row20\" >43</th>\n",
       "      <td id=\"T_baca8_row20_col0\" class=\"data row20 col0\" >9.33</td>\n",
       "      <td id=\"T_baca8_row20_col1\" class=\"data row20 col1\" >4.02</td>\n",
       "      <td id=\"T_baca8_row20_col2\" class=\"data row20 col2\" >0.890048</td>\n",
       "      <td id=\"T_baca8_row20_col3\" class=\"data row20 col3\" >0.969032</td>\n",
       "      <td id=\"T_baca8_row20_col4\" class=\"data row20 col4\" >0.927839</td>\n",
       "      <td id=\"T_baca8_row20_col5\" class=\"data row20 col5\" >0.930792</td>\n",
       "      <td id=\"T_baca8_row20_col6\" class=\"data row20 col6\" >0.975106</td>\n",
       "      <td id=\"T_baca8_row20_col7\" class=\"data row20 col7\" >2.372329</td>\n",
       "      <td id=\"T_baca8_row20_col8\" class=\"data row20 col8\" >isotonic</td>\n",
       "      <td id=\"T_baca8_row20_col9\" class=\"data row20 col9\" >squared_hinge</td>\n",
       "      <td id=\"T_baca8_row20_col10\" class=\"data row20 col10\" >False</td>\n",
       "      <td id=\"T_baca8_row20_col11\" class=\"data row20 col11\" >5</td>\n",
       "      <td id=\"T_baca8_row20_col12\" class=\"data row20 col12\" >1</td>\n",
       "      <td id=\"T_baca8_row20_col13\" class=\"data row20 col13\" >0.000061</td>\n",
       "      <td id=\"T_baca8_row20_col14\" class=\"data row20 col14\" >True</td>\n",
       "      <td id=\"T_baca8_row20_col15\" class=\"data row20 col15\" >COMPLETE</td>\n",
       "    </tr>\n",
       "    <tr>\n",
       "      <th id=\"T_baca8_level0_row21\" class=\"row_heading level0 row21\" >38</th>\n",
       "      <td id=\"T_baca8_row21_col0\" class=\"data row21 col0\" >7.11</td>\n",
       "      <td id=\"T_baca8_row21_col1\" class=\"data row21 col1\" >3.53</td>\n",
       "      <td id=\"T_baca8_row21_col2\" class=\"data row21 col2\" >0.901542</td>\n",
       "      <td id=\"T_baca8_row21_col3\" class=\"data row21 col3\" >0.955842</td>\n",
       "      <td id=\"T_baca8_row21_col4\" class=\"data row21 col4\" >0.927785</td>\n",
       "      <td id=\"T_baca8_row21_col5\" class=\"data row21 col5\" >0.929879</td>\n",
       "      <td id=\"T_baca8_row21_col6\" class=\"data row21 col6\" >0.972403</td>\n",
       "      <td id=\"T_baca8_row21_col7\" class=\"data row21 col7\" >0.209996</td>\n",
       "      <td id=\"T_baca8_row21_col8\" class=\"data row21 col8\" >sigmoid</td>\n",
       "      <td id=\"T_baca8_row21_col9\" class=\"data row21 col9\" >squared_hinge</td>\n",
       "      <td id=\"T_baca8_row21_col10\" class=\"data row21 col10\" >True</td>\n",
       "      <td id=\"T_baca8_row21_col11\" class=\"data row21 col11\" >4</td>\n",
       "      <td id=\"T_baca8_row21_col12\" class=\"data row21 col12\" >2</td>\n",
       "      <td id=\"T_baca8_row21_col13\" class=\"data row21 col13\" >0.000041</td>\n",
       "      <td id=\"T_baca8_row21_col14\" class=\"data row21 col14\" >True</td>\n",
       "      <td id=\"T_baca8_row21_col15\" class=\"data row21 col15\" >COMPLETE</td>\n",
       "    </tr>\n",
       "    <tr>\n",
       "      <th id=\"T_baca8_level0_row22\" class=\"row_heading level0 row22\" >44</th>\n",
       "      <td id=\"T_baca8_row22_col0\" class=\"data row22 col0\" >9.50</td>\n",
       "      <td id=\"T_baca8_row22_col1\" class=\"data row22 col1\" >3.59</td>\n",
       "      <td id=\"T_baca8_row22_col2\" class=\"data row22 col2\" >0.889787</td>\n",
       "      <td id=\"T_baca8_row22_col3\" class=\"data row22 col3\" >0.969023</td>\n",
       "      <td id=\"T_baca8_row22_col4\" class=\"data row22 col4\" >0.927695</td>\n",
       "      <td id=\"T_baca8_row22_col5\" class=\"data row22 col5\" >0.930661</td>\n",
       "      <td id=\"T_baca8_row22_col6\" class=\"data row22 col6\" >0.975095</td>\n",
       "      <td id=\"T_baca8_row22_col7\" class=\"data row22 col7\" >2.325339</td>\n",
       "      <td id=\"T_baca8_row22_col8\" class=\"data row22 col8\" >isotonic</td>\n",
       "      <td id=\"T_baca8_row22_col9\" class=\"data row22 col9\" >squared_hinge</td>\n",
       "      <td id=\"T_baca8_row22_col10\" class=\"data row22 col10\" >False</td>\n",
       "      <td id=\"T_baca8_row22_col11\" class=\"data row22 col11\" >5</td>\n",
       "      <td id=\"T_baca8_row22_col12\" class=\"data row22 col12\" >1</td>\n",
       "      <td id=\"T_baca8_row22_col13\" class=\"data row22 col13\" >0.000126</td>\n",
       "      <td id=\"T_baca8_row22_col14\" class=\"data row22 col14\" >True</td>\n",
       "      <td id=\"T_baca8_row22_col15\" class=\"data row22 col15\" >COMPLETE</td>\n",
       "    </tr>\n",
       "    <tr>\n",
       "      <th id=\"T_baca8_level0_row23\" class=\"row_heading level0 row23\" >5</th>\n",
       "      <td id=\"T_baca8_row23_col0\" class=\"data row23 col0\" >8.93</td>\n",
       "      <td id=\"T_baca8_row23_col1\" class=\"data row23 col1\" >0.68</td>\n",
       "      <td id=\"T_baca8_row23_col2\" class=\"data row23 col2\" >0.881432</td>\n",
       "      <td id=\"T_baca8_row23_col3\" class=\"data row23 col3\" >0.975493</td>\n",
       "      <td id=\"T_baca8_row23_col4\" class=\"data row23 col4\" >0.925981</td>\n",
       "      <td id=\"T_baca8_row23_col5\" class=\"data row23 col5\" >0.929618</td>\n",
       "      <td id=\"T_baca8_row23_col6\" class=\"data row23 col6\" >0.974187</td>\n",
       "      <td id=\"T_baca8_row23_col7\" class=\"data row23 col7\" >0.806224</td>\n",
       "      <td id=\"T_baca8_row23_col8\" class=\"data row23 col8\" >isotonic</td>\n",
       "      <td id=\"T_baca8_row23_col9\" class=\"data row23 col9\" >hinge</td>\n",
       "      <td id=\"T_baca8_row23_col10\" class=\"data row23 col10\" >False</td>\n",
       "      <td id=\"T_baca8_row23_col11\" class=\"data row23 col11\" >5</td>\n",
       "      <td id=\"T_baca8_row23_col12\" class=\"data row23 col12\" >2</td>\n",
       "      <td id=\"T_baca8_row23_col13\" class=\"data row23 col13\" >0.000562</td>\n",
       "      <td id=\"T_baca8_row23_col14\" class=\"data row23 col14\" >True</td>\n",
       "      <td id=\"T_baca8_row23_col15\" class=\"data row23 col15\" >COMPLETE</td>\n",
       "    </tr>\n",
       "    <tr>\n",
       "      <th id=\"T_baca8_level0_row24\" class=\"row_heading level0 row24\" >25</th>\n",
       "      <td id=\"T_baca8_row24_col0\" class=\"data row24 col0\" >10.17</td>\n",
       "      <td id=\"T_baca8_row24_col1\" class=\"data row24 col1\" >3.04</td>\n",
       "      <td id=\"T_baca8_row24_col2\" class=\"data row24 col2\" >0.906242</td>\n",
       "      <td id=\"T_baca8_row24_col3\" class=\"data row24 col3\" >0.946122</td>\n",
       "      <td id=\"T_baca8_row24_col4\" class=\"data row24 col4\" >0.925650</td>\n",
       "      <td id=\"T_baca8_row24_col5\" class=\"data row24 col5\" >0.927267</td>\n",
       "      <td id=\"T_baca8_row24_col6\" class=\"data row24 col6\" >0.977101</td>\n",
       "      <td id=\"T_baca8_row24_col7\" class=\"data row24 col7\" >0.769212</td>\n",
       "      <td id=\"T_baca8_row24_col8\" class=\"data row24 col8\" >sigmoid</td>\n",
       "      <td id=\"T_baca8_row24_col9\" class=\"data row24 col9\" >hinge</td>\n",
       "      <td id=\"T_baca8_row24_col10\" class=\"data row24 col10\" >False</td>\n",
       "      <td id=\"T_baca8_row24_col11\" class=\"data row24 col11\" >5</td>\n",
       "      <td id=\"T_baca8_row24_col12\" class=\"data row24 col12\" >3</td>\n",
       "      <td id=\"T_baca8_row24_col13\" class=\"data row24 col13\" >0.000010</td>\n",
       "      <td id=\"T_baca8_row24_col14\" class=\"data row24 col14\" >False</td>\n",
       "      <td id=\"T_baca8_row24_col15\" class=\"data row24 col15\" >COMPLETE</td>\n",
       "    </tr>\n",
       "    <tr>\n",
       "      <th id=\"T_baca8_level0_row25\" class=\"row_heading level0 row25\" >26</th>\n",
       "      <td id=\"T_baca8_row25_col0\" class=\"data row25 col0\" >7.76</td>\n",
       "      <td id=\"T_baca8_row25_col1\" class=\"data row25 col1\" >2.16</td>\n",
       "      <td id=\"T_baca8_row25_col2\" class=\"data row25 col2\" >0.906503</td>\n",
       "      <td id=\"T_baca8_row25_col3\" class=\"data row25 col3\" >0.943085</td>\n",
       "      <td id=\"T_baca8_row25_col4\" class=\"data row25 col4\" >0.924323</td>\n",
       "      <td id=\"T_baca8_row25_col5\" class=\"data row25 col5\" >0.925831</td>\n",
       "      <td id=\"T_baca8_row25_col6\" class=\"data row25 col6\" >0.976521</td>\n",
       "      <td id=\"T_baca8_row25_col7\" class=\"data row25 col7\" >0.721263</td>\n",
       "      <td id=\"T_baca8_row25_col8\" class=\"data row25 col8\" >sigmoid</td>\n",
       "      <td id=\"T_baca8_row25_col9\" class=\"data row25 col9\" >hinge</td>\n",
       "      <td id=\"T_baca8_row25_col10\" class=\"data row25 col10\" >False</td>\n",
       "      <td id=\"T_baca8_row25_col11\" class=\"data row25 col11\" >5</td>\n",
       "      <td id=\"T_baca8_row25_col12\" class=\"data row25 col12\" >3</td>\n",
       "      <td id=\"T_baca8_row25_col13\" class=\"data row25 col13\" >0.000012</td>\n",
       "      <td id=\"T_baca8_row25_col14\" class=\"data row25 col14\" >False</td>\n",
       "      <td id=\"T_baca8_row25_col15\" class=\"data row25 col15\" >COMPLETE</td>\n",
       "    </tr>\n",
       "    <tr>\n",
       "      <th id=\"T_baca8_level0_row26\" class=\"row_heading level0 row26\" >39</th>\n",
       "      <td id=\"T_baca8_row26_col0\" class=\"data row26 col0\" >8.11</td>\n",
       "      <td id=\"T_baca8_row26_col1\" class=\"data row26 col1\" >3.09</td>\n",
       "      <td id=\"T_baca8_row26_col2\" class=\"data row26 col2\" >0.900758</td>\n",
       "      <td id=\"T_baca8_row26_col3\" class=\"data row26 col3\" >0.947318</td>\n",
       "      <td id=\"T_baca8_row26_col4\" class=\"data row26 col4\" >0.923398</td>\n",
       "      <td id=\"T_baca8_row26_col5\" class=\"data row26 col5\" >0.925308</td>\n",
       "      <td id=\"T_baca8_row26_col6\" class=\"data row26 col6\" >0.971479</td>\n",
       "      <td id=\"T_baca8_row26_col7\" class=\"data row26 col7\" >0.161222</td>\n",
       "      <td id=\"T_baca8_row26_col8\" class=\"data row26 col8\" >sigmoid</td>\n",
       "      <td id=\"T_baca8_row26_col9\" class=\"data row26 col9\" >squared_hinge</td>\n",
       "      <td id=\"T_baca8_row26_col10\" class=\"data row26 col10\" >True</td>\n",
       "      <td id=\"T_baca8_row26_col11\" class=\"data row26 col11\" >4</td>\n",
       "      <td id=\"T_baca8_row26_col12\" class=\"data row26 col12\" >1</td>\n",
       "      <td id=\"T_baca8_row26_col13\" class=\"data row26 col13\" >0.000051</td>\n",
       "      <td id=\"T_baca8_row26_col14\" class=\"data row26 col14\" >True</td>\n",
       "      <td id=\"T_baca8_row26_col15\" class=\"data row26 col15\" >COMPLETE</td>\n",
       "    </tr>\n",
       "    <tr>\n",
       "      <th id=\"T_baca8_level0_row27\" class=\"row_heading level0 row27\" >48</th>\n",
       "      <td id=\"T_baca8_row27_col0\" class=\"data row27 col0\" >5.78</td>\n",
       "      <td id=\"T_baca8_row27_col1\" class=\"data row27 col1\" >2.24</td>\n",
       "      <td id=\"T_baca8_row27_col2\" class=\"data row27 col2\" >0.909898</td>\n",
       "      <td id=\"T_baca8_row27_col3\" class=\"data row27 col3\" >0.936425</td>\n",
       "      <td id=\"T_baca8_row27_col4\" class=\"data row27 col4\" >0.922880</td>\n",
       "      <td id=\"T_baca8_row27_col5\" class=\"data row27 col5\" >0.924002</td>\n",
       "      <td id=\"T_baca8_row27_col6\" class=\"data row27 col6\" >0.975827</td>\n",
       "      <td id=\"T_baca8_row27_col7\" class=\"data row27 col7\" >0.326822</td>\n",
       "      <td id=\"T_baca8_row27_col8\" class=\"data row27 col8\" >sigmoid</td>\n",
       "      <td id=\"T_baca8_row27_col9\" class=\"data row27 col9\" >squared_hinge</td>\n",
       "      <td id=\"T_baca8_row27_col10\" class=\"data row27 col10\" >False</td>\n",
       "      <td id=\"T_baca8_row27_col11\" class=\"data row27 col11\" >5</td>\n",
       "      <td id=\"T_baca8_row27_col12\" class=\"data row27 col12\" >2</td>\n",
       "      <td id=\"T_baca8_row27_col13\" class=\"data row27 col13\" >0.000017</td>\n",
       "      <td id=\"T_baca8_row27_col14\" class=\"data row27 col14\" >False</td>\n",
       "      <td id=\"T_baca8_row27_col15\" class=\"data row27 col15\" >COMPLETE</td>\n",
       "    </tr>\n",
       "    <tr>\n",
       "      <th id=\"T_baca8_level0_row28\" class=\"row_heading level0 row28\" >36</th>\n",
       "      <td id=\"T_baca8_row28_col0\" class=\"data row28 col0\" >8.61</td>\n",
       "      <td id=\"T_baca8_row28_col1\" class=\"data row28 col1\" >3.78</td>\n",
       "      <td id=\"T_baca8_row28_col2\" class=\"data row28 col2\" >0.905198</td>\n",
       "      <td id=\"T_baca8_row28_col3\" class=\"data row28 col3\" >0.930434</td>\n",
       "      <td id=\"T_baca8_row28_col4\" class=\"data row28 col4\" >0.917509</td>\n",
       "      <td id=\"T_baca8_row28_col5\" class=\"data row28 col5\" >0.918649</td>\n",
       "      <td id=\"T_baca8_row28_col6\" class=\"data row28 col6\" >0.974791</td>\n",
       "      <td id=\"T_baca8_row28_col7\" class=\"data row28 col7\" >0.238840</td>\n",
       "      <td id=\"T_baca8_row28_col8\" class=\"data row28 col8\" >sigmoid</td>\n",
       "      <td id=\"T_baca8_row28_col9\" class=\"data row28 col9\" >squared_hinge</td>\n",
       "      <td id=\"T_baca8_row28_col10\" class=\"data row28 col10\" >True</td>\n",
       "      <td id=\"T_baca8_row28_col11\" class=\"data row28 col11\" >5</td>\n",
       "      <td id=\"T_baca8_row28_col12\" class=\"data row28 col12\" >2</td>\n",
       "      <td id=\"T_baca8_row28_col13\" class=\"data row28 col13\" >0.000027</td>\n",
       "      <td id=\"T_baca8_row28_col14\" class=\"data row28 col14\" >False</td>\n",
       "      <td id=\"T_baca8_row28_col15\" class=\"data row28 col15\" >COMPLETE</td>\n",
       "    </tr>\n",
       "    <tr>\n",
       "      <th id=\"T_baca8_level0_row29\" class=\"row_heading level0 row29\" >37</th>\n",
       "      <td id=\"T_baca8_row29_col0\" class=\"data row29 col0\" >8.36</td>\n",
       "      <td id=\"T_baca8_row29_col1\" class=\"data row29 col1\" >2.66</td>\n",
       "      <td id=\"T_baca8_row29_col2\" class=\"data row29 col2\" >0.904413</td>\n",
       "      <td id=\"T_baca8_row29_col3\" class=\"data row29 col3\" >0.926106</td>\n",
       "      <td id=\"T_baca8_row29_col4\" class=\"data row29 col4\" >0.915031</td>\n",
       "      <td id=\"T_baca8_row29_col5\" class=\"data row29 col5\" >0.916037</td>\n",
       "      <td id=\"T_baca8_row29_col6\" class=\"data row29 col6\" >0.973032</td>\n",
       "      <td id=\"T_baca8_row29_col7\" class=\"data row29 col7\" >0.195820</td>\n",
       "      <td id=\"T_baca8_row29_col8\" class=\"data row29 col8\" >sigmoid</td>\n",
       "      <td id=\"T_baca8_row29_col9\" class=\"data row29 col9\" >squared_hinge</td>\n",
       "      <td id=\"T_baca8_row29_col10\" class=\"data row29 col10\" >True</td>\n",
       "      <td id=\"T_baca8_row29_col11\" class=\"data row29 col11\" >4</td>\n",
       "      <td id=\"T_baca8_row29_col12\" class=\"data row29 col12\" >2</td>\n",
       "      <td id=\"T_baca8_row29_col13\" class=\"data row29 col13\" >0.000036</td>\n",
       "      <td id=\"T_baca8_row29_col14\" class=\"data row29 col14\" >False</td>\n",
       "      <td id=\"T_baca8_row29_col15\" class=\"data row29 col15\" >COMPLETE</td>\n",
       "    </tr>\n",
       "    <tr>\n",
       "      <th id=\"T_baca8_level0_row30\" class=\"row_heading level0 row30\" >22</th>\n",
       "      <td id=\"T_baca8_row30_col0\" class=\"data row30 col0\" >6.40</td>\n",
       "      <td id=\"T_baca8_row30_col1\" class=\"data row30 col1\" >2.29</td>\n",
       "      <td id=\"T_baca8_row30_col2\" class=\"data row30 col2\" >0.902585</td>\n",
       "      <td id=\"T_baca8_row30_col3\" class=\"data row30 col3\" >0.925889</td>\n",
       "      <td id=\"T_baca8_row30_col4\" class=\"data row30 col4\" >0.914000</td>\n",
       "      <td id=\"T_baca8_row30_col5\" class=\"data row30 col5\" >0.915123</td>\n",
       "      <td id=\"T_baca8_row30_col6\" class=\"data row30 col6\" >0.971457</td>\n",
       "      <td id=\"T_baca8_row30_col7\" class=\"data row30 col7\" >0.503217</td>\n",
       "      <td id=\"T_baca8_row30_col8\" class=\"data row30 col8\" >sigmoid</td>\n",
       "      <td id=\"T_baca8_row30_col9\" class=\"data row30 col9\" >hinge</td>\n",
       "      <td id=\"T_baca8_row30_col10\" class=\"data row30 col10\" >False</td>\n",
       "      <td id=\"T_baca8_row30_col11\" class=\"data row30 col11\" >4</td>\n",
       "      <td id=\"T_baca8_row30_col12\" class=\"data row30 col12\" >3</td>\n",
       "      <td id=\"T_baca8_row30_col13\" class=\"data row30 col13\" >0.002689</td>\n",
       "      <td id=\"T_baca8_row30_col14\" class=\"data row30 col14\" >False</td>\n",
       "      <td id=\"T_baca8_row30_col15\" class=\"data row30 col15\" >COMPLETE</td>\n",
       "    </tr>\n",
       "    <tr>\n",
       "      <th id=\"T_baca8_level0_row31\" class=\"row_heading level0 row31\" >35</th>\n",
       "      <td id=\"T_baca8_row31_col0\" class=\"data row31 col0\" >7.54</td>\n",
       "      <td id=\"T_baca8_row31_col1\" class=\"data row31 col1\" >3.91</td>\n",
       "      <td id=\"T_baca8_row31_col2\" class=\"data row31 col2\" >0.900497</td>\n",
       "      <td id=\"T_baca8_row31_col3\" class=\"data row31 col3\" >0.924307</td>\n",
       "      <td id=\"T_baca8_row31_col4\" class=\"data row31 col4\" >0.912152</td>\n",
       "      <td id=\"T_baca8_row31_col5\" class=\"data row31 col5\" >0.913295</td>\n",
       "      <td id=\"T_baca8_row31_col6\" class=\"data row31 col6\" >0.971716</td>\n",
       "      <td id=\"T_baca8_row31_col7\" class=\"data row31 col7\" >0.180667</td>\n",
       "      <td id=\"T_baca8_row31_col8\" class=\"data row31 col8\" >sigmoid</td>\n",
       "      <td id=\"T_baca8_row31_col9\" class=\"data row31 col9\" >squared_hinge</td>\n",
       "      <td id=\"T_baca8_row31_col10\" class=\"data row31 col10\" >False</td>\n",
       "      <td id=\"T_baca8_row31_col11\" class=\"data row31 col11\" >5</td>\n",
       "      <td id=\"T_baca8_row31_col12\" class=\"data row31 col12\" >2</td>\n",
       "      <td id=\"T_baca8_row31_col13\" class=\"data row31 col13\" >0.000039</td>\n",
       "      <td id=\"T_baca8_row31_col14\" class=\"data row31 col14\" >False</td>\n",
       "      <td id=\"T_baca8_row31_col15\" class=\"data row31 col15\" >COMPLETE</td>\n",
       "    </tr>\n",
       "    <tr>\n",
       "      <th id=\"T_baca8_level0_row32\" class=\"row_heading level0 row32\" >23</th>\n",
       "      <td id=\"T_baca8_row32_col0\" class=\"data row32 col0\" >5.54</td>\n",
       "      <td id=\"T_baca8_row32_col1\" class=\"data row32 col1\" >1.98</td>\n",
       "      <td id=\"T_baca8_row32_col2\" class=\"data row32 col2\" >0.897885</td>\n",
       "      <td id=\"T_baca8_row32_col3\" class=\"data row32 col3\" >0.927039</td>\n",
       "      <td id=\"T_baca8_row32_col4\" class=\"data row32 col4\" >0.912109</td>\n",
       "      <td id=\"T_baca8_row32_col5\" class=\"data row32 col5\" >0.913557</td>\n",
       "      <td id=\"T_baca8_row32_col6\" class=\"data row32 col6\" >0.970029</td>\n",
       "      <td id=\"T_baca8_row32_col7\" class=\"data row32 col7\" >0.731091</td>\n",
       "      <td id=\"T_baca8_row32_col8\" class=\"data row32 col8\" >sigmoid</td>\n",
       "      <td id=\"T_baca8_row32_col9\" class=\"data row32 col9\" >hinge</td>\n",
       "      <td id=\"T_baca8_row32_col10\" class=\"data row32 col10\" >False</td>\n",
       "      <td id=\"T_baca8_row32_col11\" class=\"data row32 col11\" >2</td>\n",
       "      <td id=\"T_baca8_row32_col12\" class=\"data row32 col12\" >3</td>\n",
       "      <td id=\"T_baca8_row32_col13\" class=\"data row32 col13\" >0.002593</td>\n",
       "      <td id=\"T_baca8_row32_col14\" class=\"data row32 col14\" >False</td>\n",
       "      <td id=\"T_baca8_row32_col15\" class=\"data row32 col15\" >COMPLETE</td>\n",
       "    </tr>\n",
       "    <tr>\n",
       "      <th id=\"T_baca8_level0_row33\" class=\"row_heading level0 row33\" >24</th>\n",
       "      <td id=\"T_baca8_row33_col0\" class=\"data row33 col0\" >4.96</td>\n",
       "      <td id=\"T_baca8_row33_col1\" class=\"data row33 col1\" >2.46</td>\n",
       "      <td id=\"T_baca8_row33_col2\" class=\"data row33 col2\" >0.895795</td>\n",
       "      <td id=\"T_baca8_row33_col3\" class=\"data row33 col3\" >0.920844</td>\n",
       "      <td id=\"T_baca8_row33_col4\" class=\"data row33 col4\" >0.908047</td>\n",
       "      <td id=\"T_baca8_row33_col5\" class=\"data row33 col5\" >0.909378</td>\n",
       "      <td id=\"T_baca8_row33_col6\" class=\"data row33 col6\" >0.967873</td>\n",
       "      <td id=\"T_baca8_row33_col7\" class=\"data row33 col7\" >0.619151</td>\n",
       "      <td id=\"T_baca8_row33_col8\" class=\"data row33 col8\" >sigmoid</td>\n",
       "      <td id=\"T_baca8_row33_col9\" class=\"data row33 col9\" >hinge</td>\n",
       "      <td id=\"T_baca8_row33_col10\" class=\"data row33 col10\" >False</td>\n",
       "      <td id=\"T_baca8_row33_col11\" class=\"data row33 col11\" >2</td>\n",
       "      <td id=\"T_baca8_row33_col12\" class=\"data row33 col12\" >3</td>\n",
       "      <td id=\"T_baca8_row33_col13\" class=\"data row33 col13\" >0.002144</td>\n",
       "      <td id=\"T_baca8_row33_col14\" class=\"data row33 col14\" >False</td>\n",
       "      <td id=\"T_baca8_row33_col15\" class=\"data row33 col15\" >COMPLETE</td>\n",
       "    </tr>\n",
       "    <tr>\n",
       "      <th id=\"T_baca8_level0_row34\" class=\"row_heading level0 row34\" >1</th>\n",
       "      <td id=\"T_baca8_row34_col0\" class=\"data row34 col0\" >1.31</td>\n",
       "      <td id=\"T_baca8_row34_col1\" class=\"data row34 col1\" >0.75</td>\n",
       "      <td id=\"T_baca8_row34_col2\" class=\"data row34 col2\" >0.884049</td>\n",
       "      <td id=\"T_baca8_row34_col3\" class=\"data row34 col3\" >0.914463</td>\n",
       "      <td id=\"T_baca8_row34_col4\" class=\"data row34 col4\" >0.898785</td>\n",
       "      <td id=\"T_baca8_row34_col5\" class=\"data row34 col5\" >0.900498</td>\n",
       "      <td id=\"T_baca8_row34_col6\" class=\"data row34 col6\" >0.959323</td>\n",
       "      <td id=\"T_baca8_row34_col7\" class=\"data row34 col7\" >0.167645</td>\n",
       "      <td id=\"T_baca8_row34_col8\" class=\"data row34 col8\" >isotonic</td>\n",
       "      <td id=\"T_baca8_row34_col9\" class=\"data row34 col9\" >squared_hinge</td>\n",
       "      <td id=\"T_baca8_row34_col10\" class=\"data row34 col10\" >True</td>\n",
       "      <td id=\"T_baca8_row34_col11\" class=\"data row34 col11\" >1</td>\n",
       "      <td id=\"T_baca8_row34_col12\" class=\"data row34 col12\" >1</td>\n",
       "      <td id=\"T_baca8_row34_col13\" class=\"data row34 col13\" >0.004511</td>\n",
       "      <td id=\"T_baca8_row34_col14\" class=\"data row34 col14\" >True</td>\n",
       "      <td id=\"T_baca8_row34_col15\" class=\"data row34 col15\" >COMPLETE</td>\n",
       "    </tr>\n",
       "    <tr>\n",
       "      <th id=\"T_baca8_level0_row35\" class=\"row_heading level0 row35\" >7</th>\n",
       "      <td id=\"T_baca8_row35_col0\" class=\"data row35 col0\" >1.33</td>\n",
       "      <td id=\"T_baca8_row35_col1\" class=\"data row35 col1\" >0.87</td>\n",
       "      <td id=\"T_baca8_row35_col2\" class=\"data row35 col2\" >0.859233</td>\n",
       "      <td id=\"T_baca8_row35_col3\" class=\"data row35 col3\" >0.892296</td>\n",
       "      <td id=\"T_baca8_row35_col4\" class=\"data row35 col4\" >0.875319</td>\n",
       "      <td id=\"T_baca8_row35_col5\" class=\"data row35 col5\" >0.877515</td>\n",
       "      <td id=\"T_baca8_row35_col6\" class=\"data row35 col6\" >0.950733</td>\n",
       "      <td id=\"T_baca8_row35_col7\" class=\"data row35 col7\" >0.131672</td>\n",
       "      <td id=\"T_baca8_row35_col8\" class=\"data row35 col8\" >isotonic</td>\n",
       "      <td id=\"T_baca8_row35_col9\" class=\"data row35 col9\" >hinge</td>\n",
       "      <td id=\"T_baca8_row35_col10\" class=\"data row35 col10\" >False</td>\n",
       "      <td id=\"T_baca8_row35_col11\" class=\"data row35 col11\" >3</td>\n",
       "      <td id=\"T_baca8_row35_col12\" class=\"data row35 col12\" >1</td>\n",
       "      <td id=\"T_baca8_row35_col13\" class=\"data row35 col13\" >0.000801</td>\n",
       "      <td id=\"T_baca8_row35_col14\" class=\"data row35 col14\" >False</td>\n",
       "      <td id=\"T_baca8_row35_col15\" class=\"data row35 col15\" >COMPLETE</td>\n",
       "    </tr>\n",
       "    <tr>\n",
       "      <th id=\"T_baca8_level0_row36\" class=\"row_heading level0 row36\" >20</th>\n",
       "      <td id=\"T_baca8_row36_col0\" class=\"data row36 col0\" >7.61</td>\n",
       "      <td id=\"T_baca8_row36_col1\" class=\"data row36 col1\" >3.30</td>\n",
       "      <td id=\"T_baca8_row36_col2\" class=\"data row36 col2\" >0.857144</td>\n",
       "      <td id=\"T_baca8_row36_col3\" class=\"data row36 col3\" >0.833359</td>\n",
       "      <td id=\"T_baca8_row36_col4\" class=\"data row36 col4\" >0.845041</td>\n",
       "      <td id=\"T_baca8_row36_col5\" class=\"data row36 col5\" >0.842781</td>\n",
       "      <td id=\"T_baca8_row36_col6\" class=\"data row36 col6\" >0.924178</td>\n",
       "      <td id=\"T_baca8_row36_col7\" class=\"data row36 col7\" >0.053798</td>\n",
       "      <td id=\"T_baca8_row36_col8\" class=\"data row36 col8\" >sigmoid</td>\n",
       "      <td id=\"T_baca8_row36_col9\" class=\"data row36 col9\" >hinge</td>\n",
       "      <td id=\"T_baca8_row36_col10\" class=\"data row36 col10\" >False</td>\n",
       "      <td id=\"T_baca8_row36_col11\" class=\"data row36 col11\" >4</td>\n",
       "      <td id=\"T_baca8_row36_col12\" class=\"data row36 col12\" >3</td>\n",
       "      <td id=\"T_baca8_row36_col13\" class=\"data row36 col13\" >0.002904</td>\n",
       "      <td id=\"T_baca8_row36_col14\" class=\"data row36 col14\" >False</td>\n",
       "      <td id=\"T_baca8_row36_col15\" class=\"data row36 col15\" >COMPLETE</td>\n",
       "    </tr>\n",
       "    <tr>\n",
       "      <th id=\"T_baca8_level0_row37\" class=\"row_heading level0 row37\" >34</th>\n",
       "      <td id=\"T_baca8_row37_col0\" class=\"data row37 col0\" >5.54</td>\n",
       "      <td id=\"T_baca8_row37_col1\" class=\"data row37 col1\" >2.33</td>\n",
       "      <td id=\"T_baca8_row37_col2\" class=\"data row37 col2\" >0.859756</td>\n",
       "      <td id=\"T_baca8_row37_col3\" class=\"data row37 col3\" >0.826681</td>\n",
       "      <td id=\"T_baca8_row37_col4\" class=\"data row37 col4\" >0.842838</td>\n",
       "      <td id=\"T_baca8_row37_col5\" class=\"data row37 col5\" >0.839647</td>\n",
       "      <td id=\"T_baca8_row37_col6\" class=\"data row37 col6\" >0.921629</td>\n",
       "      <td id=\"T_baca8_row37_col7\" class=\"data row37 col7\" >0.007721</td>\n",
       "      <td id=\"T_baca8_row37_col8\" class=\"data row37 col8\" >sigmoid</td>\n",
       "      <td id=\"T_baca8_row37_col9\" class=\"data row37 col9\" >squared_hinge</td>\n",
       "      <td id=\"T_baca8_row37_col10\" class=\"data row37 col10\" >True</td>\n",
       "      <td id=\"T_baca8_row37_col11\" class=\"data row37 col11\" >3</td>\n",
       "      <td id=\"T_baca8_row37_col12\" class=\"data row37 col12\" >2</td>\n",
       "      <td id=\"T_baca8_row37_col13\" class=\"data row37 col13\" >0.000030</td>\n",
       "      <td id=\"T_baca8_row37_col14\" class=\"data row37 col14\" >False</td>\n",
       "      <td id=\"T_baca8_row37_col15\" class=\"data row37 col15\" >COMPLETE</td>\n",
       "    </tr>\n",
       "    <tr>\n",
       "      <th id=\"T_baca8_level0_row38\" class=\"row_heading level0 row38\" >33</th>\n",
       "      <td id=\"T_baca8_row38_col0\" class=\"data row38 col0\" >6.11</td>\n",
       "      <td id=\"T_baca8_row38_col1\" class=\"data row38 col1\" >1.99</td>\n",
       "      <td id=\"T_baca8_row38_col2\" class=\"data row38 col2\" >0.858972</td>\n",
       "      <td id=\"T_baca8_row38_col3\" class=\"data row38 col3\" >0.824689</td>\n",
       "      <td id=\"T_baca8_row38_col4\" class=\"data row38 col4\" >0.841419</td>\n",
       "      <td id=\"T_baca8_row38_col5\" class=\"data row38 col5\" >0.838080</td>\n",
       "      <td id=\"T_baca8_row38_col6\" class=\"data row38 col6\" >0.920729</td>\n",
       "      <td id=\"T_baca8_row38_col7\" class=\"data row38 col7\" >0.007430</td>\n",
       "      <td id=\"T_baca8_row38_col8\" class=\"data row38 col8\" >sigmoid</td>\n",
       "      <td id=\"T_baca8_row38_col9\" class=\"data row38 col9\" >squared_hinge</td>\n",
       "      <td id=\"T_baca8_row38_col10\" class=\"data row38 col10\" >True</td>\n",
       "      <td id=\"T_baca8_row38_col11\" class=\"data row38 col11\" >3</td>\n",
       "      <td id=\"T_baca8_row38_col12\" class=\"data row38 col12\" >2</td>\n",
       "      <td id=\"T_baca8_row38_col13\" class=\"data row38 col13\" >0.000028</td>\n",
       "      <td id=\"T_baca8_row38_col14\" class=\"data row38 col14\" >False</td>\n",
       "      <td id=\"T_baca8_row38_col15\" class=\"data row38 col15\" >COMPLETE</td>\n",
       "    </tr>\n",
       "    <tr>\n",
       "      <th id=\"T_baca8_level0_row39\" class=\"row_heading level0 row39\" >0</th>\n",
       "      <td id=\"T_baca8_row39_col0\" class=\"data row39 col0\" >2.06</td>\n",
       "      <td id=\"T_baca8_row39_col1\" class=\"data row39 col1\" >0.94</td>\n",
       "      <td id=\"T_baca8_row39_col2\" class=\"data row39 col2\" >0.827106</td>\n",
       "      <td id=\"T_baca8_row39_col3\" class=\"data row39 col3\" >0.855171</td>\n",
       "      <td id=\"T_baca8_row39_col4\" class=\"data row39 col4\" >0.840774</td>\n",
       "      <td id=\"T_baca8_row39_col5\" class=\"data row39 col5\" >0.843433</td>\n",
       "      <td id=\"T_baca8_row39_col6\" class=\"data row39 col6\" >0.918034</td>\n",
       "      <td id=\"T_baca8_row39_col7\" class=\"data row39 col7\" >0.001320</td>\n",
       "      <td id=\"T_baca8_row39_col8\" class=\"data row39 col8\" >isotonic</td>\n",
       "      <td id=\"T_baca8_row39_col9\" class=\"data row39 col9\" >squared_hinge</td>\n",
       "      <td id=\"T_baca8_row39_col10\" class=\"data row39 col10\" >True</td>\n",
       "      <td id=\"T_baca8_row39_col11\" class=\"data row39 col11\" >3</td>\n",
       "      <td id=\"T_baca8_row39_col12\" class=\"data row39 col12\" >2</td>\n",
       "      <td id=\"T_baca8_row39_col13\" class=\"data row39 col13\" >0.000174</td>\n",
       "      <td id=\"T_baca8_row39_col14\" class=\"data row39 col14\" >True</td>\n",
       "      <td id=\"T_baca8_row39_col15\" class=\"data row39 col15\" >COMPLETE</td>\n",
       "    </tr>\n",
       "    <tr>\n",
       "      <th id=\"T_baca8_level0_row40\" class=\"row_heading level0 row40\" >18</th>\n",
       "      <td id=\"T_baca8_row40_col0\" class=\"data row40 col0\" >7.15</td>\n",
       "      <td id=\"T_baca8_row40_col1\" class=\"data row40 col1\" >3.45</td>\n",
       "      <td id=\"T_baca8_row40_col2\" class=\"data row40 col2\" >0.850615</td>\n",
       "      <td id=\"T_baca8_row40_col3\" class=\"data row40 col3\" >0.823614</td>\n",
       "      <td id=\"T_baca8_row40_col4\" class=\"data row40 col4\" >0.836865</td>\n",
       "      <td id=\"T_baca8_row40_col5\" class=\"data row40 col5\" >0.834162</td>\n",
       "      <td id=\"T_baca8_row40_col6\" class=\"data row40 col6\" >0.918678</td>\n",
       "      <td id=\"T_baca8_row40_col7\" class=\"data row40 col7\" >0.044469</td>\n",
       "      <td id=\"T_baca8_row40_col8\" class=\"data row40 col8\" >sigmoid</td>\n",
       "      <td id=\"T_baca8_row40_col9\" class=\"data row40 col9\" >hinge</td>\n",
       "      <td id=\"T_baca8_row40_col10\" class=\"data row40 col10\" >False</td>\n",
       "      <td id=\"T_baca8_row40_col11\" class=\"data row40 col11\" >4</td>\n",
       "      <td id=\"T_baca8_row40_col12\" class=\"data row40 col12\" >3</td>\n",
       "      <td id=\"T_baca8_row40_col13\" class=\"data row40 col13\" >0.026187</td>\n",
       "      <td id=\"T_baca8_row40_col14\" class=\"data row40 col14\" >False</td>\n",
       "      <td id=\"T_baca8_row40_col15\" class=\"data row40 col15\" >COMPLETE</td>\n",
       "    </tr>\n",
       "    <tr>\n",
       "      <th id=\"T_baca8_level0_row41\" class=\"row_heading level0 row41\" >32</th>\n",
       "      <td id=\"T_baca8_row41_col0\" class=\"data row41 col0\" >7.01</td>\n",
       "      <td id=\"T_baca8_row41_col1\" class=\"data row41 col1\" >2.71</td>\n",
       "      <td id=\"T_baca8_row41_col2\" class=\"data row41 col2\" >0.855840</td>\n",
       "      <td id=\"T_baca8_row41_col3\" class=\"data row41 col3\" >0.818013</td>\n",
       "      <td id=\"T_baca8_row41_col4\" class=\"data row41 col4\" >0.836422</td>\n",
       "      <td id=\"T_baca8_row41_col5\" class=\"data row41 col5\" >0.832596</td>\n",
       "      <td id=\"T_baca8_row41_col6\" class=\"data row41 col6\" >0.918945</td>\n",
       "      <td id=\"T_baca8_row41_col7\" class=\"data row41 col7\" >0.007068</td>\n",
       "      <td id=\"T_baca8_row41_col8\" class=\"data row41 col8\" >sigmoid</td>\n",
       "      <td id=\"T_baca8_row41_col9\" class=\"data row41 col9\" >squared_hinge</td>\n",
       "      <td id=\"T_baca8_row41_col10\" class=\"data row41 col10\" >False</td>\n",
       "      <td id=\"T_baca8_row41_col11\" class=\"data row41 col11\" >5</td>\n",
       "      <td id=\"T_baca8_row41_col12\" class=\"data row41 col12\" >2</td>\n",
       "      <td id=\"T_baca8_row41_col13\" class=\"data row41 col13\" >0.000024</td>\n",
       "      <td id=\"T_baca8_row41_col14\" class=\"data row41 col14\" >False</td>\n",
       "      <td id=\"T_baca8_row41_col15\" class=\"data row41 col15\" >COMPLETE</td>\n",
       "    </tr>\n",
       "    <tr>\n",
       "      <th id=\"T_baca8_level0_row42\" class=\"row_heading level0 row42\" >2</th>\n",
       "      <td id=\"T_baca8_row42_col0\" class=\"data row42 col0\" >2.36</td>\n",
       "      <td id=\"T_baca8_row42_col1\" class=\"data row42 col1\" >0.81</td>\n",
       "      <td id=\"T_baca8_row42_col2\" class=\"data row42 col2\" >0.806471</td>\n",
       "      <td id=\"T_baca8_row42_col3\" class=\"data row42 col3\" >0.865596</td>\n",
       "      <td id=\"T_baca8_row42_col4\" class=\"data row42 col4\" >0.834835</td>\n",
       "      <td id=\"T_baca8_row42_col5\" class=\"data row42 col5\" >0.840560</td>\n",
       "      <td id=\"T_baca8_row42_col6\" class=\"data row42 col6\" >0.910742</td>\n",
       "      <td id=\"T_baca8_row42_col7\" class=\"data row42 col7\" >0.000130</td>\n",
       "      <td id=\"T_baca8_row42_col8\" class=\"data row42 col8\" >isotonic</td>\n",
       "      <td id=\"T_baca8_row42_col9\" class=\"data row42 col9\" >hinge</td>\n",
       "      <td id=\"T_baca8_row42_col10\" class=\"data row42 col10\" >True</td>\n",
       "      <td id=\"T_baca8_row42_col11\" class=\"data row42 col11\" >4</td>\n",
       "      <td id=\"T_baca8_row42_col12\" class=\"data row42 col12\" >2</td>\n",
       "      <td id=\"T_baca8_row42_col13\" class=\"data row42 col13\" >0.000087</td>\n",
       "      <td id=\"T_baca8_row42_col14\" class=\"data row42 col14\" >True</td>\n",
       "      <td id=\"T_baca8_row42_col15\" class=\"data row42 col15\" >COMPLETE</td>\n",
       "    </tr>\n",
       "    <tr>\n",
       "      <th id=\"T_baca8_level0_row43\" class=\"row_heading level0 row43\" >6</th>\n",
       "      <td id=\"T_baca8_row43_col0\" class=\"data row43 col0\" >1.65</td>\n",
       "      <td id=\"T_baca8_row43_col1\" class=\"data row43 col1\" >0.69</td>\n",
       "      <td id=\"T_baca8_row43_col2\" class=\"data row43 col2\" >0.811692</td>\n",
       "      <td id=\"T_baca8_row43_col3\" class=\"data row43 col3\" >0.851255</td>\n",
       "      <td id=\"T_baca8_row43_col4\" class=\"data row43 col4\" >0.830678</td>\n",
       "      <td id=\"T_baca8_row43_col5\" class=\"data row43 col5\" >0.834683</td>\n",
       "      <td id=\"T_baca8_row43_col6\" class=\"data row43 col6\" >0.910023</td>\n",
       "      <td id=\"T_baca8_row43_col7\" class=\"data row43 col7\" >0.000197</td>\n",
       "      <td id=\"T_baca8_row43_col8\" class=\"data row43 col8\" >isotonic</td>\n",
       "      <td id=\"T_baca8_row43_col9\" class=\"data row43 col9\" >squared_hinge</td>\n",
       "      <td id=\"T_baca8_row43_col10\" class=\"data row43 col10\" >False</td>\n",
       "      <td id=\"T_baca8_row43_col11\" class=\"data row43 col11\" >3</td>\n",
       "      <td id=\"T_baca8_row43_col12\" class=\"data row43 col12\" >2</td>\n",
       "      <td id=\"T_baca8_row43_col13\" class=\"data row43 col13\" >0.007320</td>\n",
       "      <td id=\"T_baca8_row43_col14\" class=\"data row43 col14\" >True</td>\n",
       "      <td id=\"T_baca8_row43_col15\" class=\"data row43 col15\" >COMPLETE</td>\n",
       "    </tr>\n",
       "    <tr>\n",
       "      <th id=\"T_baca8_level0_row44\" class=\"row_heading level0 row44\" >19</th>\n",
       "      <td id=\"T_baca8_row44_col0\" class=\"data row44 col0\" >7.36</td>\n",
       "      <td id=\"T_baca8_row44_col1\" class=\"data row44 col1\" >2.74</td>\n",
       "      <td id=\"T_baca8_row44_col2\" class=\"data row44 col2\" >0.833377</td>\n",
       "      <td id=\"T_baca8_row44_col3\" class=\"data row44 col3\" >0.790136</td>\n",
       "      <td id=\"T_baca8_row44_col4\" class=\"data row44 col4\" >0.811152</td>\n",
       "      <td id=\"T_baca8_row44_col5\" class=\"data row44 col5\" >0.805956</td>\n",
       "      <td id=\"T_baca8_row44_col6\" class=\"data row44 col6\" >0.898228</td>\n",
       "      <td id=\"T_baca8_row44_col7\" class=\"data row44 col7\" >0.021529</td>\n",
       "      <td id=\"T_baca8_row44_col8\" class=\"data row44 col8\" >sigmoid</td>\n",
       "      <td id=\"T_baca8_row44_col9\" class=\"data row44 col9\" >hinge</td>\n",
       "      <td id=\"T_baca8_row44_col10\" class=\"data row44 col10\" >False</td>\n",
       "      <td id=\"T_baca8_row44_col11\" class=\"data row44 col11\" >4</td>\n",
       "      <td id=\"T_baca8_row44_col12\" class=\"data row44 col12\" >3</td>\n",
       "      <td id=\"T_baca8_row44_col13\" class=\"data row44 col13\" >0.063795</td>\n",
       "      <td id=\"T_baca8_row44_col14\" class=\"data row44 col14\" >False</td>\n",
       "      <td id=\"T_baca8_row44_col15\" class=\"data row44 col15\" >COMPLETE</td>\n",
       "    </tr>\n",
       "    <tr>\n",
       "      <th id=\"T_baca8_level0_row45\" class=\"row_heading level0 row45\" >21</th>\n",
       "      <td id=\"T_baca8_row45_col0\" class=\"data row45 col0\" >5.14</td>\n",
       "      <td id=\"T_baca8_row45_col1\" class=\"data row45 col1\" >2.34</td>\n",
       "      <td id=\"T_baca8_row45_col2\" class=\"data row45 col2\" >0.827632</td>\n",
       "      <td id=\"T_baca8_row45_col3\" class=\"data row45 col3\" >0.773915</td>\n",
       "      <td id=\"T_baca8_row45_col4\" class=\"data row45 col4\" >0.799851</td>\n",
       "      <td id=\"T_baca8_row45_col5\" class=\"data row45 col5\" >0.792898</td>\n",
       "      <td id=\"T_baca8_row45_col6\" class=\"data row45 col6\" >0.889930</td>\n",
       "      <td id=\"T_baca8_row45_col7\" class=\"data row45 col7\" >0.015372</td>\n",
       "      <td id=\"T_baca8_row45_col8\" class=\"data row45 col8\" >sigmoid</td>\n",
       "      <td id=\"T_baca8_row45_col9\" class=\"data row45 col9\" >hinge</td>\n",
       "      <td id=\"T_baca8_row45_col10\" class=\"data row45 col10\" >False</td>\n",
       "      <td id=\"T_baca8_row45_col11\" class=\"data row45 col11\" >4</td>\n",
       "      <td id=\"T_baca8_row45_col12\" class=\"data row45 col12\" >3</td>\n",
       "      <td id=\"T_baca8_row45_col13\" class=\"data row45 col13\" >0.002868</td>\n",
       "      <td id=\"T_baca8_row45_col14\" class=\"data row45 col14\" >False</td>\n",
       "      <td id=\"T_baca8_row45_col15\" class=\"data row45 col15\" >COMPLETE</td>\n",
       "    </tr>\n",
       "    <tr>\n",
       "      <th id=\"T_baca8_level0_row46\" class=\"row_heading level0 row46\" >4</th>\n",
       "      <td id=\"T_baca8_row46_col0\" class=\"data row46 col0\" >1.12</td>\n",
       "      <td id=\"T_baca8_row46_col1\" class=\"data row46 col1\" >0.59</td>\n",
       "      <td id=\"T_baca8_row46_col2\" class=\"data row46 col2\" >0.791329</td>\n",
       "      <td id=\"T_baca8_row46_col3\" class=\"data row46 col3\" >0.761496</td>\n",
       "      <td id=\"T_baca8_row46_col4\" class=\"data row46 col4\" >0.776101</td>\n",
       "      <td id=\"T_baca8_row46_col5\" class=\"data row46 col5\" >0.771744</td>\n",
       "      <td id=\"T_baca8_row46_col6\" class=\"data row46 col6\" >0.853410</td>\n",
       "      <td id=\"T_baca8_row46_col7\" class=\"data row46 col7\" >0.000001</td>\n",
       "      <td id=\"T_baca8_row46_col8\" class=\"data row46 col8\" >sigmoid</td>\n",
       "      <td id=\"T_baca8_row46_col9\" class=\"data row46 col9\" >squared_hinge</td>\n",
       "      <td id=\"T_baca8_row46_col10\" class=\"data row46 col10\" >True</td>\n",
       "      <td id=\"T_baca8_row46_col11\" class=\"data row46 col11\" >2</td>\n",
       "      <td id=\"T_baca8_row46_col12\" class=\"data row46 col12\" >2</td>\n",
       "      <td id=\"T_baca8_row46_col13\" class=\"data row46 col13\" >0.034478</td>\n",
       "      <td id=\"T_baca8_row46_col14\" class=\"data row46 col14\" >False</td>\n",
       "      <td id=\"T_baca8_row46_col15\" class=\"data row46 col15\" >COMPLETE</td>\n",
       "    </tr>\n",
       "    <tr>\n",
       "      <th id=\"T_baca8_level0_row47\" class=\"row_heading level0 row47\" >8</th>\n",
       "      <td id=\"T_baca8_row47_col0\" class=\"data row47 col0\" >1.94</td>\n",
       "      <td id=\"T_baca8_row47_col1\" class=\"data row47 col1\" >0.91</td>\n",
       "      <td id=\"T_baca8_row47_col2\" class=\"data row47 col2\" >0.785847</td>\n",
       "      <td id=\"T_baca8_row47_col3\" class=\"data row47 col3\" >0.762658</td>\n",
       "      <td id=\"T_baca8_row47_col4\" class=\"data row47 col4\" >0.773963</td>\n",
       "      <td id=\"T_baca8_row47_col5\" class=\"data row47 col5\" >0.770701</td>\n",
       "      <td id=\"T_baca8_row47_col6\" class=\"data row47 col6\" >0.847315</td>\n",
       "      <td id=\"T_baca8_row47_col7\" class=\"data row47 col7\" >0.000004</td>\n",
       "      <td id=\"T_baca8_row47_col8\" class=\"data row47 col8\" >isotonic</td>\n",
       "      <td id=\"T_baca8_row47_col9\" class=\"data row47 col9\" >squared_hinge</td>\n",
       "      <td id=\"T_baca8_row47_col10\" class=\"data row47 col10\" >True</td>\n",
       "      <td id=\"T_baca8_row47_col11\" class=\"data row47 col11\" >5</td>\n",
       "      <td id=\"T_baca8_row47_col12\" class=\"data row47 col12\" >1</td>\n",
       "      <td id=\"T_baca8_row47_col13\" class=\"data row47 col13\" >0.000531</td>\n",
       "      <td id=\"T_baca8_row47_col14\" class=\"data row47 col14\" >False</td>\n",
       "      <td id=\"T_baca8_row47_col15\" class=\"data row47 col15\" >COMPLETE</td>\n",
       "    </tr>\n",
       "    <tr>\n",
       "      <th id=\"T_baca8_level0_row48\" class=\"row_heading level0 row48\" >3</th>\n",
       "      <td id=\"T_baca8_row48_col0\" class=\"data row48 col0\" >1.50</td>\n",
       "      <td id=\"T_baca8_row48_col1\" class=\"data row48 col1\" >0.38</td>\n",
       "      <td id=\"T_baca8_row48_col2\" class=\"data row48 col2\" >0.731268</td>\n",
       "      <td id=\"T_baca8_row48_col3\" class=\"data row48 col3\" >0.775589</td>\n",
       "      <td id=\"T_baca8_row48_col4\" class=\"data row48 col4\" >0.752742</td>\n",
       "      <td id=\"T_baca8_row48_col5\" class=\"data row48 col5\" >0.759863</td>\n",
       "      <td id=\"T_baca8_row48_col6\" class=\"data row48 col6\" >0.848112</td>\n",
       "      <td id=\"T_baca8_row48_col7\" class=\"data row48 col7\" >0.001396</td>\n",
       "      <td id=\"T_baca8_row48_col8\" class=\"data row48 col8\" >isotonic</td>\n",
       "      <td id=\"T_baca8_row48_col9\" class=\"data row48 col9\" >hinge</td>\n",
       "      <td id=\"T_baca8_row48_col10\" class=\"data row48 col10\" >True</td>\n",
       "      <td id=\"T_baca8_row48_col11\" class=\"data row48 col11\" >1</td>\n",
       "      <td id=\"T_baca8_row48_col12\" class=\"data row48 col12\" >3</td>\n",
       "      <td id=\"T_baca8_row48_col13\" class=\"data row48 col13\" >0.000159</td>\n",
       "      <td id=\"T_baca8_row48_col14\" class=\"data row48 col14\" >True</td>\n",
       "      <td id=\"T_baca8_row48_col15\" class=\"data row48 col15\" >COMPLETE</td>\n",
       "    </tr>\n",
       "    <tr>\n",
       "      <th id=\"T_baca8_level0_row49\" class=\"row_heading level0 row49\" >9</th>\n",
       "      <td id=\"T_baca8_row49_col0\" class=\"data row49 col0\" >1.51</td>\n",
       "      <td id=\"T_baca8_row49_col1\" class=\"data row49 col1\" >0.54</td>\n",
       "      <td id=\"T_baca8_row49_col2\" class=\"data row49 col2\" >0.684781</td>\n",
       "      <td id=\"T_baca8_row49_col3\" class=\"data row49 col3\" >0.793310</td>\n",
       "      <td id=\"T_baca8_row49_col4\" class=\"data row49 col4\" >0.734932</td>\n",
       "      <td id=\"T_baca8_row49_col5\" class=\"data row49 col5\" >0.753334</td>\n",
       "      <td id=\"T_baca8_row49_col6\" class=\"data row49 col6\" >0.849888</td>\n",
       "      <td id=\"T_baca8_row49_col7\" class=\"data row49 col7\" >0.000010</td>\n",
       "      <td id=\"T_baca8_row49_col8\" class=\"data row49 col8\" >sigmoid</td>\n",
       "      <td id=\"T_baca8_row49_col9\" class=\"data row49 col9\" >hinge</td>\n",
       "      <td id=\"T_baca8_row49_col10\" class=\"data row49 col10\" >False</td>\n",
       "      <td id=\"T_baca8_row49_col11\" class=\"data row49 col11\" >1</td>\n",
       "      <td id=\"T_baca8_row49_col12\" class=\"data row49 col12\" >2</td>\n",
       "      <td id=\"T_baca8_row49_col13\" class=\"data row49 col13\" >0.000079</td>\n",
       "      <td id=\"T_baca8_row49_col14\" class=\"data row49 col14\" >True</td>\n",
       "      <td id=\"T_baca8_row49_col15\" class=\"data row49 col15\" >COMPLETE</td>\n",
       "    </tr>\n",
       "  </tbody>\n",
       "</table>\n"
      ],
      "text/plain": [
       "<pandas.io.formats.style.Styler at 0xfffe83225810>"
      ]
     },
     "metadata": {},
     "output_type": "display_data"
    }
   ],
   "source": [
    "# Import necessary libraries\n",
    "import pandas as pd\n",
    "import yaml\n",
    "\n",
    "def display_study(study: optuna.study.Study) -> None:\n",
    "    # Convert trials to a DataFrame\n",
    "    df_trials: pd.DataFrame = study.trials_dataframe()\n",
    "    df_trials = df_trials.dropna(ignore_index=True)\n",
    "\n",
    "    # Extract scores from user_attrs and concatenate with trial data\n",
    "    df_scores = pd.DataFrame.from_records(df_trials['user_attrs_scores'])\n",
    "    df_results = pd.concat([df_scores, df_trials], axis=1)\n",
    "\n",
    "    # Set the index and drop unnecessary columns\n",
    "    df_results = df_results.set_index(\"number\")\n",
    "    df_results = df_results.drop([\n",
    "        'datetime_complete', \n",
    "        \"datetime_start\", \n",
    "        \"duration\", \n",
    "        'value', \n",
    "        'user_attrs_scores'\n",
    "        ], axis=1)\n",
    "\n",
    "    # Sort the results by the favorite metric (test_f1 in this case)\n",
    "    df_results = df_results.sort_values('test_f1', ascending=False)\n",
    "\n",
    "    # Apply some styling to the DataFrame\n",
    "    df_style = df_results.style\n",
    "    df_style.bar(df_results.columns[:2], color='LightSalmon', width=50, height=20)\n",
    "    df_style.format(precision=2, subset=df_results.columns[:2])\n",
    "    df_style.highlight_max(\n",
    "        subset=df_results.columns[2:7], \n",
    "        props=\"background-color:lightblue;color:black\"\n",
    "        )\n",
    "\n",
    "    # Plot the optimization history\n",
    "    fig = optuna.visualization.plot_optimization_history(study)\n",
    "    fig.show()\n",
    "\n",
    "    # Display the styled DataFrame\n",
    "    display(df_style)\n",
    "\n",
    "# Print information about the best trial\n",
    "print(yaml.safe_dump({\n",
    "    'best_trial': study.best_trial.number, \n",
    "    'params': study.best_params, \n",
    "    'scores': study.best_trial.user_attrs['scores'],\n",
    "}))\n",
    "\n",
    "# Display the study results and plots\n",
    "display_study(study)\n"
   ]
  },
  {
   "cell_type": "code",
   "execution_count": null,
   "metadata": {},
   "outputs": [],
   "source": []
  }
 ],
 "metadata": {
  "kernelspec": {
   "display_name": "phishing",
   "language": "python",
   "name": "python3"
  },
  "language_info": {
   "codemirror_mode": {
    "name": "ipython",
    "version": 3
   },
   "file_extension": ".py",
   "mimetype": "text/x-python",
   "name": "python",
   "nbconvert_exporter": "python",
   "pygments_lexer": "ipython3",
   "version": "3.10.13"
  }
 },
 "nbformat": 4,
 "nbformat_minor": 2
}
